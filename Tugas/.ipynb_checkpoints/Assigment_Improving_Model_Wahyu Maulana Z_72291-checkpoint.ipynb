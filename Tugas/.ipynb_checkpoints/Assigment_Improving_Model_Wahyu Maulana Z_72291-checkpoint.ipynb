{
 "cells": [
  {
   "cell_type": "markdown",
   "id": "2be740a6",
   "metadata": {},
   "source": [
    "# Import library"
   ]
  },
  {
   "cell_type": "code",
   "execution_count": 1,
   "id": "951e03aa",
   "metadata": {
    "ExecuteTime": {
     "end_time": "2022-11-18T14:26:11.312159Z",
     "start_time": "2022-11-18T14:26:09.317214Z"
    }
   },
   "outputs": [],
   "source": [
    "import numpy as np\n",
    "import pandas as pd\n",
    "import seaborn as sns\n",
    "import matplotlib.pyplot as plt\n",
    "\n",
    "from sklearn.ensemble import RandomForestClassifier\n",
    "from sklearn.model_selection import StratifiedKFold\n",
    "from sklearn.model_selection import RandomizedSearchCV\n",
    "import time\n"
   ]
  },
  {
   "cell_type": "markdown",
   "id": "bee974b6",
   "metadata": {},
   "source": [
    "# Load Data"
   ]
  },
  {
   "cell_type": "code",
   "execution_count": 2,
   "id": "7d3c753a",
   "metadata": {
    "ExecuteTime": {
     "end_time": "2022-11-18T14:26:11.343333Z",
     "start_time": "2022-11-18T14:26:11.313963Z"
    }
   },
   "outputs": [],
   "source": [
    "df=pd.read_csv('BankChurn_train.csv', index_col=0)"
   ]
  },
  {
   "cell_type": "markdown",
   "id": "edfdb13e",
   "metadata": {},
   "source": [
    "# EDA"
   ]
  },
  {
   "cell_type": "markdown",
   "id": "6e0beee5",
   "metadata": {},
   "source": [
    "## Check  Data"
   ]
  },
  {
   "cell_type": "code",
   "execution_count": 3,
   "id": "61df6529",
   "metadata": {
    "ExecuteTime": {
     "end_time": "2022-11-18T14:26:11.374916Z",
     "start_time": "2022-11-18T14:26:11.344277Z"
    }
   },
   "outputs": [
    {
     "data": {
      "text/html": [
       "<div>\n",
       "<style scoped>\n",
       "    .dataframe tbody tr th:only-of-type {\n",
       "        vertical-align: middle;\n",
       "    }\n",
       "\n",
       "    .dataframe tbody tr th {\n",
       "        vertical-align: top;\n",
       "    }\n",
       "\n",
       "    .dataframe thead th {\n",
       "        text-align: right;\n",
       "    }\n",
       "</style>\n",
       "<table border=\"1\" class=\"dataframe\">\n",
       "  <thead>\n",
       "    <tr style=\"text-align: right;\">\n",
       "      <th></th>\n",
       "      <th>Customer_Age</th>\n",
       "      <th>Gender</th>\n",
       "      <th>Dependent_count</th>\n",
       "      <th>Education_Level</th>\n",
       "      <th>Marital_Status</th>\n",
       "      <th>Income_Category</th>\n",
       "      <th>Card_Category</th>\n",
       "      <th>Months_on_book</th>\n",
       "      <th>Total_Relationship_Count</th>\n",
       "      <th>Months_Inactive_12_mon</th>\n",
       "      <th>Contacts_Count_12_mon</th>\n",
       "      <th>Credit_Limit</th>\n",
       "      <th>Total_Revolving_Bal</th>\n",
       "      <th>Avg_Open_To_Buy</th>\n",
       "      <th>Total_Amt_Chng_Q4_Q1</th>\n",
       "      <th>Total_Trans_Amt</th>\n",
       "      <th>Total_Trans_Ct</th>\n",
       "      <th>Total_Ct_Chng_Q4_Q1</th>\n",
       "      <th>Avg_Utilization_Ratio</th>\n",
       "      <th>Attrition_Flag</th>\n",
       "    </tr>\n",
       "    <tr>\n",
       "      <th>CLIENTNUM</th>\n",
       "      <th></th>\n",
       "      <th></th>\n",
       "      <th></th>\n",
       "      <th></th>\n",
       "      <th></th>\n",
       "      <th></th>\n",
       "      <th></th>\n",
       "      <th></th>\n",
       "      <th></th>\n",
       "      <th></th>\n",
       "      <th></th>\n",
       "      <th></th>\n",
       "      <th></th>\n",
       "      <th></th>\n",
       "      <th></th>\n",
       "      <th></th>\n",
       "      <th></th>\n",
       "      <th></th>\n",
       "      <th></th>\n",
       "      <th></th>\n",
       "    </tr>\n",
       "  </thead>\n",
       "  <tbody>\n",
       "    <tr>\n",
       "      <th>772382283</th>\n",
       "      <td>46</td>\n",
       "      <td>F</td>\n",
       "      <td>3</td>\n",
       "      <td>Graduate</td>\n",
       "      <td>Married</td>\n",
       "      <td>Less than $40K</td>\n",
       "      <td>Blue</td>\n",
       "      <td>36</td>\n",
       "      <td>3</td>\n",
       "      <td>3</td>\n",
       "      <td>3</td>\n",
       "      <td>2302.0</td>\n",
       "      <td>1593</td>\n",
       "      <td>709.0</td>\n",
       "      <td>0.671</td>\n",
       "      <td>2689</td>\n",
       "      <td>49</td>\n",
       "      <td>0.324</td>\n",
       "      <td>0.692</td>\n",
       "      <td>Attrited Customer</td>\n",
       "    </tr>\n",
       "    <tr>\n",
       "      <th>709206333</th>\n",
       "      <td>44</td>\n",
       "      <td>F</td>\n",
       "      <td>4</td>\n",
       "      <td>Graduate</td>\n",
       "      <td>Single</td>\n",
       "      <td>$40K - $60K</td>\n",
       "      <td>Blue</td>\n",
       "      <td>30</td>\n",
       "      <td>3</td>\n",
       "      <td>4</td>\n",
       "      <td>4</td>\n",
       "      <td>4333.0</td>\n",
       "      <td>0</td>\n",
       "      <td>4333.0</td>\n",
       "      <td>0.463</td>\n",
       "      <td>1558</td>\n",
       "      <td>40</td>\n",
       "      <td>0.538</td>\n",
       "      <td>0.000</td>\n",
       "      <td>Attrited Customer</td>\n",
       "    </tr>\n",
       "    <tr>\n",
       "      <th>714887808</th>\n",
       "      <td>43</td>\n",
       "      <td>F</td>\n",
       "      <td>1</td>\n",
       "      <td>Uneducated</td>\n",
       "      <td>Single</td>\n",
       "      <td>Less than $40K</td>\n",
       "      <td>Blue</td>\n",
       "      <td>36</td>\n",
       "      <td>1</td>\n",
       "      <td>3</td>\n",
       "      <td>2</td>\n",
       "      <td>1818.0</td>\n",
       "      <td>0</td>\n",
       "      <td>1818.0</td>\n",
       "      <td>0.758</td>\n",
       "      <td>2279</td>\n",
       "      <td>50</td>\n",
       "      <td>0.724</td>\n",
       "      <td>0.000</td>\n",
       "      <td>Attrited Customer</td>\n",
       "    </tr>\n",
       "    <tr>\n",
       "      <th>709531908</th>\n",
       "      <td>53</td>\n",
       "      <td>M</td>\n",
       "      <td>3</td>\n",
       "      <td>High School</td>\n",
       "      <td>Married</td>\n",
       "      <td>$60K - $80K</td>\n",
       "      <td>Blue</td>\n",
       "      <td>47</td>\n",
       "      <td>5</td>\n",
       "      <td>2</td>\n",
       "      <td>2</td>\n",
       "      <td>1438.3</td>\n",
       "      <td>0</td>\n",
       "      <td>1438.3</td>\n",
       "      <td>0.776</td>\n",
       "      <td>2184</td>\n",
       "      <td>53</td>\n",
       "      <td>0.828</td>\n",
       "      <td>0.000</td>\n",
       "      <td>Existing Customer</td>\n",
       "    </tr>\n",
       "    <tr>\n",
       "      <th>739692933</th>\n",
       "      <td>46</td>\n",
       "      <td>F</td>\n",
       "      <td>2</td>\n",
       "      <td>Unknown</td>\n",
       "      <td>Single</td>\n",
       "      <td>$40K - $60K</td>\n",
       "      <td>Blue</td>\n",
       "      <td>29</td>\n",
       "      <td>4</td>\n",
       "      <td>2</td>\n",
       "      <td>4</td>\n",
       "      <td>3126.0</td>\n",
       "      <td>2517</td>\n",
       "      <td>609.0</td>\n",
       "      <td>1.235</td>\n",
       "      <td>1638</td>\n",
       "      <td>41</td>\n",
       "      <td>0.519</td>\n",
       "      <td>0.805</td>\n",
       "      <td>Existing Customer</td>\n",
       "    </tr>\n",
       "  </tbody>\n",
       "</table>\n",
       "</div>"
      ],
      "text/plain": [
       "           Customer_Age Gender  Dependent_count Education_Level  \\\n",
       "CLIENTNUM                                                         \n",
       "772382283            46      F                3        Graduate   \n",
       "709206333            44      F                4        Graduate   \n",
       "714887808            43      F                1      Uneducated   \n",
       "709531908            53      M                3     High School   \n",
       "739692933            46      F                2         Unknown   \n",
       "\n",
       "          Marital_Status Income_Category Card_Category  Months_on_book  \\\n",
       "CLIENTNUM                                                                \n",
       "772382283        Married  Less than $40K          Blue              36   \n",
       "709206333         Single     $40K - $60K          Blue              30   \n",
       "714887808         Single  Less than $40K          Blue              36   \n",
       "709531908        Married     $60K - $80K          Blue              47   \n",
       "739692933         Single     $40K - $60K          Blue              29   \n",
       "\n",
       "           Total_Relationship_Count  Months_Inactive_12_mon  \\\n",
       "CLIENTNUM                                                     \n",
       "772382283                         3                       3   \n",
       "709206333                         3                       4   \n",
       "714887808                         1                       3   \n",
       "709531908                         5                       2   \n",
       "739692933                         4                       2   \n",
       "\n",
       "           Contacts_Count_12_mon  Credit_Limit  Total_Revolving_Bal  \\\n",
       "CLIENTNUM                                                             \n",
       "772382283                      3        2302.0                 1593   \n",
       "709206333                      4        4333.0                    0   \n",
       "714887808                      2        1818.0                    0   \n",
       "709531908                      2        1438.3                    0   \n",
       "739692933                      4        3126.0                 2517   \n",
       "\n",
       "           Avg_Open_To_Buy  Total_Amt_Chng_Q4_Q1  Total_Trans_Amt  \\\n",
       "CLIENTNUM                                                           \n",
       "772382283            709.0                 0.671             2689   \n",
       "709206333           4333.0                 0.463             1558   \n",
       "714887808           1818.0                 0.758             2279   \n",
       "709531908           1438.3                 0.776             2184   \n",
       "739692933            609.0                 1.235             1638   \n",
       "\n",
       "           Total_Trans_Ct  Total_Ct_Chng_Q4_Q1  Avg_Utilization_Ratio  \\\n",
       "CLIENTNUM                                                               \n",
       "772382283              49                0.324                  0.692   \n",
       "709206333              40                0.538                  0.000   \n",
       "714887808              50                0.724                  0.000   \n",
       "709531908              53                0.828                  0.000   \n",
       "739692933              41                0.519                  0.805   \n",
       "\n",
       "              Attrition_Flag  \n",
       "CLIENTNUM                     \n",
       "772382283  Attrited Customer  \n",
       "709206333  Attrited Customer  \n",
       "714887808  Attrited Customer  \n",
       "709531908  Existing Customer  \n",
       "739692933  Existing Customer  "
      ]
     },
     "execution_count": 3,
     "metadata": {},
     "output_type": "execute_result"
    }
   ],
   "source": [
    "df.head()"
   ]
  },
  {
   "cell_type": "code",
   "execution_count": 4,
   "id": "73830e02",
   "metadata": {
    "ExecuteTime": {
     "end_time": "2022-11-18T14:26:11.406675Z",
     "start_time": "2022-11-18T14:26:11.377796Z"
    }
   },
   "outputs": [
    {
     "name": "stdout",
     "output_type": "stream",
     "text": [
      "<class 'pandas.core.frame.DataFrame'>\n",
      "Int64Index: 9114 entries, 772382283 to 770038983\n",
      "Data columns (total 20 columns):\n",
      " #   Column                    Non-Null Count  Dtype  \n",
      "---  ------                    --------------  -----  \n",
      " 0   Customer_Age              9114 non-null   int64  \n",
      " 1   Gender                    9114 non-null   object \n",
      " 2   Dependent_count           9114 non-null   int64  \n",
      " 3   Education_Level           9114 non-null   object \n",
      " 4   Marital_Status            9114 non-null   object \n",
      " 5   Income_Category           9114 non-null   object \n",
      " 6   Card_Category             9114 non-null   object \n",
      " 7   Months_on_book            9114 non-null   int64  \n",
      " 8   Total_Relationship_Count  9114 non-null   int64  \n",
      " 9   Months_Inactive_12_mon    9114 non-null   int64  \n",
      " 10  Contacts_Count_12_mon     9114 non-null   int64  \n",
      " 11  Credit_Limit              9114 non-null   float64\n",
      " 12  Total_Revolving_Bal       9114 non-null   int64  \n",
      " 13  Avg_Open_To_Buy           9114 non-null   float64\n",
      " 14  Total_Amt_Chng_Q4_Q1      9114 non-null   float64\n",
      " 15  Total_Trans_Amt           9114 non-null   int64  \n",
      " 16  Total_Trans_Ct            9114 non-null   int64  \n",
      " 17  Total_Ct_Chng_Q4_Q1       9114 non-null   float64\n",
      " 18  Avg_Utilization_Ratio     9114 non-null   float64\n",
      " 19  Attrition_Flag            9114 non-null   object \n",
      "dtypes: float64(5), int64(9), object(6)\n",
      "memory usage: 1.5+ MB\n"
     ]
    }
   ],
   "source": [
    "df.info()"
   ]
  },
  {
   "cell_type": "code",
   "execution_count": 5,
   "id": "192710ba",
   "metadata": {
    "ExecuteTime": {
     "end_time": "2022-11-18T14:26:11.454635Z",
     "start_time": "2022-11-18T14:26:11.408621Z"
    }
   },
   "outputs": [
    {
     "data": {
      "text/html": [
       "<div>\n",
       "<style scoped>\n",
       "    .dataframe tbody tr th:only-of-type {\n",
       "        vertical-align: middle;\n",
       "    }\n",
       "\n",
       "    .dataframe tbody tr th {\n",
       "        vertical-align: top;\n",
       "    }\n",
       "\n",
       "    .dataframe thead th {\n",
       "        text-align: right;\n",
       "    }\n",
       "</style>\n",
       "<table border=\"1\" class=\"dataframe\">\n",
       "  <thead>\n",
       "    <tr style=\"text-align: right;\">\n",
       "      <th></th>\n",
       "      <th>Customer_Age</th>\n",
       "      <th>Dependent_count</th>\n",
       "      <th>Months_on_book</th>\n",
       "      <th>Total_Relationship_Count</th>\n",
       "      <th>Months_Inactive_12_mon</th>\n",
       "      <th>Contacts_Count_12_mon</th>\n",
       "      <th>Credit_Limit</th>\n",
       "      <th>Total_Revolving_Bal</th>\n",
       "      <th>Avg_Open_To_Buy</th>\n",
       "      <th>Total_Amt_Chng_Q4_Q1</th>\n",
       "      <th>Total_Trans_Amt</th>\n",
       "      <th>Total_Trans_Ct</th>\n",
       "      <th>Total_Ct_Chng_Q4_Q1</th>\n",
       "      <th>Avg_Utilization_Ratio</th>\n",
       "    </tr>\n",
       "  </thead>\n",
       "  <tbody>\n",
       "    <tr>\n",
       "      <th>count</th>\n",
       "      <td>9114.000000</td>\n",
       "      <td>9114.000000</td>\n",
       "      <td>9114.000000</td>\n",
       "      <td>9114.000000</td>\n",
       "      <td>9114.000000</td>\n",
       "      <td>9114.000000</td>\n",
       "      <td>9114.000000</td>\n",
       "      <td>9114.000000</td>\n",
       "      <td>9114.000000</td>\n",
       "      <td>9114.000000</td>\n",
       "      <td>9114.000000</td>\n",
       "      <td>9114.000000</td>\n",
       "      <td>9114.000000</td>\n",
       "      <td>9114.000000</td>\n",
       "    </tr>\n",
       "    <tr>\n",
       "      <th>mean</th>\n",
       "      <td>46.310731</td>\n",
       "      <td>2.343099</td>\n",
       "      <td>35.900373</td>\n",
       "      <td>3.812157</td>\n",
       "      <td>2.335967</td>\n",
       "      <td>2.453807</td>\n",
       "      <td>8658.549989</td>\n",
       "      <td>1163.607307</td>\n",
       "      <td>7494.942682</td>\n",
       "      <td>0.760852</td>\n",
       "      <td>4405.373491</td>\n",
       "      <td>64.901251</td>\n",
       "      <td>0.712268</td>\n",
       "      <td>0.274962</td>\n",
       "    </tr>\n",
       "    <tr>\n",
       "      <th>std</th>\n",
       "      <td>8.013609</td>\n",
       "      <td>1.295568</td>\n",
       "      <td>8.008976</td>\n",
       "      <td>1.558276</td>\n",
       "      <td>1.009190</td>\n",
       "      <td>1.108166</td>\n",
       "      <td>9140.413465</td>\n",
       "      <td>815.577483</td>\n",
       "      <td>9142.206208</td>\n",
       "      <td>0.220277</td>\n",
       "      <td>3390.860975</td>\n",
       "      <td>23.498975</td>\n",
       "      <td>0.237524</td>\n",
       "      <td>0.275580</td>\n",
       "    </tr>\n",
       "    <tr>\n",
       "      <th>min</th>\n",
       "      <td>26.000000</td>\n",
       "      <td>0.000000</td>\n",
       "      <td>13.000000</td>\n",
       "      <td>1.000000</td>\n",
       "      <td>0.000000</td>\n",
       "      <td>0.000000</td>\n",
       "      <td>1438.300000</td>\n",
       "      <td>0.000000</td>\n",
       "      <td>3.000000</td>\n",
       "      <td>0.000000</td>\n",
       "      <td>510.000000</td>\n",
       "      <td>10.000000</td>\n",
       "      <td>0.000000</td>\n",
       "      <td>0.000000</td>\n",
       "    </tr>\n",
       "    <tr>\n",
       "      <th>25%</th>\n",
       "      <td>41.000000</td>\n",
       "      <td>1.000000</td>\n",
       "      <td>31.000000</td>\n",
       "      <td>3.000000</td>\n",
       "      <td>2.000000</td>\n",
       "      <td>2.000000</td>\n",
       "      <td>2559.250000</td>\n",
       "      <td>384.500000</td>\n",
       "      <td>1329.250000</td>\n",
       "      <td>0.631000</td>\n",
       "      <td>2162.250000</td>\n",
       "      <td>45.000000</td>\n",
       "      <td>0.583000</td>\n",
       "      <td>0.023000</td>\n",
       "    </tr>\n",
       "    <tr>\n",
       "      <th>50%</th>\n",
       "      <td>46.000000</td>\n",
       "      <td>2.000000</td>\n",
       "      <td>36.000000</td>\n",
       "      <td>4.000000</td>\n",
       "      <td>2.000000</td>\n",
       "      <td>2.000000</td>\n",
       "      <td>4537.000000</td>\n",
       "      <td>1276.000000</td>\n",
       "      <td>3454.500000</td>\n",
       "      <td>0.737000</td>\n",
       "      <td>3895.000000</td>\n",
       "      <td>67.000000</td>\n",
       "      <td>0.700000</td>\n",
       "      <td>0.176000</td>\n",
       "    </tr>\n",
       "    <tr>\n",
       "      <th>75%</th>\n",
       "      <td>52.000000</td>\n",
       "      <td>3.000000</td>\n",
       "      <td>40.000000</td>\n",
       "      <td>5.000000</td>\n",
       "      <td>3.000000</td>\n",
       "      <td>3.000000</td>\n",
       "      <td>11061.500000</td>\n",
       "      <td>1785.750000</td>\n",
       "      <td>9871.500000</td>\n",
       "      <td>0.860000</td>\n",
       "      <td>4742.750000</td>\n",
       "      <td>81.000000</td>\n",
       "      <td>0.818000</td>\n",
       "      <td>0.503000</td>\n",
       "    </tr>\n",
       "    <tr>\n",
       "      <th>max</th>\n",
       "      <td>73.000000</td>\n",
       "      <td>5.000000</td>\n",
       "      <td>56.000000</td>\n",
       "      <td>6.000000</td>\n",
       "      <td>6.000000</td>\n",
       "      <td>6.000000</td>\n",
       "      <td>34516.000000</td>\n",
       "      <td>2517.000000</td>\n",
       "      <td>34516.000000</td>\n",
       "      <td>3.397000</td>\n",
       "      <td>18484.000000</td>\n",
       "      <td>139.000000</td>\n",
       "      <td>3.714000</td>\n",
       "      <td>0.999000</td>\n",
       "    </tr>\n",
       "  </tbody>\n",
       "</table>\n",
       "</div>"
      ],
      "text/plain": [
       "       Customer_Age  Dependent_count  Months_on_book  \\\n",
       "count   9114.000000      9114.000000     9114.000000   \n",
       "mean      46.310731         2.343099       35.900373   \n",
       "std        8.013609         1.295568        8.008976   \n",
       "min       26.000000         0.000000       13.000000   \n",
       "25%       41.000000         1.000000       31.000000   \n",
       "50%       46.000000         2.000000       36.000000   \n",
       "75%       52.000000         3.000000       40.000000   \n",
       "max       73.000000         5.000000       56.000000   \n",
       "\n",
       "       Total_Relationship_Count  Months_Inactive_12_mon  \\\n",
       "count               9114.000000             9114.000000   \n",
       "mean                   3.812157                2.335967   \n",
       "std                    1.558276                1.009190   \n",
       "min                    1.000000                0.000000   \n",
       "25%                    3.000000                2.000000   \n",
       "50%                    4.000000                2.000000   \n",
       "75%                    5.000000                3.000000   \n",
       "max                    6.000000                6.000000   \n",
       "\n",
       "       Contacts_Count_12_mon  Credit_Limit  Total_Revolving_Bal  \\\n",
       "count            9114.000000   9114.000000          9114.000000   \n",
       "mean                2.453807   8658.549989          1163.607307   \n",
       "std                 1.108166   9140.413465           815.577483   \n",
       "min                 0.000000   1438.300000             0.000000   \n",
       "25%                 2.000000   2559.250000           384.500000   \n",
       "50%                 2.000000   4537.000000          1276.000000   \n",
       "75%                 3.000000  11061.500000          1785.750000   \n",
       "max                 6.000000  34516.000000          2517.000000   \n",
       "\n",
       "       Avg_Open_To_Buy  Total_Amt_Chng_Q4_Q1  Total_Trans_Amt  Total_Trans_Ct  \\\n",
       "count      9114.000000           9114.000000      9114.000000     9114.000000   \n",
       "mean       7494.942682              0.760852      4405.373491       64.901251   \n",
       "std        9142.206208              0.220277      3390.860975       23.498975   \n",
       "min           3.000000              0.000000       510.000000       10.000000   \n",
       "25%        1329.250000              0.631000      2162.250000       45.000000   \n",
       "50%        3454.500000              0.737000      3895.000000       67.000000   \n",
       "75%        9871.500000              0.860000      4742.750000       81.000000   \n",
       "max       34516.000000              3.397000     18484.000000      139.000000   \n",
       "\n",
       "       Total_Ct_Chng_Q4_Q1  Avg_Utilization_Ratio  \n",
       "count          9114.000000            9114.000000  \n",
       "mean              0.712268               0.274962  \n",
       "std               0.237524               0.275580  \n",
       "min               0.000000               0.000000  \n",
       "25%               0.583000               0.023000  \n",
       "50%               0.700000               0.176000  \n",
       "75%               0.818000               0.503000  \n",
       "max               3.714000               0.999000  "
      ]
     },
     "execution_count": 5,
     "metadata": {},
     "output_type": "execute_result"
    }
   ],
   "source": [
    "df.describe()"
   ]
  },
  {
   "cell_type": "markdown",
   "id": "d825355a",
   "metadata": {},
   "source": [
    "## Gender Pie Chart"
   ]
  },
  {
   "cell_type": "code",
   "execution_count": 6,
   "id": "c072dd9d",
   "metadata": {
    "ExecuteTime": {
     "end_time": "2022-11-18T14:26:11.470624Z",
     "start_time": "2022-11-18T14:26:11.456620Z"
    }
   },
   "outputs": [],
   "source": [
    "df1=df.reset_index()"
   ]
  },
  {
   "cell_type": "code",
   "execution_count": 7,
   "id": "e36cdfd6",
   "metadata": {
    "ExecuteTime": {
     "end_time": "2022-11-18T14:26:11.486622Z",
     "start_time": "2022-11-18T14:26:11.473623Z"
    }
   },
   "outputs": [
    {
     "data": {
      "text/html": [
       "<div>\n",
       "<style scoped>\n",
       "    .dataframe tbody tr th:only-of-type {\n",
       "        vertical-align: middle;\n",
       "    }\n",
       "\n",
       "    .dataframe tbody tr th {\n",
       "        vertical-align: top;\n",
       "    }\n",
       "\n",
       "    .dataframe thead th {\n",
       "        text-align: right;\n",
       "    }\n",
       "</style>\n",
       "<table border=\"1\" class=\"dataframe\">\n",
       "  <thead>\n",
       "    <tr style=\"text-align: right;\">\n",
       "      <th></th>\n",
       "      <th>CLIENTNUM</th>\n",
       "    </tr>\n",
       "    <tr>\n",
       "      <th>Gender</th>\n",
       "      <th></th>\n",
       "    </tr>\n",
       "  </thead>\n",
       "  <tbody>\n",
       "    <tr>\n",
       "      <th>F</th>\n",
       "      <td>4803</td>\n",
       "    </tr>\n",
       "    <tr>\n",
       "      <th>M</th>\n",
       "      <td>4311</td>\n",
       "    </tr>\n",
       "  </tbody>\n",
       "</table>\n",
       "</div>"
      ],
      "text/plain": [
       "        CLIENTNUM\n",
       "Gender           \n",
       "F            4803\n",
       "M            4311"
      ]
     },
     "execution_count": 7,
     "metadata": {},
     "output_type": "execute_result"
    }
   ],
   "source": [
    "hitung_gender=df1.groupby('Gender')[['CLIENTNUM']].count()\n",
    "hitung_gender"
   ]
  },
  {
   "cell_type": "code",
   "execution_count": 8,
   "id": "b89fe344",
   "metadata": {
    "ExecuteTime": {
     "end_time": "2022-11-18T14:26:11.819624Z",
     "start_time": "2022-11-18T14:26:11.488620Z"
    }
   },
   "outputs": [
    {
     "data": {
      "text/plain": [
       "array([<AxesSubplot:ylabel='CLIENTNUM'>], dtype=object)"
      ]
     },
     "execution_count": 8,
     "metadata": {},
     "output_type": "execute_result"
    },
    {
     "data": {
      "image/png": "[encoded data removed]",
      "text/plain": [
       "<Figure size 792x432 with 1 Axes>"
      ]
     },
     "metadata": {},
     "output_type": "display_data"
    }
   ],
   "source": [
    "hitung_gender.plot.pie( y='CLIENTNUM', rot=0, subplots=True, figsize=(11, 6))"
   ]
  },
  {
   "cell_type": "markdown",
   "id": "8cf02ec9",
   "metadata": {
    "ExecuteTime": {
     "end_time": "2022-11-15T13:45:02.050798Z",
     "start_time": "2022-11-15T13:45:02.029943Z"
    }
   },
   "source": [
    "Based on the pie chart above, the number of female customers is 52% and 47% male, so there are more female customers than males"
   ]
  },
  {
   "cell_type": "markdown",
   "id": "fe10827d",
   "metadata": {},
   "source": [
    "## Income Category Bar Chart"
   ]
  },
  {
   "cell_type": "code",
   "execution_count": 9,
   "id": "a280672e",
   "metadata": {
    "ExecuteTime": {
     "end_time": "2022-11-18T14:26:11.835623Z",
     "start_time": "2022-11-18T14:26:11.822624Z"
    }
   },
   "outputs": [
    {
     "data": {
      "text/html": [
       "<div>\n",
       "<style scoped>\n",
       "    .dataframe tbody tr th:only-of-type {\n",
       "        vertical-align: middle;\n",
       "    }\n",
       "\n",
       "    .dataframe tbody tr th {\n",
       "        vertical-align: top;\n",
       "    }\n",
       "\n",
       "    .dataframe thead th {\n",
       "        text-align: right;\n",
       "    }\n",
       "</style>\n",
       "<table border=\"1\" class=\"dataframe\">\n",
       "  <thead>\n",
       "    <tr style=\"text-align: right;\">\n",
       "      <th></th>\n",
       "      <th>CLIENTNUM</th>\n",
       "    </tr>\n",
       "    <tr>\n",
       "      <th>Income_Category</th>\n",
       "      <th></th>\n",
       "    </tr>\n",
       "  </thead>\n",
       "  <tbody>\n",
       "    <tr>\n",
       "      <th>$120K +</th>\n",
       "      <td>648</td>\n",
       "    </tr>\n",
       "    <tr>\n",
       "      <th>$40K - $60K</th>\n",
       "      <td>1608</td>\n",
       "    </tr>\n",
       "    <tr>\n",
       "      <th>$60K - $80K</th>\n",
       "      <td>1250</td>\n",
       "    </tr>\n",
       "    <tr>\n",
       "      <th>$80K - $120K</th>\n",
       "      <td>1408</td>\n",
       "    </tr>\n",
       "    <tr>\n",
       "      <th>Less than $40K</th>\n",
       "      <td>3211</td>\n",
       "    </tr>\n",
       "    <tr>\n",
       "      <th>Unknown</th>\n",
       "      <td>989</td>\n",
       "    </tr>\n",
       "  </tbody>\n",
       "</table>\n",
       "</div>"
      ],
      "text/plain": [
       "                 CLIENTNUM\n",
       "Income_Category           \n",
       "$120K +                648\n",
       "$40K - $60K           1608\n",
       "$60K - $80K           1250\n",
       "$80K - $120K          1408\n",
       "Less than $40K        3211\n",
       "Unknown                989"
      ]
     },
     "execution_count": 9,
     "metadata": {},
     "output_type": "execute_result"
    }
   ],
   "source": [
    "hitung_income=df1.groupby('Income_Category')[['CLIENTNUM']].count()\n",
    "hitung_income"
   ]
  },
  {
   "cell_type": "code",
   "execution_count": 10,
   "id": "321b2e32",
   "metadata": {
    "ExecuteTime": {
     "end_time": "2022-11-18T14:26:12.135328Z",
     "start_time": "2022-11-18T14:26:11.839622Z"
    }
   },
   "outputs": [
    {
     "data": {
      "text/plain": [
       "<AxesSubplot:xlabel='Income_Category'>"
      ]
     },
     "execution_count": 10,
     "metadata": {},
     "output_type": "execute_result"
    },
    {
     "data": {
      "image/png": "[encoded data removed]",
      "text/plain": [
       "<Figure size 432x288 with 1 Axes>"
      ]
     },
     "metadata": {
      "needs_background": "light"
     },
     "output_type": "display_data"
    }
   ],
   "source": [
    "hitung_income.plot.bar( y='CLIENTNUM')"
   ]
  },
  {
   "cell_type": "markdown",
   "id": "8b341a02",
   "metadata": {},
   "source": [
    "Based on the bar chart above, the highest number of customers are customers with an income of less than 40k, the second is customers with an income of 40k-60k"
   ]
  },
  {
   "cell_type": "markdown",
   "id": "7d635239",
   "metadata": {},
   "source": [
    "## Customer Age Box Plot"
   ]
  },
  {
   "cell_type": "code",
   "execution_count": 11,
   "id": "7a862b98",
   "metadata": {
    "ExecuteTime": {
     "end_time": "2022-11-18T14:26:12.262231Z",
     "start_time": "2022-11-18T14:26:12.137274Z"
    }
   },
   "outputs": [
    {
     "data": {
      "text/plain": [
       "Customer_Age    AxesSubplot(0.125,0.125;0.775x0.755)\n",
       "dtype: object"
      ]
     },
     "execution_count": 11,
     "metadata": {},
     "output_type": "execute_result"
    },
    {
     "data": {
      "image/png": "[encoded data removed]",
      "text/plain": [
       "<Figure size 720x576 with 1 Axes>"
      ]
     },
     "metadata": {
      "needs_background": "light"
     },
     "output_type": "display_data"
    }
   ],
   "source": [
    "df1.plot.box(column=\"Customer_Age\", by=\"Gender\", figsize=(10, 8))"
   ]
  },
  {
   "cell_type": "markdown",
   "id": "c203f5f8",
   "metadata": {},
   "source": [
    "Based on the box plot above, the ages of female and male customers are in the range of 25-65 years and there are 2 outliers in male customers who are over 65 years old, so it is better to do outlier handling."
   ]
  },
  {
   "cell_type": "markdown",
   "id": "818d5b54",
   "metadata": {},
   "source": [
    "## Card Category Bar Horizontal Chart"
   ]
  },
  {
   "cell_type": "code",
   "execution_count": 12,
   "id": "8c62dc2f",
   "metadata": {
    "ExecuteTime": {
     "end_time": "2022-11-18T14:26:12.278327Z",
     "start_time": "2022-11-18T14:26:12.264267Z"
    }
   },
   "outputs": [
    {
     "data": {
      "text/html": [
       "<div>\n",
       "<style scoped>\n",
       "    .dataframe tbody tr th:only-of-type {\n",
       "        vertical-align: middle;\n",
       "    }\n",
       "\n",
       "    .dataframe tbody tr th {\n",
       "        vertical-align: top;\n",
       "    }\n",
       "\n",
       "    .dataframe thead th {\n",
       "        text-align: right;\n",
       "    }\n",
       "</style>\n",
       "<table border=\"1\" class=\"dataframe\">\n",
       "  <thead>\n",
       "    <tr style=\"text-align: right;\">\n",
       "      <th></th>\n",
       "      <th>CLIENTNUM</th>\n",
       "    </tr>\n",
       "    <tr>\n",
       "      <th>Card_Category</th>\n",
       "      <th></th>\n",
       "    </tr>\n",
       "  </thead>\n",
       "  <tbody>\n",
       "    <tr>\n",
       "      <th>Blue</th>\n",
       "      <td>8488</td>\n",
       "    </tr>\n",
       "    <tr>\n",
       "      <th>Gold</th>\n",
       "      <td>107</td>\n",
       "    </tr>\n",
       "    <tr>\n",
       "      <th>Platinum</th>\n",
       "      <td>19</td>\n",
       "    </tr>\n",
       "    <tr>\n",
       "      <th>Silver</th>\n",
       "      <td>500</td>\n",
       "    </tr>\n",
       "  </tbody>\n",
       "</table>\n",
       "</div>"
      ],
      "text/plain": [
       "               CLIENTNUM\n",
       "Card_Category           \n",
       "Blue                8488\n",
       "Gold                 107\n",
       "Platinum              19\n",
       "Silver               500"
      ]
     },
     "execution_count": 12,
     "metadata": {},
     "output_type": "execute_result"
    }
   ],
   "source": [
    "hitung_card=df1.groupby('Card_Category')[['CLIENTNUM']].count()\n",
    "hitung_card"
   ]
  },
  {
   "cell_type": "code",
   "execution_count": 13,
   "id": "c5a1461a",
   "metadata": {
    "ExecuteTime": {
     "end_time": "2022-11-18T14:26:12.419969Z",
     "start_time": "2022-11-18T14:26:12.280234Z"
    }
   },
   "outputs": [
    {
     "data": {
      "text/plain": [
       "array([<AxesSubplot:title={'center':'CLIENTNUM'}, ylabel='Card_Category'>],\n",
       "      dtype=object)"
      ]
     },
     "execution_count": 13,
     "metadata": {},
     "output_type": "execute_result"
    },
    {
     "data": {
      "image/png": "[encoded data removed]",
      "text/plain": [
       "<Figure size 792x432 with 1 Axes>"
      ]
     },
     "metadata": {
      "needs_background": "light"
     },
     "output_type": "display_data"
    }
   ],
   "source": [
    "hitung_card.plot.barh( y='CLIENTNUM', rot=0, subplots=True, figsize=(11, 6))"
   ]
  },
  {
   "cell_type": "markdown",
   "id": "0f1f5a93",
   "metadata": {
    "ExecuteTime": {
     "end_time": "2022-11-15T13:52:15.199185Z",
     "start_time": "2022-11-15T13:52:15.189186Z"
    }
   },
   "source": [
    "Based on the bar chart above the most cards are blue cards"
   ]
  },
  {
   "cell_type": "markdown",
   "id": "ac390749",
   "metadata": {},
   "source": [
    "## Target Customer Pie Chart"
   ]
  },
  {
   "cell_type": "code",
   "execution_count": 14,
   "id": "011343a1",
   "metadata": {
    "ExecuteTime": {
     "end_time": "2022-11-18T14:26:12.435864Z",
     "start_time": "2022-11-18T14:26:12.421891Z"
    }
   },
   "outputs": [
    {
     "data": {
      "text/html": [
       "<div>\n",
       "<style scoped>\n",
       "    .dataframe tbody tr th:only-of-type {\n",
       "        vertical-align: middle;\n",
       "    }\n",
       "\n",
       "    .dataframe tbody tr th {\n",
       "        vertical-align: top;\n",
       "    }\n",
       "\n",
       "    .dataframe thead th {\n",
       "        text-align: right;\n",
       "    }\n",
       "</style>\n",
       "<table border=\"1\" class=\"dataframe\">\n",
       "  <thead>\n",
       "    <tr style=\"text-align: right;\">\n",
       "      <th></th>\n",
       "      <th>CLIENTNUM</th>\n",
       "    </tr>\n",
       "    <tr>\n",
       "      <th>Attrition_Flag</th>\n",
       "      <th></th>\n",
       "    </tr>\n",
       "  </thead>\n",
       "  <tbody>\n",
       "    <tr>\n",
       "      <th>Attrited Customer</th>\n",
       "      <td>1464</td>\n",
       "    </tr>\n",
       "    <tr>\n",
       "      <th>Existing Customer</th>\n",
       "      <td>7650</td>\n",
       "    </tr>\n",
       "  </tbody>\n",
       "</table>\n",
       "</div>"
      ],
      "text/plain": [
       "                   CLIENTNUM\n",
       "Attrition_Flag              \n",
       "Attrited Customer       1464\n",
       "Existing Customer       7650"
      ]
     },
     "execution_count": 14,
     "metadata": {},
     "output_type": "execute_result"
    }
   ],
   "source": [
    "hitung_attrition=df1.groupby('Attrition_Flag')[['CLIENTNUM']].count()\n",
    "hitung_attrition"
   ]
  },
  {
   "cell_type": "code",
   "execution_count": 15,
   "id": "6bc52c5c",
   "metadata": {
    "ExecuteTime": {
     "end_time": "2022-11-18T14:26:12.624594Z",
     "start_time": "2022-11-18T14:26:12.437883Z"
    }
   },
   "outputs": [
    {
     "data": {
      "text/plain": [
       "array([<AxesSubplot:ylabel='CLIENTNUM'>], dtype=object)"
      ]
     },
     "execution_count": 15,
     "metadata": {},
     "output_type": "execute_result"
    },
    {
     "data": {
      "image/png": "[encoded data removed]",
      "text/plain": [
       "<Figure size 792x432 with 1 Axes>"
      ]
     },
     "metadata": {},
     "output_type": "display_data"
    }
   ],
   "source": [
    "hitung_attrition.plot.pie( y='CLIENTNUM', rot=0, subplots=True, figsize=(11, 6))"
   ]
  },
  {
   "cell_type": "markdown",
   "id": "990a81f0",
   "metadata": {},
   "source": [
    "Based on the pie chart above, the percentage of existing customers is 16%, while attrited customers are 84%.\n",
    "because we will create a model to predict attrited customers that there will be an imbalance in the data above, so handling inbalance needs to be done."
   ]
  },
  {
   "cell_type": "markdown",
   "id": "aae6d6b5",
   "metadata": {},
   "source": [
    "# Data Preprocessing"
   ]
  },
  {
   "cell_type": "markdown",
   "id": "288e5fbb",
   "metadata": {},
   "source": [
    "## Encoding"
   ]
  },
  {
   "cell_type": "markdown",
   "id": "fb91c6bd",
   "metadata": {},
   "source": [
    "### Handling Categorical Gender"
   ]
  },
  {
   "cell_type": "code",
   "execution_count": 16,
   "id": "d39e19b8",
   "metadata": {
    "ExecuteTime": {
     "end_time": "2022-11-18T14:26:12.640641Z",
     "start_time": "2022-11-18T14:26:12.626549Z"
    }
   },
   "outputs": [
    {
     "data": {
      "text/plain": [
       "F    4803\n",
       "M    4311\n",
       "Name: Gender, dtype: int64"
      ]
     },
     "execution_count": 16,
     "metadata": {},
     "output_type": "execute_result"
    }
   ],
   "source": [
    "df['Gender'].value_counts()"
   ]
  },
  {
   "cell_type": "code",
   "execution_count": 17,
   "id": "a0a66330",
   "metadata": {
    "ExecuteTime": {
     "end_time": "2022-11-18T14:26:12.672468Z",
     "start_time": "2022-11-18T14:26:12.643552Z"
    }
   },
   "outputs": [],
   "source": [
    "female_enc=[]\n",
    "male_enc=[]\n",
    "\n",
    "for i in df['Gender']:\n",
    "    if i=='F':\n",
    "        female_enc.append(1)\n",
    "        male_enc.append(0)\n",
    "    elif i=='M':\n",
    "        female_enc.append(0)\n",
    "        male_enc.append(1)\n",
    "    else:\n",
    "        female_enc.append(None)\n",
    "        male_enc.append(None)\n",
    "        \n",
    "df['female_enc']=female_enc\n",
    "df['male_enc']=male_enc\n"
   ]
  },
  {
   "cell_type": "code",
   "execution_count": 18,
   "id": "c2229d76",
   "metadata": {
    "ExecuteTime": {
     "end_time": "2022-11-18T14:26:12.688516Z",
     "start_time": "2022-11-18T14:26:12.674511Z"
    }
   },
   "outputs": [],
   "source": [
    "df=df.drop(columns='Gender')"
   ]
  },
  {
   "cell_type": "code",
   "execution_count": 19,
   "id": "8d88a5fd",
   "metadata": {
    "ExecuteTime": {
     "end_time": "2022-11-18T14:26:12.720552Z",
     "start_time": "2022-11-18T14:26:12.691581Z"
    }
   },
   "outputs": [
    {
     "data": {
      "text/html": [
       "<div>\n",
       "<style scoped>\n",
       "    .dataframe tbody tr th:only-of-type {\n",
       "        vertical-align: middle;\n",
       "    }\n",
       "\n",
       "    .dataframe tbody tr th {\n",
       "        vertical-align: top;\n",
       "    }\n",
       "\n",
       "    .dataframe thead th {\n",
       "        text-align: right;\n",
       "    }\n",
       "</style>\n",
       "<table border=\"1\" class=\"dataframe\">\n",
       "  <thead>\n",
       "    <tr style=\"text-align: right;\">\n",
       "      <th></th>\n",
       "      <th>Customer_Age</th>\n",
       "      <th>Dependent_count</th>\n",
       "      <th>Education_Level</th>\n",
       "      <th>Marital_Status</th>\n",
       "      <th>Income_Category</th>\n",
       "      <th>Card_Category</th>\n",
       "      <th>Months_on_book</th>\n",
       "      <th>Total_Relationship_Count</th>\n",
       "      <th>Months_Inactive_12_mon</th>\n",
       "      <th>Contacts_Count_12_mon</th>\n",
       "      <th>...</th>\n",
       "      <th>Total_Revolving_Bal</th>\n",
       "      <th>Avg_Open_To_Buy</th>\n",
       "      <th>Total_Amt_Chng_Q4_Q1</th>\n",
       "      <th>Total_Trans_Amt</th>\n",
       "      <th>Total_Trans_Ct</th>\n",
       "      <th>Total_Ct_Chng_Q4_Q1</th>\n",
       "      <th>Avg_Utilization_Ratio</th>\n",
       "      <th>Attrition_Flag</th>\n",
       "      <th>female_enc</th>\n",
       "      <th>male_enc</th>\n",
       "    </tr>\n",
       "    <tr>\n",
       "      <th>CLIENTNUM</th>\n",
       "      <th></th>\n",
       "      <th></th>\n",
       "      <th></th>\n",
       "      <th></th>\n",
       "      <th></th>\n",
       "      <th></th>\n",
       "      <th></th>\n",
       "      <th></th>\n",
       "      <th></th>\n",
       "      <th></th>\n",
       "      <th></th>\n",
       "      <th></th>\n",
       "      <th></th>\n",
       "      <th></th>\n",
       "      <th></th>\n",
       "      <th></th>\n",
       "      <th></th>\n",
       "      <th></th>\n",
       "      <th></th>\n",
       "      <th></th>\n",
       "      <th></th>\n",
       "    </tr>\n",
       "  </thead>\n",
       "  <tbody>\n",
       "    <tr>\n",
       "      <th>772382283</th>\n",
       "      <td>46</td>\n",
       "      <td>3</td>\n",
       "      <td>Graduate</td>\n",
       "      <td>Married</td>\n",
       "      <td>Less than $40K</td>\n",
       "      <td>Blue</td>\n",
       "      <td>36</td>\n",
       "      <td>3</td>\n",
       "      <td>3</td>\n",
       "      <td>3</td>\n",
       "      <td>...</td>\n",
       "      <td>1593</td>\n",
       "      <td>709.0</td>\n",
       "      <td>0.671</td>\n",
       "      <td>2689</td>\n",
       "      <td>49</td>\n",
       "      <td>0.324</td>\n",
       "      <td>0.692</td>\n",
       "      <td>Attrited Customer</td>\n",
       "      <td>1</td>\n",
       "      <td>0</td>\n",
       "    </tr>\n",
       "    <tr>\n",
       "      <th>709206333</th>\n",
       "      <td>44</td>\n",
       "      <td>4</td>\n",
       "      <td>Graduate</td>\n",
       "      <td>Single</td>\n",
       "      <td>$40K - $60K</td>\n",
       "      <td>Blue</td>\n",
       "      <td>30</td>\n",
       "      <td>3</td>\n",
       "      <td>4</td>\n",
       "      <td>4</td>\n",
       "      <td>...</td>\n",
       "      <td>0</td>\n",
       "      <td>4333.0</td>\n",
       "      <td>0.463</td>\n",
       "      <td>1558</td>\n",
       "      <td>40</td>\n",
       "      <td>0.538</td>\n",
       "      <td>0.000</td>\n",
       "      <td>Attrited Customer</td>\n",
       "      <td>1</td>\n",
       "      <td>0</td>\n",
       "    </tr>\n",
       "    <tr>\n",
       "      <th>714887808</th>\n",
       "      <td>43</td>\n",
       "      <td>1</td>\n",
       "      <td>Uneducated</td>\n",
       "      <td>Single</td>\n",
       "      <td>Less than $40K</td>\n",
       "      <td>Blue</td>\n",
       "      <td>36</td>\n",
       "      <td>1</td>\n",
       "      <td>3</td>\n",
       "      <td>2</td>\n",
       "      <td>...</td>\n",
       "      <td>0</td>\n",
       "      <td>1818.0</td>\n",
       "      <td>0.758</td>\n",
       "      <td>2279</td>\n",
       "      <td>50</td>\n",
       "      <td>0.724</td>\n",
       "      <td>0.000</td>\n",
       "      <td>Attrited Customer</td>\n",
       "      <td>1</td>\n",
       "      <td>0</td>\n",
       "    </tr>\n",
       "    <tr>\n",
       "      <th>709531908</th>\n",
       "      <td>53</td>\n",
       "      <td>3</td>\n",
       "      <td>High School</td>\n",
       "      <td>Married</td>\n",
       "      <td>$60K - $80K</td>\n",
       "      <td>Blue</td>\n",
       "      <td>47</td>\n",
       "      <td>5</td>\n",
       "      <td>2</td>\n",
       "      <td>2</td>\n",
       "      <td>...</td>\n",
       "      <td>0</td>\n",
       "      <td>1438.3</td>\n",
       "      <td>0.776</td>\n",
       "      <td>2184</td>\n",
       "      <td>53</td>\n",
       "      <td>0.828</td>\n",
       "      <td>0.000</td>\n",
       "      <td>Existing Customer</td>\n",
       "      <td>0</td>\n",
       "      <td>1</td>\n",
       "    </tr>\n",
       "    <tr>\n",
       "      <th>739692933</th>\n",
       "      <td>46</td>\n",
       "      <td>2</td>\n",
       "      <td>Unknown</td>\n",
       "      <td>Single</td>\n",
       "      <td>$40K - $60K</td>\n",
       "      <td>Blue</td>\n",
       "      <td>29</td>\n",
       "      <td>4</td>\n",
       "      <td>2</td>\n",
       "      <td>4</td>\n",
       "      <td>...</td>\n",
       "      <td>2517</td>\n",
       "      <td>609.0</td>\n",
       "      <td>1.235</td>\n",
       "      <td>1638</td>\n",
       "      <td>41</td>\n",
       "      <td>0.519</td>\n",
       "      <td>0.805</td>\n",
       "      <td>Existing Customer</td>\n",
       "      <td>1</td>\n",
       "      <td>0</td>\n",
       "    </tr>\n",
       "    <tr>\n",
       "      <th>...</th>\n",
       "      <td>...</td>\n",
       "      <td>...</td>\n",
       "      <td>...</td>\n",
       "      <td>...</td>\n",
       "      <td>...</td>\n",
       "      <td>...</td>\n",
       "      <td>...</td>\n",
       "      <td>...</td>\n",
       "      <td>...</td>\n",
       "      <td>...</td>\n",
       "      <td>...</td>\n",
       "      <td>...</td>\n",
       "      <td>...</td>\n",
       "      <td>...</td>\n",
       "      <td>...</td>\n",
       "      <td>...</td>\n",
       "      <td>...</td>\n",
       "      <td>...</td>\n",
       "      <td>...</td>\n",
       "      <td>...</td>\n",
       "      <td>...</td>\n",
       "    </tr>\n",
       "    <tr>\n",
       "      <th>771215583</th>\n",
       "      <td>39</td>\n",
       "      <td>3</td>\n",
       "      <td>High School</td>\n",
       "      <td>Single</td>\n",
       "      <td>$60K - $80K</td>\n",
       "      <td>Blue</td>\n",
       "      <td>26</td>\n",
       "      <td>6</td>\n",
       "      <td>1</td>\n",
       "      <td>4</td>\n",
       "      <td>...</td>\n",
       "      <td>1475</td>\n",
       "      <td>23059.0</td>\n",
       "      <td>0.528</td>\n",
       "      <td>3505</td>\n",
       "      <td>60</td>\n",
       "      <td>0.935</td>\n",
       "      <td>0.060</td>\n",
       "      <td>Existing Customer</td>\n",
       "      <td>0</td>\n",
       "      <td>1</td>\n",
       "    </tr>\n",
       "    <tr>\n",
       "      <th>770956158</th>\n",
       "      <td>43</td>\n",
       "      <td>4</td>\n",
       "      <td>Graduate</td>\n",
       "      <td>Unknown</td>\n",
       "      <td>Less than $40K</td>\n",
       "      <td>Blue</td>\n",
       "      <td>30</td>\n",
       "      <td>3</td>\n",
       "      <td>2</td>\n",
       "      <td>1</td>\n",
       "      <td>...</td>\n",
       "      <td>2151</td>\n",
       "      <td>246.0</td>\n",
       "      <td>0.839</td>\n",
       "      <td>4140</td>\n",
       "      <td>68</td>\n",
       "      <td>0.744</td>\n",
       "      <td>0.897</td>\n",
       "      <td>Existing Customer</td>\n",
       "      <td>1</td>\n",
       "      <td>0</td>\n",
       "    </tr>\n",
       "    <tr>\n",
       "      <th>772813458</th>\n",
       "      <td>48</td>\n",
       "      <td>3</td>\n",
       "      <td>Graduate</td>\n",
       "      <td>Married</td>\n",
       "      <td>Unknown</td>\n",
       "      <td>Blue</td>\n",
       "      <td>39</td>\n",
       "      <td>3</td>\n",
       "      <td>1</td>\n",
       "      <td>2</td>\n",
       "      <td>...</td>\n",
       "      <td>1741</td>\n",
       "      <td>4389.0</td>\n",
       "      <td>0.578</td>\n",
       "      <td>4264</td>\n",
       "      <td>63</td>\n",
       "      <td>0.658</td>\n",
       "      <td>0.284</td>\n",
       "      <td>Existing Customer</td>\n",
       "      <td>1</td>\n",
       "      <td>0</td>\n",
       "    </tr>\n",
       "    <tr>\n",
       "      <th>712760208</th>\n",
       "      <td>42</td>\n",
       "      <td>4</td>\n",
       "      <td>Graduate</td>\n",
       "      <td>Married</td>\n",
       "      <td>Unknown</td>\n",
       "      <td>Blue</td>\n",
       "      <td>31</td>\n",
       "      <td>3</td>\n",
       "      <td>2</td>\n",
       "      <td>1</td>\n",
       "      <td>...</td>\n",
       "      <td>1192</td>\n",
       "      <td>5559.0</td>\n",
       "      <td>0.776</td>\n",
       "      <td>7921</td>\n",
       "      <td>93</td>\n",
       "      <td>0.550</td>\n",
       "      <td>0.177</td>\n",
       "      <td>Existing Customer</td>\n",
       "      <td>1</td>\n",
       "      <td>0</td>\n",
       "    </tr>\n",
       "    <tr>\n",
       "      <th>770038983</th>\n",
       "      <td>37</td>\n",
       "      <td>4</td>\n",
       "      <td>High School</td>\n",
       "      <td>Single</td>\n",
       "      <td>$60K - $80K</td>\n",
       "      <td>Silver</td>\n",
       "      <td>31</td>\n",
       "      <td>1</td>\n",
       "      <td>3</td>\n",
       "      <td>3</td>\n",
       "      <td>...</td>\n",
       "      <td>2517</td>\n",
       "      <td>26314.0</td>\n",
       "      <td>0.770</td>\n",
       "      <td>8688</td>\n",
       "      <td>69</td>\n",
       "      <td>0.769</td>\n",
       "      <td>0.087</td>\n",
       "      <td>Attrited Customer</td>\n",
       "      <td>0</td>\n",
       "      <td>1</td>\n",
       "    </tr>\n",
       "  </tbody>\n",
       "</table>\n",
       "<p>9114 rows × 21 columns</p>\n",
       "</div>"
      ],
      "text/plain": [
       "           Customer_Age  Dependent_count Education_Level Marital_Status  \\\n",
       "CLIENTNUM                                                                 \n",
       "772382283            46                3        Graduate        Married   \n",
       "709206333            44                4        Graduate         Single   \n",
       "714887808            43                1      Uneducated         Single   \n",
       "709531908            53                3     High School        Married   \n",
       "739692933            46                2         Unknown         Single   \n",
       "...                 ...              ...             ...            ...   \n",
       "771215583            39                3     High School         Single   \n",
       "770956158            43                4        Graduate        Unknown   \n",
       "772813458            48                3        Graduate        Married   \n",
       "712760208            42                4        Graduate        Married   \n",
       "770038983            37                4     High School         Single   \n",
       "\n",
       "          Income_Category Card_Category  Months_on_book  \\\n",
       "CLIENTNUM                                                 \n",
       "772382283  Less than $40K          Blue              36   \n",
       "709206333     $40K - $60K          Blue              30   \n",
       "714887808  Less than $40K          Blue              36   \n",
       "709531908     $60K - $80K          Blue              47   \n",
       "739692933     $40K - $60K          Blue              29   \n",
       "...                   ...           ...             ...   \n",
       "771215583     $60K - $80K          Blue              26   \n",
       "770956158  Less than $40K          Blue              30   \n",
       "772813458         Unknown          Blue              39   \n",
       "712760208         Unknown          Blue              31   \n",
       "770038983     $60K - $80K        Silver              31   \n",
       "\n",
       "           Total_Relationship_Count  Months_Inactive_12_mon  \\\n",
       "CLIENTNUM                                                     \n",
       "772382283                         3                       3   \n",
       "709206333                         3                       4   \n",
       "714887808                         1                       3   \n",
       "709531908                         5                       2   \n",
       "739692933                         4                       2   \n",
       "...                             ...                     ...   \n",
       "771215583                         6                       1   \n",
       "770956158                         3                       2   \n",
       "772813458                         3                       1   \n",
       "712760208                         3                       2   \n",
       "770038983                         1                       3   \n",
       "\n",
       "           Contacts_Count_12_mon  ...  Total_Revolving_Bal  Avg_Open_To_Buy  \\\n",
       "CLIENTNUM                         ...                                         \n",
       "772382283                      3  ...                 1593            709.0   \n",
       "709206333                      4  ...                    0           4333.0   \n",
       "714887808                      2  ...                    0           1818.0   \n",
       "709531908                      2  ...                    0           1438.3   \n",
       "739692933                      4  ...                 2517            609.0   \n",
       "...                          ...  ...                  ...              ...   \n",
       "771215583                      4  ...                 1475          23059.0   \n",
       "770956158                      1  ...                 2151            246.0   \n",
       "772813458                      2  ...                 1741           4389.0   \n",
       "712760208                      1  ...                 1192           5559.0   \n",
       "770038983                      3  ...                 2517          26314.0   \n",
       "\n",
       "           Total_Amt_Chng_Q4_Q1  Total_Trans_Amt  Total_Trans_Ct  \\\n",
       "CLIENTNUM                                                          \n",
       "772382283                 0.671             2689              49   \n",
       "709206333                 0.463             1558              40   \n",
       "714887808                 0.758             2279              50   \n",
       "709531908                 0.776             2184              53   \n",
       "739692933                 1.235             1638              41   \n",
       "...                         ...              ...             ...   \n",
       "771215583                 0.528             3505              60   \n",
       "770956158                 0.839             4140              68   \n",
       "772813458                 0.578             4264              63   \n",
       "712760208                 0.776             7921              93   \n",
       "770038983                 0.770             8688              69   \n",
       "\n",
       "           Total_Ct_Chng_Q4_Q1  Avg_Utilization_Ratio     Attrition_Flag  \\\n",
       "CLIENTNUM                                                                  \n",
       "772382283                0.324                  0.692  Attrited Customer   \n",
       "709206333                0.538                  0.000  Attrited Customer   \n",
       "714887808                0.724                  0.000  Attrited Customer   \n",
       "709531908                0.828                  0.000  Existing Customer   \n",
       "739692933                0.519                  0.805  Existing Customer   \n",
       "...                        ...                    ...                ...   \n",
       "771215583                0.935                  0.060  Existing Customer   \n",
       "770956158                0.744                  0.897  Existing Customer   \n",
       "772813458                0.658                  0.284  Existing Customer   \n",
       "712760208                0.550                  0.177  Existing Customer   \n",
       "770038983                0.769                  0.087  Attrited Customer   \n",
       "\n",
       "          female_enc  male_enc  \n",
       "CLIENTNUM                       \n",
       "772382283          1         0  \n",
       "709206333          1         0  \n",
       "714887808          1         0  \n",
       "709531908          0         1  \n",
       "739692933          1         0  \n",
       "...              ...       ...  \n",
       "771215583          0         1  \n",
       "770956158          1         0  \n",
       "772813458          1         0  \n",
       "712760208          1         0  \n",
       "770038983          0         1  \n",
       "\n",
       "[9114 rows x 21 columns]"
      ]
     },
     "execution_count": 19,
     "metadata": {},
     "output_type": "execute_result"
    }
   ],
   "source": [
    "df"
   ]
  },
  {
   "cell_type": "code",
   "execution_count": 20,
   "id": "4d5be749",
   "metadata": {
    "ExecuteTime": {
     "end_time": "2022-11-18T14:26:12.751694Z",
     "start_time": "2022-11-18T14:26:12.721578Z"
    }
   },
   "outputs": [
    {
     "name": "stdout",
     "output_type": "stream",
     "text": [
      "<class 'pandas.core.frame.DataFrame'>\n",
      "Int64Index: 9114 entries, 772382283 to 770038983\n",
      "Data columns (total 21 columns):\n",
      " #   Column                    Non-Null Count  Dtype  \n",
      "---  ------                    --------------  -----  \n",
      " 0   Customer_Age              9114 non-null   int64  \n",
      " 1   Dependent_count           9114 non-null   int64  \n",
      " 2   Education_Level           9114 non-null   object \n",
      " 3   Marital_Status            9114 non-null   object \n",
      " 4   Income_Category           9114 non-null   object \n",
      " 5   Card_Category             9114 non-null   object \n",
      " 6   Months_on_book            9114 non-null   int64  \n",
      " 7   Total_Relationship_Count  9114 non-null   int64  \n",
      " 8   Months_Inactive_12_mon    9114 non-null   int64  \n",
      " 9   Contacts_Count_12_mon     9114 non-null   int64  \n",
      " 10  Credit_Limit              9114 non-null   float64\n",
      " 11  Total_Revolving_Bal       9114 non-null   int64  \n",
      " 12  Avg_Open_To_Buy           9114 non-null   float64\n",
      " 13  Total_Amt_Chng_Q4_Q1      9114 non-null   float64\n",
      " 14  Total_Trans_Amt           9114 non-null   int64  \n",
      " 15  Total_Trans_Ct            9114 non-null   int64  \n",
      " 16  Total_Ct_Chng_Q4_Q1       9114 non-null   float64\n",
      " 17  Avg_Utilization_Ratio     9114 non-null   float64\n",
      " 18  Attrition_Flag            9114 non-null   object \n",
      " 19  female_enc                9114 non-null   int64  \n",
      " 20  male_enc                  9114 non-null   int64  \n",
      "dtypes: float64(5), int64(11), object(5)\n",
      "memory usage: 1.5+ MB\n"
     ]
    }
   ],
   "source": [
    "df.info()"
   ]
  },
  {
   "cell_type": "markdown",
   "id": "73aa987f",
   "metadata": {},
   "source": [
    "### Handling Categorical Education_Level"
   ]
  },
  {
   "cell_type": "code",
   "execution_count": 21,
   "id": "29c5f7b3",
   "metadata": {
    "ExecuteTime": {
     "end_time": "2022-11-18T14:26:12.767728Z",
     "start_time": "2022-11-18T14:26:12.753673Z"
    }
   },
   "outputs": [
    {
     "data": {
      "text/plain": [
       "array(['Graduate', 'Uneducated', 'High School', 'Unknown', 'Doctorate',\n",
       "       'College', 'Post-Graduate'], dtype=object)"
      ]
     },
     "execution_count": 21,
     "metadata": {},
     "output_type": "execute_result"
    }
   ],
   "source": [
    "df['Education_Level'].unique()"
   ]
  },
  {
   "cell_type": "code",
   "execution_count": 22,
   "id": "d7b4054d",
   "metadata": {
    "ExecuteTime": {
     "end_time": "2022-11-18T14:26:12.783685Z",
     "start_time": "2022-11-18T14:26:12.769644Z"
    }
   },
   "outputs": [
    {
     "data": {
      "text/plain": [
       "Graduate         2832\n",
       "High School      1816\n",
       "Unknown          1389\n",
       "Uneducated       1328\n",
       "College           885\n",
       "Post-Graduate     463\n",
       "Doctorate         401\n",
       "Name: Education_Level, dtype: int64"
      ]
     },
     "execution_count": 22,
     "metadata": {},
     "output_type": "execute_result"
    }
   ],
   "source": [
    "df['Education_Level'].value_counts()"
   ]
  },
  {
   "cell_type": "markdown",
   "id": "cee941a6",
   "metadata": {},
   "source": [
    "Because modus from education_level is 'Graduates' so we changes 'Unkown' data as Graduates"
   ]
  },
  {
   "cell_type": "code",
   "execution_count": 23,
   "id": "25125112",
   "metadata": {
    "ExecuteTime": {
     "end_time": "2022-11-18T14:26:12.799675Z",
     "start_time": "2022-11-18T14:26:12.785641Z"
    }
   },
   "outputs": [],
   "source": [
    "def education_map(x):\n",
    "    if x== 'Uneducated':\n",
    "        return 0\n",
    "    elif x== 'High School' :\n",
    "        return 1\n",
    "    elif x== 'College':\n",
    "        return 2\n",
    "    elif x== 'Graduate' or x=='Unknown':\n",
    "        return 3\n",
    "    elif x== 'Post-Graduate':\n",
    "        return 4\n",
    "    elif x== 'Doctorate':\n",
    "        return 5\n",
    "    else:\n",
    "        return None"
   ]
  },
  {
   "cell_type": "code",
   "execution_count": 24,
   "id": "3b630226",
   "metadata": {
    "ExecuteTime": {
     "end_time": "2022-11-18T14:26:12.815726Z",
     "start_time": "2022-11-18T14:26:12.801764Z"
    }
   },
   "outputs": [],
   "source": [
    "df['education_level_enc']=df['Education_Level'].apply(education_map)"
   ]
  },
  {
   "cell_type": "code",
   "execution_count": 25,
   "id": "8c4006cb",
   "metadata": {
    "ExecuteTime": {
     "end_time": "2022-11-18T14:26:12.831724Z",
     "start_time": "2022-11-18T14:26:12.818656Z"
    }
   },
   "outputs": [
    {
     "data": {
      "text/plain": [
       "3    4221\n",
       "1    1816\n",
       "0    1328\n",
       "2     885\n",
       "4     463\n",
       "5     401\n",
       "Name: education_level_enc, dtype: int64"
      ]
     },
     "execution_count": 25,
     "metadata": {},
     "output_type": "execute_result"
    }
   ],
   "source": [
    "df['education_level_enc'].value_counts()"
   ]
  },
  {
   "cell_type": "code",
   "execution_count": 26,
   "id": "d63c864c",
   "metadata": {
    "ExecuteTime": {
     "end_time": "2022-11-18T14:26:12.847727Z",
     "start_time": "2022-11-18T14:26:12.833673Z"
    }
   },
   "outputs": [],
   "source": [
    "df=df.drop(columns='Education_Level')"
   ]
  },
  {
   "cell_type": "code",
   "execution_count": 27,
   "id": "28e11177",
   "metadata": {
    "ExecuteTime": {
     "end_time": "2022-11-18T14:26:12.879448Z",
     "start_time": "2022-11-18T14:26:12.850751Z"
    }
   },
   "outputs": [
    {
     "data": {
      "text/html": [
       "<div>\n",
       "<style scoped>\n",
       "    .dataframe tbody tr th:only-of-type {\n",
       "        vertical-align: middle;\n",
       "    }\n",
       "\n",
       "    .dataframe tbody tr th {\n",
       "        vertical-align: top;\n",
       "    }\n",
       "\n",
       "    .dataframe thead th {\n",
       "        text-align: right;\n",
       "    }\n",
       "</style>\n",
       "<table border=\"1\" class=\"dataframe\">\n",
       "  <thead>\n",
       "    <tr style=\"text-align: right;\">\n",
       "      <th></th>\n",
       "      <th>Customer_Age</th>\n",
       "      <th>Dependent_count</th>\n",
       "      <th>Marital_Status</th>\n",
       "      <th>Income_Category</th>\n",
       "      <th>Card_Category</th>\n",
       "      <th>Months_on_book</th>\n",
       "      <th>Total_Relationship_Count</th>\n",
       "      <th>Months_Inactive_12_mon</th>\n",
       "      <th>Contacts_Count_12_mon</th>\n",
       "      <th>Credit_Limit</th>\n",
       "      <th>...</th>\n",
       "      <th>Avg_Open_To_Buy</th>\n",
       "      <th>Total_Amt_Chng_Q4_Q1</th>\n",
       "      <th>Total_Trans_Amt</th>\n",
       "      <th>Total_Trans_Ct</th>\n",
       "      <th>Total_Ct_Chng_Q4_Q1</th>\n",
       "      <th>Avg_Utilization_Ratio</th>\n",
       "      <th>Attrition_Flag</th>\n",
       "      <th>female_enc</th>\n",
       "      <th>male_enc</th>\n",
       "      <th>education_level_enc</th>\n",
       "    </tr>\n",
       "    <tr>\n",
       "      <th>CLIENTNUM</th>\n",
       "      <th></th>\n",
       "      <th></th>\n",
       "      <th></th>\n",
       "      <th></th>\n",
       "      <th></th>\n",
       "      <th></th>\n",
       "      <th></th>\n",
       "      <th></th>\n",
       "      <th></th>\n",
       "      <th></th>\n",
       "      <th></th>\n",
       "      <th></th>\n",
       "      <th></th>\n",
       "      <th></th>\n",
       "      <th></th>\n",
       "      <th></th>\n",
       "      <th></th>\n",
       "      <th></th>\n",
       "      <th></th>\n",
       "      <th></th>\n",
       "      <th></th>\n",
       "    </tr>\n",
       "  </thead>\n",
       "  <tbody>\n",
       "    <tr>\n",
       "      <th>772382283</th>\n",
       "      <td>46</td>\n",
       "      <td>3</td>\n",
       "      <td>Married</td>\n",
       "      <td>Less than $40K</td>\n",
       "      <td>Blue</td>\n",
       "      <td>36</td>\n",
       "      <td>3</td>\n",
       "      <td>3</td>\n",
       "      <td>3</td>\n",
       "      <td>2302.0</td>\n",
       "      <td>...</td>\n",
       "      <td>709.0</td>\n",
       "      <td>0.671</td>\n",
       "      <td>2689</td>\n",
       "      <td>49</td>\n",
       "      <td>0.324</td>\n",
       "      <td>0.692</td>\n",
       "      <td>Attrited Customer</td>\n",
       "      <td>1</td>\n",
       "      <td>0</td>\n",
       "      <td>3</td>\n",
       "    </tr>\n",
       "    <tr>\n",
       "      <th>709206333</th>\n",
       "      <td>44</td>\n",
       "      <td>4</td>\n",
       "      <td>Single</td>\n",
       "      <td>$40K - $60K</td>\n",
       "      <td>Blue</td>\n",
       "      <td>30</td>\n",
       "      <td>3</td>\n",
       "      <td>4</td>\n",
       "      <td>4</td>\n",
       "      <td>4333.0</td>\n",
       "      <td>...</td>\n",
       "      <td>4333.0</td>\n",
       "      <td>0.463</td>\n",
       "      <td>1558</td>\n",
       "      <td>40</td>\n",
       "      <td>0.538</td>\n",
       "      <td>0.000</td>\n",
       "      <td>Attrited Customer</td>\n",
       "      <td>1</td>\n",
       "      <td>0</td>\n",
       "      <td>3</td>\n",
       "    </tr>\n",
       "    <tr>\n",
       "      <th>714887808</th>\n",
       "      <td>43</td>\n",
       "      <td>1</td>\n",
       "      <td>Single</td>\n",
       "      <td>Less than $40K</td>\n",
       "      <td>Blue</td>\n",
       "      <td>36</td>\n",
       "      <td>1</td>\n",
       "      <td>3</td>\n",
       "      <td>2</td>\n",
       "      <td>1818.0</td>\n",
       "      <td>...</td>\n",
       "      <td>1818.0</td>\n",
       "      <td>0.758</td>\n",
       "      <td>2279</td>\n",
       "      <td>50</td>\n",
       "      <td>0.724</td>\n",
       "      <td>0.000</td>\n",
       "      <td>Attrited Customer</td>\n",
       "      <td>1</td>\n",
       "      <td>0</td>\n",
       "      <td>0</td>\n",
       "    </tr>\n",
       "    <tr>\n",
       "      <th>709531908</th>\n",
       "      <td>53</td>\n",
       "      <td>3</td>\n",
       "      <td>Married</td>\n",
       "      <td>$60K - $80K</td>\n",
       "      <td>Blue</td>\n",
       "      <td>47</td>\n",
       "      <td>5</td>\n",
       "      <td>2</td>\n",
       "      <td>2</td>\n",
       "      <td>1438.3</td>\n",
       "      <td>...</td>\n",
       "      <td>1438.3</td>\n",
       "      <td>0.776</td>\n",
       "      <td>2184</td>\n",
       "      <td>53</td>\n",
       "      <td>0.828</td>\n",
       "      <td>0.000</td>\n",
       "      <td>Existing Customer</td>\n",
       "      <td>0</td>\n",
       "      <td>1</td>\n",
       "      <td>1</td>\n",
       "    </tr>\n",
       "    <tr>\n",
       "      <th>739692933</th>\n",
       "      <td>46</td>\n",
       "      <td>2</td>\n",
       "      <td>Single</td>\n",
       "      <td>$40K - $60K</td>\n",
       "      <td>Blue</td>\n",
       "      <td>29</td>\n",
       "      <td>4</td>\n",
       "      <td>2</td>\n",
       "      <td>4</td>\n",
       "      <td>3126.0</td>\n",
       "      <td>...</td>\n",
       "      <td>609.0</td>\n",
       "      <td>1.235</td>\n",
       "      <td>1638</td>\n",
       "      <td>41</td>\n",
       "      <td>0.519</td>\n",
       "      <td>0.805</td>\n",
       "      <td>Existing Customer</td>\n",
       "      <td>1</td>\n",
       "      <td>0</td>\n",
       "      <td>3</td>\n",
       "    </tr>\n",
       "    <tr>\n",
       "      <th>...</th>\n",
       "      <td>...</td>\n",
       "      <td>...</td>\n",
       "      <td>...</td>\n",
       "      <td>...</td>\n",
       "      <td>...</td>\n",
       "      <td>...</td>\n",
       "      <td>...</td>\n",
       "      <td>...</td>\n",
       "      <td>...</td>\n",
       "      <td>...</td>\n",
       "      <td>...</td>\n",
       "      <td>...</td>\n",
       "      <td>...</td>\n",
       "      <td>...</td>\n",
       "      <td>...</td>\n",
       "      <td>...</td>\n",
       "      <td>...</td>\n",
       "      <td>...</td>\n",
       "      <td>...</td>\n",
       "      <td>...</td>\n",
       "      <td>...</td>\n",
       "    </tr>\n",
       "    <tr>\n",
       "      <th>771215583</th>\n",
       "      <td>39</td>\n",
       "      <td>3</td>\n",
       "      <td>Single</td>\n",
       "      <td>$60K - $80K</td>\n",
       "      <td>Blue</td>\n",
       "      <td>26</td>\n",
       "      <td>6</td>\n",
       "      <td>1</td>\n",
       "      <td>4</td>\n",
       "      <td>24534.0</td>\n",
       "      <td>...</td>\n",
       "      <td>23059.0</td>\n",
       "      <td>0.528</td>\n",
       "      <td>3505</td>\n",
       "      <td>60</td>\n",
       "      <td>0.935</td>\n",
       "      <td>0.060</td>\n",
       "      <td>Existing Customer</td>\n",
       "      <td>0</td>\n",
       "      <td>1</td>\n",
       "      <td>1</td>\n",
       "    </tr>\n",
       "    <tr>\n",
       "      <th>770956158</th>\n",
       "      <td>43</td>\n",
       "      <td>4</td>\n",
       "      <td>Unknown</td>\n",
       "      <td>Less than $40K</td>\n",
       "      <td>Blue</td>\n",
       "      <td>30</td>\n",
       "      <td>3</td>\n",
       "      <td>2</td>\n",
       "      <td>1</td>\n",
       "      <td>2397.0</td>\n",
       "      <td>...</td>\n",
       "      <td>246.0</td>\n",
       "      <td>0.839</td>\n",
       "      <td>4140</td>\n",
       "      <td>68</td>\n",
       "      <td>0.744</td>\n",
       "      <td>0.897</td>\n",
       "      <td>Existing Customer</td>\n",
       "      <td>1</td>\n",
       "      <td>0</td>\n",
       "      <td>3</td>\n",
       "    </tr>\n",
       "    <tr>\n",
       "      <th>772813458</th>\n",
       "      <td>48</td>\n",
       "      <td>3</td>\n",
       "      <td>Married</td>\n",
       "      <td>Unknown</td>\n",
       "      <td>Blue</td>\n",
       "      <td>39</td>\n",
       "      <td>3</td>\n",
       "      <td>1</td>\n",
       "      <td>2</td>\n",
       "      <td>6130.0</td>\n",
       "      <td>...</td>\n",
       "      <td>4389.0</td>\n",
       "      <td>0.578</td>\n",
       "      <td>4264</td>\n",
       "      <td>63</td>\n",
       "      <td>0.658</td>\n",
       "      <td>0.284</td>\n",
       "      <td>Existing Customer</td>\n",
       "      <td>1</td>\n",
       "      <td>0</td>\n",
       "      <td>3</td>\n",
       "    </tr>\n",
       "    <tr>\n",
       "      <th>712760208</th>\n",
       "      <td>42</td>\n",
       "      <td>4</td>\n",
       "      <td>Married</td>\n",
       "      <td>Unknown</td>\n",
       "      <td>Blue</td>\n",
       "      <td>31</td>\n",
       "      <td>3</td>\n",
       "      <td>2</td>\n",
       "      <td>1</td>\n",
       "      <td>6751.0</td>\n",
       "      <td>...</td>\n",
       "      <td>5559.0</td>\n",
       "      <td>0.776</td>\n",
       "      <td>7921</td>\n",
       "      <td>93</td>\n",
       "      <td>0.550</td>\n",
       "      <td>0.177</td>\n",
       "      <td>Existing Customer</td>\n",
       "      <td>1</td>\n",
       "      <td>0</td>\n",
       "      <td>3</td>\n",
       "    </tr>\n",
       "    <tr>\n",
       "      <th>770038983</th>\n",
       "      <td>37</td>\n",
       "      <td>4</td>\n",
       "      <td>Single</td>\n",
       "      <td>$60K - $80K</td>\n",
       "      <td>Silver</td>\n",
       "      <td>31</td>\n",
       "      <td>1</td>\n",
       "      <td>3</td>\n",
       "      <td>3</td>\n",
       "      <td>28831.0</td>\n",
       "      <td>...</td>\n",
       "      <td>26314.0</td>\n",
       "      <td>0.770</td>\n",
       "      <td>8688</td>\n",
       "      <td>69</td>\n",
       "      <td>0.769</td>\n",
       "      <td>0.087</td>\n",
       "      <td>Attrited Customer</td>\n",
       "      <td>0</td>\n",
       "      <td>1</td>\n",
       "      <td>1</td>\n",
       "    </tr>\n",
       "  </tbody>\n",
       "</table>\n",
       "<p>9114 rows × 21 columns</p>\n",
       "</div>"
      ],
      "text/plain": [
       "           Customer_Age  Dependent_count Marital_Status Income_Category  \\\n",
       "CLIENTNUM                                                                 \n",
       "772382283            46                3        Married  Less than $40K   \n",
       "709206333            44                4         Single     $40K - $60K   \n",
       "714887808            43                1         Single  Less than $40K   \n",
       "709531908            53                3        Married     $60K - $80K   \n",
       "739692933            46                2         Single     $40K - $60K   \n",
       "...                 ...              ...            ...             ...   \n",
       "771215583            39                3         Single     $60K - $80K   \n",
       "770956158            43                4        Unknown  Less than $40K   \n",
       "772813458            48                3        Married         Unknown   \n",
       "712760208            42                4        Married         Unknown   \n",
       "770038983            37                4         Single     $60K - $80K   \n",
       "\n",
       "          Card_Category  Months_on_book  Total_Relationship_Count  \\\n",
       "CLIENTNUM                                                           \n",
       "772382283          Blue              36                         3   \n",
       "709206333          Blue              30                         3   \n",
       "714887808          Blue              36                         1   \n",
       "709531908          Blue              47                         5   \n",
       "739692933          Blue              29                         4   \n",
       "...                 ...             ...                       ...   \n",
       "771215583          Blue              26                         6   \n",
       "770956158          Blue              30                         3   \n",
       "772813458          Blue              39                         3   \n",
       "712760208          Blue              31                         3   \n",
       "770038983        Silver              31                         1   \n",
       "\n",
       "           Months_Inactive_12_mon  Contacts_Count_12_mon  Credit_Limit  ...  \\\n",
       "CLIENTNUM                                                               ...   \n",
       "772382283                       3                      3        2302.0  ...   \n",
       "709206333                       4                      4        4333.0  ...   \n",
       "714887808                       3                      2        1818.0  ...   \n",
       "709531908                       2                      2        1438.3  ...   \n",
       "739692933                       2                      4        3126.0  ...   \n",
       "...                           ...                    ...           ...  ...   \n",
       "771215583                       1                      4       24534.0  ...   \n",
       "770956158                       2                      1        2397.0  ...   \n",
       "772813458                       1                      2        6130.0  ...   \n",
       "712760208                       2                      1        6751.0  ...   \n",
       "770038983                       3                      3       28831.0  ...   \n",
       "\n",
       "           Avg_Open_To_Buy  Total_Amt_Chng_Q4_Q1  Total_Trans_Amt  \\\n",
       "CLIENTNUM                                                           \n",
       "772382283            709.0                 0.671             2689   \n",
       "709206333           4333.0                 0.463             1558   \n",
       "714887808           1818.0                 0.758             2279   \n",
       "709531908           1438.3                 0.776             2184   \n",
       "739692933            609.0                 1.235             1638   \n",
       "...                    ...                   ...              ...   \n",
       "771215583          23059.0                 0.528             3505   \n",
       "770956158            246.0                 0.839             4140   \n",
       "772813458           4389.0                 0.578             4264   \n",
       "712760208           5559.0                 0.776             7921   \n",
       "770038983          26314.0                 0.770             8688   \n",
       "\n",
       "           Total_Trans_Ct  Total_Ct_Chng_Q4_Q1  Avg_Utilization_Ratio  \\\n",
       "CLIENTNUM                                                               \n",
       "772382283              49                0.324                  0.692   \n",
       "709206333              40                0.538                  0.000   \n",
       "714887808              50                0.724                  0.000   \n",
       "709531908              53                0.828                  0.000   \n",
       "739692933              41                0.519                  0.805   \n",
       "...                   ...                  ...                    ...   \n",
       "771215583              60                0.935                  0.060   \n",
       "770956158              68                0.744                  0.897   \n",
       "772813458              63                0.658                  0.284   \n",
       "712760208              93                0.550                  0.177   \n",
       "770038983              69                0.769                  0.087   \n",
       "\n",
       "              Attrition_Flag female_enc  male_enc  education_level_enc  \n",
       "CLIENTNUM                                                               \n",
       "772382283  Attrited Customer          1         0                    3  \n",
       "709206333  Attrited Customer          1         0                    3  \n",
       "714887808  Attrited Customer          1         0                    0  \n",
       "709531908  Existing Customer          0         1                    1  \n",
       "739692933  Existing Customer          1         0                    3  \n",
       "...                      ...        ...       ...                  ...  \n",
       "771215583  Existing Customer          0         1                    1  \n",
       "770956158  Existing Customer          1         0                    3  \n",
       "772813458  Existing Customer          1         0                    3  \n",
       "712760208  Existing Customer          1         0                    3  \n",
       "770038983  Attrited Customer          0         1                    1  \n",
       "\n",
       "[9114 rows x 21 columns]"
      ]
     },
     "execution_count": 27,
     "metadata": {},
     "output_type": "execute_result"
    }
   ],
   "source": [
    "df"
   ]
  },
  {
   "cell_type": "code",
   "execution_count": 28,
   "id": "1f700309",
   "metadata": {
    "ExecuteTime": {
     "end_time": "2022-11-18T14:26:12.910945Z",
     "start_time": "2022-11-18T14:26:12.885419Z"
    }
   },
   "outputs": [
    {
     "name": "stdout",
     "output_type": "stream",
     "text": [
      "<class 'pandas.core.frame.DataFrame'>\n",
      "Int64Index: 9114 entries, 772382283 to 770038983\n",
      "Data columns (total 21 columns):\n",
      " #   Column                    Non-Null Count  Dtype  \n",
      "---  ------                    --------------  -----  \n",
      " 0   Customer_Age              9114 non-null   int64  \n",
      " 1   Dependent_count           9114 non-null   int64  \n",
      " 2   Marital_Status            9114 non-null   object \n",
      " 3   Income_Category           9114 non-null   object \n",
      " 4   Card_Category             9114 non-null   object \n",
      " 5   Months_on_book            9114 non-null   int64  \n",
      " 6   Total_Relationship_Count  9114 non-null   int64  \n",
      " 7   Months_Inactive_12_mon    9114 non-null   int64  \n",
      " 8   Contacts_Count_12_mon     9114 non-null   int64  \n",
      " 9   Credit_Limit              9114 non-null   float64\n",
      " 10  Total_Revolving_Bal       9114 non-null   int64  \n",
      " 11  Avg_Open_To_Buy           9114 non-null   float64\n",
      " 12  Total_Amt_Chng_Q4_Q1      9114 non-null   float64\n",
      " 13  Total_Trans_Amt           9114 non-null   int64  \n",
      " 14  Total_Trans_Ct            9114 non-null   int64  \n",
      " 15  Total_Ct_Chng_Q4_Q1       9114 non-null   float64\n",
      " 16  Avg_Utilization_Ratio     9114 non-null   float64\n",
      " 17  Attrition_Flag            9114 non-null   object \n",
      " 18  female_enc                9114 non-null   int64  \n",
      " 19  male_enc                  9114 non-null   int64  \n",
      " 20  education_level_enc       9114 non-null   int64  \n",
      "dtypes: float64(5), int64(12), object(4)\n",
      "memory usage: 1.5+ MB\n"
     ]
    }
   ],
   "source": [
    "df.info()"
   ]
  },
  {
   "cell_type": "markdown",
   "id": "4c1ba2f5",
   "metadata": {},
   "source": [
    "### Handling Categorical Marital_Status"
   ]
  },
  {
   "cell_type": "code",
   "execution_count": 29,
   "id": "76de67c3",
   "metadata": {
    "ExecuteTime": {
     "end_time": "2022-11-18T14:26:12.926805Z",
     "start_time": "2022-11-18T14:26:12.913305Z"
    }
   },
   "outputs": [
    {
     "data": {
      "text/plain": [
       "Married     4231\n",
       "Single      3545\n",
       "Unknown      674\n",
       "Divorced     664\n",
       "Name: Marital_Status, dtype: int64"
      ]
     },
     "execution_count": 29,
     "metadata": {},
     "output_type": "execute_result"
    }
   ],
   "source": [
    "df['Marital_Status'].value_counts()"
   ]
  },
  {
   "cell_type": "markdown",
   "id": "2f7bea3e",
   "metadata": {},
   "source": [
    "Because modus from 'Marital_Status' is 'Married' so we changes 'Unkown' data as 'Married'"
   ]
  },
  {
   "cell_type": "code",
   "execution_count": 30,
   "id": "33c1f54d",
   "metadata": {
    "ExecuteTime": {
     "end_time": "2022-11-18T14:26:12.942803Z",
     "start_time": "2022-11-18T14:26:12.929756Z"
    }
   },
   "outputs": [],
   "source": [
    "Married_enc=[]\n",
    "Single_enc=[]\n",
    "Divorced_enc=[]\n",
    "\n",
    "\n",
    "for i in df['Marital_Status']:\n",
    "    if i=='Married' or i =='Unknown':\n",
    "        Married_enc.append(1)\n",
    "        Single_enc.append(0)        \n",
    "        Divorced_enc.append(0)\n",
    "    elif i=='Single':\n",
    "        Married_enc.append(0)\n",
    "        Single_enc.append(1)        \n",
    "        Divorced_enc.append(0)\n",
    "    elif i=='Divorced':\n",
    "        Married_enc.append(0)\n",
    "        Single_enc.append(0)\n",
    "        Divorced_enc.append(1)\n",
    "    else:\n",
    "        Married_enc.append(None)\n",
    "        Single_enc.append(None)\n",
    "        Divorced_enc.append(None)\n",
    "        \n",
    "\n"
   ]
  },
  {
   "cell_type": "code",
   "execution_count": 31,
   "id": "6ebe0e3c",
   "metadata": {
    "ExecuteTime": {
     "end_time": "2022-11-18T14:26:12.958753Z",
     "start_time": "2022-11-18T14:26:12.944723Z"
    }
   },
   "outputs": [],
   "source": [
    "df['Married_enc']=Married_enc\n",
    "df['Single_enc']=Single_enc\n",
    "df['Divorced_enc']=Divorced_enc"
   ]
  },
  {
   "cell_type": "code",
   "execution_count": 32,
   "id": "488ca3dc",
   "metadata": {
    "ExecuteTime": {
     "end_time": "2022-11-18T14:26:12.974002Z",
     "start_time": "2022-11-18T14:26:12.961720Z"
    }
   },
   "outputs": [],
   "source": [
    "df=df.drop(columns='Marital_Status')"
   ]
  },
  {
   "cell_type": "code",
   "execution_count": 33,
   "id": "c3e8c5fb",
   "metadata": {
    "ExecuteTime": {
     "end_time": "2022-11-18T14:26:13.005163Z",
     "start_time": "2022-11-18T14:26:12.975953Z"
    }
   },
   "outputs": [
    {
     "data": {
      "text/html": [
       "<div>\n",
       "<style scoped>\n",
       "    .dataframe tbody tr th:only-of-type {\n",
       "        vertical-align: middle;\n",
       "    }\n",
       "\n",
       "    .dataframe tbody tr th {\n",
       "        vertical-align: top;\n",
       "    }\n",
       "\n",
       "    .dataframe thead th {\n",
       "        text-align: right;\n",
       "    }\n",
       "</style>\n",
       "<table border=\"1\" class=\"dataframe\">\n",
       "  <thead>\n",
       "    <tr style=\"text-align: right;\">\n",
       "      <th></th>\n",
       "      <th>Customer_Age</th>\n",
       "      <th>Dependent_count</th>\n",
       "      <th>Income_Category</th>\n",
       "      <th>Card_Category</th>\n",
       "      <th>Months_on_book</th>\n",
       "      <th>Total_Relationship_Count</th>\n",
       "      <th>Months_Inactive_12_mon</th>\n",
       "      <th>Contacts_Count_12_mon</th>\n",
       "      <th>Credit_Limit</th>\n",
       "      <th>Total_Revolving_Bal</th>\n",
       "      <th>...</th>\n",
       "      <th>Total_Trans_Ct</th>\n",
       "      <th>Total_Ct_Chng_Q4_Q1</th>\n",
       "      <th>Avg_Utilization_Ratio</th>\n",
       "      <th>Attrition_Flag</th>\n",
       "      <th>female_enc</th>\n",
       "      <th>male_enc</th>\n",
       "      <th>education_level_enc</th>\n",
       "      <th>Married_enc</th>\n",
       "      <th>Single_enc</th>\n",
       "      <th>Divorced_enc</th>\n",
       "    </tr>\n",
       "    <tr>\n",
       "      <th>CLIENTNUM</th>\n",
       "      <th></th>\n",
       "      <th></th>\n",
       "      <th></th>\n",
       "      <th></th>\n",
       "      <th></th>\n",
       "      <th></th>\n",
       "      <th></th>\n",
       "      <th></th>\n",
       "      <th></th>\n",
       "      <th></th>\n",
       "      <th></th>\n",
       "      <th></th>\n",
       "      <th></th>\n",
       "      <th></th>\n",
       "      <th></th>\n",
       "      <th></th>\n",
       "      <th></th>\n",
       "      <th></th>\n",
       "      <th></th>\n",
       "      <th></th>\n",
       "      <th></th>\n",
       "    </tr>\n",
       "  </thead>\n",
       "  <tbody>\n",
       "    <tr>\n",
       "      <th>772382283</th>\n",
       "      <td>46</td>\n",
       "      <td>3</td>\n",
       "      <td>Less than $40K</td>\n",
       "      <td>Blue</td>\n",
       "      <td>36</td>\n",
       "      <td>3</td>\n",
       "      <td>3</td>\n",
       "      <td>3</td>\n",
       "      <td>2302.0</td>\n",
       "      <td>1593</td>\n",
       "      <td>...</td>\n",
       "      <td>49</td>\n",
       "      <td>0.324</td>\n",
       "      <td>0.692</td>\n",
       "      <td>Attrited Customer</td>\n",
       "      <td>1</td>\n",
       "      <td>0</td>\n",
       "      <td>3</td>\n",
       "      <td>1</td>\n",
       "      <td>0</td>\n",
       "      <td>0</td>\n",
       "    </tr>\n",
       "    <tr>\n",
       "      <th>709206333</th>\n",
       "      <td>44</td>\n",
       "      <td>4</td>\n",
       "      <td>$40K - $60K</td>\n",
       "      <td>Blue</td>\n",
       "      <td>30</td>\n",
       "      <td>3</td>\n",
       "      <td>4</td>\n",
       "      <td>4</td>\n",
       "      <td>4333.0</td>\n",
       "      <td>0</td>\n",
       "      <td>...</td>\n",
       "      <td>40</td>\n",
       "      <td>0.538</td>\n",
       "      <td>0.000</td>\n",
       "      <td>Attrited Customer</td>\n",
       "      <td>1</td>\n",
       "      <td>0</td>\n",
       "      <td>3</td>\n",
       "      <td>0</td>\n",
       "      <td>1</td>\n",
       "      <td>0</td>\n",
       "    </tr>\n",
       "    <tr>\n",
       "      <th>714887808</th>\n",
       "      <td>43</td>\n",
       "      <td>1</td>\n",
       "      <td>Less than $40K</td>\n",
       "      <td>Blue</td>\n",
       "      <td>36</td>\n",
       "      <td>1</td>\n",
       "      <td>3</td>\n",
       "      <td>2</td>\n",
       "      <td>1818.0</td>\n",
       "      <td>0</td>\n",
       "      <td>...</td>\n",
       "      <td>50</td>\n",
       "      <td>0.724</td>\n",
       "      <td>0.000</td>\n",
       "      <td>Attrited Customer</td>\n",
       "      <td>1</td>\n",
       "      <td>0</td>\n",
       "      <td>0</td>\n",
       "      <td>0</td>\n",
       "      <td>1</td>\n",
       "      <td>0</td>\n",
       "    </tr>\n",
       "    <tr>\n",
       "      <th>709531908</th>\n",
       "      <td>53</td>\n",
       "      <td>3</td>\n",
       "      <td>$60K - $80K</td>\n",
       "      <td>Blue</td>\n",
       "      <td>47</td>\n",
       "      <td>5</td>\n",
       "      <td>2</td>\n",
       "      <td>2</td>\n",
       "      <td>1438.3</td>\n",
       "      <td>0</td>\n",
       "      <td>...</td>\n",
       "      <td>53</td>\n",
       "      <td>0.828</td>\n",
       "      <td>0.000</td>\n",
       "      <td>Existing Customer</td>\n",
       "      <td>0</td>\n",
       "      <td>1</td>\n",
       "      <td>1</td>\n",
       "      <td>1</td>\n",
       "      <td>0</td>\n",
       "      <td>0</td>\n",
       "    </tr>\n",
       "    <tr>\n",
       "      <th>739692933</th>\n",
       "      <td>46</td>\n",
       "      <td>2</td>\n",
       "      <td>$40K - $60K</td>\n",
       "      <td>Blue</td>\n",
       "      <td>29</td>\n",
       "      <td>4</td>\n",
       "      <td>2</td>\n",
       "      <td>4</td>\n",
       "      <td>3126.0</td>\n",
       "      <td>2517</td>\n",
       "      <td>...</td>\n",
       "      <td>41</td>\n",
       "      <td>0.519</td>\n",
       "      <td>0.805</td>\n",
       "      <td>Existing Customer</td>\n",
       "      <td>1</td>\n",
       "      <td>0</td>\n",
       "      <td>3</td>\n",
       "      <td>0</td>\n",
       "      <td>1</td>\n",
       "      <td>0</td>\n",
       "    </tr>\n",
       "    <tr>\n",
       "      <th>...</th>\n",
       "      <td>...</td>\n",
       "      <td>...</td>\n",
       "      <td>...</td>\n",
       "      <td>...</td>\n",
       "      <td>...</td>\n",
       "      <td>...</td>\n",
       "      <td>...</td>\n",
       "      <td>...</td>\n",
       "      <td>...</td>\n",
       "      <td>...</td>\n",
       "      <td>...</td>\n",
       "      <td>...</td>\n",
       "      <td>...</td>\n",
       "      <td>...</td>\n",
       "      <td>...</td>\n",
       "      <td>...</td>\n",
       "      <td>...</td>\n",
       "      <td>...</td>\n",
       "      <td>...</td>\n",
       "      <td>...</td>\n",
       "      <td>...</td>\n",
       "    </tr>\n",
       "    <tr>\n",
       "      <th>771215583</th>\n",
       "      <td>39</td>\n",
       "      <td>3</td>\n",
       "      <td>$60K - $80K</td>\n",
       "      <td>Blue</td>\n",
       "      <td>26</td>\n",
       "      <td>6</td>\n",
       "      <td>1</td>\n",
       "      <td>4</td>\n",
       "      <td>24534.0</td>\n",
       "      <td>1475</td>\n",
       "      <td>...</td>\n",
       "      <td>60</td>\n",
       "      <td>0.935</td>\n",
       "      <td>0.060</td>\n",
       "      <td>Existing Customer</td>\n",
       "      <td>0</td>\n",
       "      <td>1</td>\n",
       "      <td>1</td>\n",
       "      <td>0</td>\n",
       "      <td>1</td>\n",
       "      <td>0</td>\n",
       "    </tr>\n",
       "    <tr>\n",
       "      <th>770956158</th>\n",
       "      <td>43</td>\n",
       "      <td>4</td>\n",
       "      <td>Less than $40K</td>\n",
       "      <td>Blue</td>\n",
       "      <td>30</td>\n",
       "      <td>3</td>\n",
       "      <td>2</td>\n",
       "      <td>1</td>\n",
       "      <td>2397.0</td>\n",
       "      <td>2151</td>\n",
       "      <td>...</td>\n",
       "      <td>68</td>\n",
       "      <td>0.744</td>\n",
       "      <td>0.897</td>\n",
       "      <td>Existing Customer</td>\n",
       "      <td>1</td>\n",
       "      <td>0</td>\n",
       "      <td>3</td>\n",
       "      <td>1</td>\n",
       "      <td>0</td>\n",
       "      <td>0</td>\n",
       "    </tr>\n",
       "    <tr>\n",
       "      <th>772813458</th>\n",
       "      <td>48</td>\n",
       "      <td>3</td>\n",
       "      <td>Unknown</td>\n",
       "      <td>Blue</td>\n",
       "      <td>39</td>\n",
       "      <td>3</td>\n",
       "      <td>1</td>\n",
       "      <td>2</td>\n",
       "      <td>6130.0</td>\n",
       "      <td>1741</td>\n",
       "      <td>...</td>\n",
       "      <td>63</td>\n",
       "      <td>0.658</td>\n",
       "      <td>0.284</td>\n",
       "      <td>Existing Customer</td>\n",
       "      <td>1</td>\n",
       "      <td>0</td>\n",
       "      <td>3</td>\n",
       "      <td>1</td>\n",
       "      <td>0</td>\n",
       "      <td>0</td>\n",
       "    </tr>\n",
       "    <tr>\n",
       "      <th>712760208</th>\n",
       "      <td>42</td>\n",
       "      <td>4</td>\n",
       "      <td>Unknown</td>\n",
       "      <td>Blue</td>\n",
       "      <td>31</td>\n",
       "      <td>3</td>\n",
       "      <td>2</td>\n",
       "      <td>1</td>\n",
       "      <td>6751.0</td>\n",
       "      <td>1192</td>\n",
       "      <td>...</td>\n",
       "      <td>93</td>\n",
       "      <td>0.550</td>\n",
       "      <td>0.177</td>\n",
       "      <td>Existing Customer</td>\n",
       "      <td>1</td>\n",
       "      <td>0</td>\n",
       "      <td>3</td>\n",
       "      <td>1</td>\n",
       "      <td>0</td>\n",
       "      <td>0</td>\n",
       "    </tr>\n",
       "    <tr>\n",
       "      <th>770038983</th>\n",
       "      <td>37</td>\n",
       "      <td>4</td>\n",
       "      <td>$60K - $80K</td>\n",
       "      <td>Silver</td>\n",
       "      <td>31</td>\n",
       "      <td>1</td>\n",
       "      <td>3</td>\n",
       "      <td>3</td>\n",
       "      <td>28831.0</td>\n",
       "      <td>2517</td>\n",
       "      <td>...</td>\n",
       "      <td>69</td>\n",
       "      <td>0.769</td>\n",
       "      <td>0.087</td>\n",
       "      <td>Attrited Customer</td>\n",
       "      <td>0</td>\n",
       "      <td>1</td>\n",
       "      <td>1</td>\n",
       "      <td>0</td>\n",
       "      <td>1</td>\n",
       "      <td>0</td>\n",
       "    </tr>\n",
       "  </tbody>\n",
       "</table>\n",
       "<p>9114 rows × 23 columns</p>\n",
       "</div>"
      ],
      "text/plain": [
       "           Customer_Age  Dependent_count Income_Category Card_Category  \\\n",
       "CLIENTNUM                                                                \n",
       "772382283            46                3  Less than $40K          Blue   \n",
       "709206333            44                4     $40K - $60K          Blue   \n",
       "714887808            43                1  Less than $40K          Blue   \n",
       "709531908            53                3     $60K - $80K          Blue   \n",
       "739692933            46                2     $40K - $60K          Blue   \n",
       "...                 ...              ...             ...           ...   \n",
       "771215583            39                3     $60K - $80K          Blue   \n",
       "770956158            43                4  Less than $40K          Blue   \n",
       "772813458            48                3         Unknown          Blue   \n",
       "712760208            42                4         Unknown          Blue   \n",
       "770038983            37                4     $60K - $80K        Silver   \n",
       "\n",
       "           Months_on_book  Total_Relationship_Count  Months_Inactive_12_mon  \\\n",
       "CLIENTNUM                                                                     \n",
       "772382283              36                         3                       3   \n",
       "709206333              30                         3                       4   \n",
       "714887808              36                         1                       3   \n",
       "709531908              47                         5                       2   \n",
       "739692933              29                         4                       2   \n",
       "...                   ...                       ...                     ...   \n",
       "771215583              26                         6                       1   \n",
       "770956158              30                         3                       2   \n",
       "772813458              39                         3                       1   \n",
       "712760208              31                         3                       2   \n",
       "770038983              31                         1                       3   \n",
       "\n",
       "           Contacts_Count_12_mon  Credit_Limit  Total_Revolving_Bal  ...  \\\n",
       "CLIENTNUM                                                            ...   \n",
       "772382283                      3        2302.0                 1593  ...   \n",
       "709206333                      4        4333.0                    0  ...   \n",
       "714887808                      2        1818.0                    0  ...   \n",
       "709531908                      2        1438.3                    0  ...   \n",
       "739692933                      4        3126.0                 2517  ...   \n",
       "...                          ...           ...                  ...  ...   \n",
       "771215583                      4       24534.0                 1475  ...   \n",
       "770956158                      1        2397.0                 2151  ...   \n",
       "772813458                      2        6130.0                 1741  ...   \n",
       "712760208                      1        6751.0                 1192  ...   \n",
       "770038983                      3       28831.0                 2517  ...   \n",
       "\n",
       "           Total_Trans_Ct  Total_Ct_Chng_Q4_Q1  Avg_Utilization_Ratio  \\\n",
       "CLIENTNUM                                                               \n",
       "772382283              49                0.324                  0.692   \n",
       "709206333              40                0.538                  0.000   \n",
       "714887808              50                0.724                  0.000   \n",
       "709531908              53                0.828                  0.000   \n",
       "739692933              41                0.519                  0.805   \n",
       "...                   ...                  ...                    ...   \n",
       "771215583              60                0.935                  0.060   \n",
       "770956158              68                0.744                  0.897   \n",
       "772813458              63                0.658                  0.284   \n",
       "712760208              93                0.550                  0.177   \n",
       "770038983              69                0.769                  0.087   \n",
       "\n",
       "              Attrition_Flag  female_enc  male_enc education_level_enc  \\\n",
       "CLIENTNUM                                                                \n",
       "772382283  Attrited Customer           1         0                   3   \n",
       "709206333  Attrited Customer           1         0                   3   \n",
       "714887808  Attrited Customer           1         0                   0   \n",
       "709531908  Existing Customer           0         1                   1   \n",
       "739692933  Existing Customer           1         0                   3   \n",
       "...                      ...         ...       ...                 ...   \n",
       "771215583  Existing Customer           0         1                   1   \n",
       "770956158  Existing Customer           1         0                   3   \n",
       "772813458  Existing Customer           1         0                   3   \n",
       "712760208  Existing Customer           1         0                   3   \n",
       "770038983  Attrited Customer           0         1                   1   \n",
       "\n",
       "           Married_enc  Single_enc  Divorced_enc  \n",
       "CLIENTNUM                                         \n",
       "772382283            1           0             0  \n",
       "709206333            0           1             0  \n",
       "714887808            0           1             0  \n",
       "709531908            1           0             0  \n",
       "739692933            0           1             0  \n",
       "...                ...         ...           ...  \n",
       "771215583            0           1             0  \n",
       "770956158            1           0             0  \n",
       "772813458            1           0             0  \n",
       "712760208            1           0             0  \n",
       "770038983            0           1             0  \n",
       "\n",
       "[9114 rows x 23 columns]"
      ]
     },
     "execution_count": 33,
     "metadata": {},
     "output_type": "execute_result"
    }
   ],
   "source": [
    "df"
   ]
  },
  {
   "cell_type": "code",
   "execution_count": 34,
   "id": "48639b61",
   "metadata": {
    "ExecuteTime": {
     "end_time": "2022-11-18T14:26:13.021109Z",
     "start_time": "2022-11-18T14:26:13.007070Z"
    }
   },
   "outputs": [
    {
     "name": "stdout",
     "output_type": "stream",
     "text": [
      "<class 'pandas.core.frame.DataFrame'>\n",
      "Int64Index: 9114 entries, 772382283 to 770038983\n",
      "Data columns (total 23 columns):\n",
      " #   Column                    Non-Null Count  Dtype  \n",
      "---  ------                    --------------  -----  \n",
      " 0   Customer_Age              9114 non-null   int64  \n",
      " 1   Dependent_count           9114 non-null   int64  \n",
      " 2   Income_Category           9114 non-null   object \n",
      " 3   Card_Category             9114 non-null   object \n",
      " 4   Months_on_book            9114 non-null   int64  \n",
      " 5   Total_Relationship_Count  9114 non-null   int64  \n",
      " 6   Months_Inactive_12_mon    9114 non-null   int64  \n",
      " 7   Contacts_Count_12_mon     9114 non-null   int64  \n",
      " 8   Credit_Limit              9114 non-null   float64\n",
      " 9   Total_Revolving_Bal       9114 non-null   int64  \n",
      " 10  Avg_Open_To_Buy           9114 non-null   float64\n",
      " 11  Total_Amt_Chng_Q4_Q1      9114 non-null   float64\n",
      " 12  Total_Trans_Amt           9114 non-null   int64  \n",
      " 13  Total_Trans_Ct            9114 non-null   int64  \n",
      " 14  Total_Ct_Chng_Q4_Q1       9114 non-null   float64\n",
      " 15  Avg_Utilization_Ratio     9114 non-null   float64\n",
      " 16  Attrition_Flag            9114 non-null   object \n",
      " 17  female_enc                9114 non-null   int64  \n",
      " 18  male_enc                  9114 non-null   int64  \n",
      " 19  education_level_enc       9114 non-null   int64  \n",
      " 20  Married_enc               9114 non-null   int64  \n",
      " 21  Single_enc                9114 non-null   int64  \n",
      " 22  Divorced_enc              9114 non-null   int64  \n",
      "dtypes: float64(5), int64(15), object(3)\n",
      "memory usage: 1.7+ MB\n"
     ]
    }
   ],
   "source": [
    "df.info()"
   ]
  },
  {
   "cell_type": "markdown",
   "id": "e85a24b7",
   "metadata": {},
   "source": [
    "### Handling Categorical Income_Category"
   ]
  },
  {
   "cell_type": "code",
   "execution_count": 35,
   "id": "6ad7fe9f",
   "metadata": {
    "ExecuteTime": {
     "end_time": "2022-11-18T14:26:13.036844Z",
     "start_time": "2022-11-18T14:26:13.023197Z"
    }
   },
   "outputs": [
    {
     "data": {
      "text/plain": [
       "Less than $40K    3211\n",
       "$40K - $60K       1608\n",
       "$80K - $120K      1408\n",
       "$60K - $80K       1250\n",
       "Unknown            989\n",
       "$120K +            648\n",
       "Name: Income_Category, dtype: int64"
      ]
     },
     "execution_count": 35,
     "metadata": {},
     "output_type": "execute_result"
    }
   ],
   "source": [
    "df['Income_Category'].value_counts()"
   ]
  },
  {
   "cell_type": "markdown",
   "id": "f6051eef",
   "metadata": {},
   "source": [
    "Because modus from 'Income_Category' is 'Less than  40K ' so we changes 'Unkown' data as 'Less than 40K'"
   ]
  },
  {
   "cell_type": "code",
   "execution_count": 36,
   "id": "79c510db",
   "metadata": {
    "ExecuteTime": {
     "end_time": "2022-11-18T14:26:13.052038Z",
     "start_time": "2022-11-18T14:26:13.039044Z"
    }
   },
   "outputs": [],
   "source": [
    "def income_map(x):\n",
    "    if x== 'Less than $40K' or x=='Unknown':\n",
    "        return 1\n",
    "    elif x== '$40K - $60K':\n",
    "        return 2\n",
    "    elif x== '$60K - $80K':\n",
    "        return 3\n",
    "    elif x== '$80K - $120K':\n",
    "        return 4\n",
    "    elif x== '$120K +':\n",
    "        return 5\n",
    "    else:\n",
    "        return None\n",
    "    \n"
   ]
  },
  {
   "cell_type": "code",
   "execution_count": 37,
   "id": "642f94ea",
   "metadata": {
    "ExecuteTime": {
     "end_time": "2022-11-18T14:26:13.067346Z",
     "start_time": "2022-11-18T14:26:13.054322Z"
    }
   },
   "outputs": [],
   "source": [
    "df['Income_Category_enc']=df['Income_Category'].apply(income_map)"
   ]
  },
  {
   "cell_type": "code",
   "execution_count": 38,
   "id": "df3e0706",
   "metadata": {
    "ExecuteTime": {
     "end_time": "2022-11-18T14:26:13.099435Z",
     "start_time": "2022-11-18T14:26:13.070348Z"
    }
   },
   "outputs": [
    {
     "data": {
      "text/html": [
       "<div>\n",
       "<style scoped>\n",
       "    .dataframe tbody tr th:only-of-type {\n",
       "        vertical-align: middle;\n",
       "    }\n",
       "\n",
       "    .dataframe tbody tr th {\n",
       "        vertical-align: top;\n",
       "    }\n",
       "\n",
       "    .dataframe thead th {\n",
       "        text-align: right;\n",
       "    }\n",
       "</style>\n",
       "<table border=\"1\" class=\"dataframe\">\n",
       "  <thead>\n",
       "    <tr style=\"text-align: right;\">\n",
       "      <th></th>\n",
       "      <th>Customer_Age</th>\n",
       "      <th>Dependent_count</th>\n",
       "      <th>Income_Category</th>\n",
       "      <th>Card_Category</th>\n",
       "      <th>Months_on_book</th>\n",
       "      <th>Total_Relationship_Count</th>\n",
       "      <th>Months_Inactive_12_mon</th>\n",
       "      <th>Contacts_Count_12_mon</th>\n",
       "      <th>Credit_Limit</th>\n",
       "      <th>Total_Revolving_Bal</th>\n",
       "      <th>...</th>\n",
       "      <th>Total_Ct_Chng_Q4_Q1</th>\n",
       "      <th>Avg_Utilization_Ratio</th>\n",
       "      <th>Attrition_Flag</th>\n",
       "      <th>female_enc</th>\n",
       "      <th>male_enc</th>\n",
       "      <th>education_level_enc</th>\n",
       "      <th>Married_enc</th>\n",
       "      <th>Single_enc</th>\n",
       "      <th>Divorced_enc</th>\n",
       "      <th>Income_Category_enc</th>\n",
       "    </tr>\n",
       "    <tr>\n",
       "      <th>CLIENTNUM</th>\n",
       "      <th></th>\n",
       "      <th></th>\n",
       "      <th></th>\n",
       "      <th></th>\n",
       "      <th></th>\n",
       "      <th></th>\n",
       "      <th></th>\n",
       "      <th></th>\n",
       "      <th></th>\n",
       "      <th></th>\n",
       "      <th></th>\n",
       "      <th></th>\n",
       "      <th></th>\n",
       "      <th></th>\n",
       "      <th></th>\n",
       "      <th></th>\n",
       "      <th></th>\n",
       "      <th></th>\n",
       "      <th></th>\n",
       "      <th></th>\n",
       "      <th></th>\n",
       "    </tr>\n",
       "  </thead>\n",
       "  <tbody>\n",
       "    <tr>\n",
       "      <th>772382283</th>\n",
       "      <td>46</td>\n",
       "      <td>3</td>\n",
       "      <td>Less than $40K</td>\n",
       "      <td>Blue</td>\n",
       "      <td>36</td>\n",
       "      <td>3</td>\n",
       "      <td>3</td>\n",
       "      <td>3</td>\n",
       "      <td>2302.0</td>\n",
       "      <td>1593</td>\n",
       "      <td>...</td>\n",
       "      <td>0.324</td>\n",
       "      <td>0.692</td>\n",
       "      <td>Attrited Customer</td>\n",
       "      <td>1</td>\n",
       "      <td>0</td>\n",
       "      <td>3</td>\n",
       "      <td>1</td>\n",
       "      <td>0</td>\n",
       "      <td>0</td>\n",
       "      <td>1</td>\n",
       "    </tr>\n",
       "    <tr>\n",
       "      <th>709206333</th>\n",
       "      <td>44</td>\n",
       "      <td>4</td>\n",
       "      <td>$40K - $60K</td>\n",
       "      <td>Blue</td>\n",
       "      <td>30</td>\n",
       "      <td>3</td>\n",
       "      <td>4</td>\n",
       "      <td>4</td>\n",
       "      <td>4333.0</td>\n",
       "      <td>0</td>\n",
       "      <td>...</td>\n",
       "      <td>0.538</td>\n",
       "      <td>0.000</td>\n",
       "      <td>Attrited Customer</td>\n",
       "      <td>1</td>\n",
       "      <td>0</td>\n",
       "      <td>3</td>\n",
       "      <td>0</td>\n",
       "      <td>1</td>\n",
       "      <td>0</td>\n",
       "      <td>2</td>\n",
       "    </tr>\n",
       "    <tr>\n",
       "      <th>714887808</th>\n",
       "      <td>43</td>\n",
       "      <td>1</td>\n",
       "      <td>Less than $40K</td>\n",
       "      <td>Blue</td>\n",
       "      <td>36</td>\n",
       "      <td>1</td>\n",
       "      <td>3</td>\n",
       "      <td>2</td>\n",
       "      <td>1818.0</td>\n",
       "      <td>0</td>\n",
       "      <td>...</td>\n",
       "      <td>0.724</td>\n",
       "      <td>0.000</td>\n",
       "      <td>Attrited Customer</td>\n",
       "      <td>1</td>\n",
       "      <td>0</td>\n",
       "      <td>0</td>\n",
       "      <td>0</td>\n",
       "      <td>1</td>\n",
       "      <td>0</td>\n",
       "      <td>1</td>\n",
       "    </tr>\n",
       "    <tr>\n",
       "      <th>709531908</th>\n",
       "      <td>53</td>\n",
       "      <td>3</td>\n",
       "      <td>$60K - $80K</td>\n",
       "      <td>Blue</td>\n",
       "      <td>47</td>\n",
       "      <td>5</td>\n",
       "      <td>2</td>\n",
       "      <td>2</td>\n",
       "      <td>1438.3</td>\n",
       "      <td>0</td>\n",
       "      <td>...</td>\n",
       "      <td>0.828</td>\n",
       "      <td>0.000</td>\n",
       "      <td>Existing Customer</td>\n",
       "      <td>0</td>\n",
       "      <td>1</td>\n",
       "      <td>1</td>\n",
       "      <td>1</td>\n",
       "      <td>0</td>\n",
       "      <td>0</td>\n",
       "      <td>3</td>\n",
       "    </tr>\n",
       "    <tr>\n",
       "      <th>739692933</th>\n",
       "      <td>46</td>\n",
       "      <td>2</td>\n",
       "      <td>$40K - $60K</td>\n",
       "      <td>Blue</td>\n",
       "      <td>29</td>\n",
       "      <td>4</td>\n",
       "      <td>2</td>\n",
       "      <td>4</td>\n",
       "      <td>3126.0</td>\n",
       "      <td>2517</td>\n",
       "      <td>...</td>\n",
       "      <td>0.519</td>\n",
       "      <td>0.805</td>\n",
       "      <td>Existing Customer</td>\n",
       "      <td>1</td>\n",
       "      <td>0</td>\n",
       "      <td>3</td>\n",
       "      <td>0</td>\n",
       "      <td>1</td>\n",
       "      <td>0</td>\n",
       "      <td>2</td>\n",
       "    </tr>\n",
       "    <tr>\n",
       "      <th>...</th>\n",
       "      <td>...</td>\n",
       "      <td>...</td>\n",
       "      <td>...</td>\n",
       "      <td>...</td>\n",
       "      <td>...</td>\n",
       "      <td>...</td>\n",
       "      <td>...</td>\n",
       "      <td>...</td>\n",
       "      <td>...</td>\n",
       "      <td>...</td>\n",
       "      <td>...</td>\n",
       "      <td>...</td>\n",
       "      <td>...</td>\n",
       "      <td>...</td>\n",
       "      <td>...</td>\n",
       "      <td>...</td>\n",
       "      <td>...</td>\n",
       "      <td>...</td>\n",
       "      <td>...</td>\n",
       "      <td>...</td>\n",
       "      <td>...</td>\n",
       "    </tr>\n",
       "    <tr>\n",
       "      <th>771215583</th>\n",
       "      <td>39</td>\n",
       "      <td>3</td>\n",
       "      <td>$60K - $80K</td>\n",
       "      <td>Blue</td>\n",
       "      <td>26</td>\n",
       "      <td>6</td>\n",
       "      <td>1</td>\n",
       "      <td>4</td>\n",
       "      <td>24534.0</td>\n",
       "      <td>1475</td>\n",
       "      <td>...</td>\n",
       "      <td>0.935</td>\n",
       "      <td>0.060</td>\n",
       "      <td>Existing Customer</td>\n",
       "      <td>0</td>\n",
       "      <td>1</td>\n",
       "      <td>1</td>\n",
       "      <td>0</td>\n",
       "      <td>1</td>\n",
       "      <td>0</td>\n",
       "      <td>3</td>\n",
       "    </tr>\n",
       "    <tr>\n",
       "      <th>770956158</th>\n",
       "      <td>43</td>\n",
       "      <td>4</td>\n",
       "      <td>Less than $40K</td>\n",
       "      <td>Blue</td>\n",
       "      <td>30</td>\n",
       "      <td>3</td>\n",
       "      <td>2</td>\n",
       "      <td>1</td>\n",
       "      <td>2397.0</td>\n",
       "      <td>2151</td>\n",
       "      <td>...</td>\n",
       "      <td>0.744</td>\n",
       "      <td>0.897</td>\n",
       "      <td>Existing Customer</td>\n",
       "      <td>1</td>\n",
       "      <td>0</td>\n",
       "      <td>3</td>\n",
       "      <td>1</td>\n",
       "      <td>0</td>\n",
       "      <td>0</td>\n",
       "      <td>1</td>\n",
       "    </tr>\n",
       "    <tr>\n",
       "      <th>772813458</th>\n",
       "      <td>48</td>\n",
       "      <td>3</td>\n",
       "      <td>Unknown</td>\n",
       "      <td>Blue</td>\n",
       "      <td>39</td>\n",
       "      <td>3</td>\n",
       "      <td>1</td>\n",
       "      <td>2</td>\n",
       "      <td>6130.0</td>\n",
       "      <td>1741</td>\n",
       "      <td>...</td>\n",
       "      <td>0.658</td>\n",
       "      <td>0.284</td>\n",
       "      <td>Existing Customer</td>\n",
       "      <td>1</td>\n",
       "      <td>0</td>\n",
       "      <td>3</td>\n",
       "      <td>1</td>\n",
       "      <td>0</td>\n",
       "      <td>0</td>\n",
       "      <td>1</td>\n",
       "    </tr>\n",
       "    <tr>\n",
       "      <th>712760208</th>\n",
       "      <td>42</td>\n",
       "      <td>4</td>\n",
       "      <td>Unknown</td>\n",
       "      <td>Blue</td>\n",
       "      <td>31</td>\n",
       "      <td>3</td>\n",
       "      <td>2</td>\n",
       "      <td>1</td>\n",
       "      <td>6751.0</td>\n",
       "      <td>1192</td>\n",
       "      <td>...</td>\n",
       "      <td>0.550</td>\n",
       "      <td>0.177</td>\n",
       "      <td>Existing Customer</td>\n",
       "      <td>1</td>\n",
       "      <td>0</td>\n",
       "      <td>3</td>\n",
       "      <td>1</td>\n",
       "      <td>0</td>\n",
       "      <td>0</td>\n",
       "      <td>1</td>\n",
       "    </tr>\n",
       "    <tr>\n",
       "      <th>770038983</th>\n",
       "      <td>37</td>\n",
       "      <td>4</td>\n",
       "      <td>$60K - $80K</td>\n",
       "      <td>Silver</td>\n",
       "      <td>31</td>\n",
       "      <td>1</td>\n",
       "      <td>3</td>\n",
       "      <td>3</td>\n",
       "      <td>28831.0</td>\n",
       "      <td>2517</td>\n",
       "      <td>...</td>\n",
       "      <td>0.769</td>\n",
       "      <td>0.087</td>\n",
       "      <td>Attrited Customer</td>\n",
       "      <td>0</td>\n",
       "      <td>1</td>\n",
       "      <td>1</td>\n",
       "      <td>0</td>\n",
       "      <td>1</td>\n",
       "      <td>0</td>\n",
       "      <td>3</td>\n",
       "    </tr>\n",
       "  </tbody>\n",
       "</table>\n",
       "<p>9114 rows × 24 columns</p>\n",
       "</div>"
      ],
      "text/plain": [
       "           Customer_Age  Dependent_count Income_Category Card_Category  \\\n",
       "CLIENTNUM                                                                \n",
       "772382283            46                3  Less than $40K          Blue   \n",
       "709206333            44                4     $40K - $60K          Blue   \n",
       "714887808            43                1  Less than $40K          Blue   \n",
       "709531908            53                3     $60K - $80K          Blue   \n",
       "739692933            46                2     $40K - $60K          Blue   \n",
       "...                 ...              ...             ...           ...   \n",
       "771215583            39                3     $60K - $80K          Blue   \n",
       "770956158            43                4  Less than $40K          Blue   \n",
       "772813458            48                3         Unknown          Blue   \n",
       "712760208            42                4         Unknown          Blue   \n",
       "770038983            37                4     $60K - $80K        Silver   \n",
       "\n",
       "           Months_on_book  Total_Relationship_Count  Months_Inactive_12_mon  \\\n",
       "CLIENTNUM                                                                     \n",
       "772382283              36                         3                       3   \n",
       "709206333              30                         3                       4   \n",
       "714887808              36                         1                       3   \n",
       "709531908              47                         5                       2   \n",
       "739692933              29                         4                       2   \n",
       "...                   ...                       ...                     ...   \n",
       "771215583              26                         6                       1   \n",
       "770956158              30                         3                       2   \n",
       "772813458              39                         3                       1   \n",
       "712760208              31                         3                       2   \n",
       "770038983              31                         1                       3   \n",
       "\n",
       "           Contacts_Count_12_mon  Credit_Limit  Total_Revolving_Bal  ...  \\\n",
       "CLIENTNUM                                                            ...   \n",
       "772382283                      3        2302.0                 1593  ...   \n",
       "709206333                      4        4333.0                    0  ...   \n",
       "714887808                      2        1818.0                    0  ...   \n",
       "709531908                      2        1438.3                    0  ...   \n",
       "739692933                      4        3126.0                 2517  ...   \n",
       "...                          ...           ...                  ...  ...   \n",
       "771215583                      4       24534.0                 1475  ...   \n",
       "770956158                      1        2397.0                 2151  ...   \n",
       "772813458                      2        6130.0                 1741  ...   \n",
       "712760208                      1        6751.0                 1192  ...   \n",
       "770038983                      3       28831.0                 2517  ...   \n",
       "\n",
       "           Total_Ct_Chng_Q4_Q1  Avg_Utilization_Ratio     Attrition_Flag  \\\n",
       "CLIENTNUM                                                                  \n",
       "772382283                0.324                  0.692  Attrited Customer   \n",
       "709206333                0.538                  0.000  Attrited Customer   \n",
       "714887808                0.724                  0.000  Attrited Customer   \n",
       "709531908                0.828                  0.000  Existing Customer   \n",
       "739692933                0.519                  0.805  Existing Customer   \n",
       "...                        ...                    ...                ...   \n",
       "771215583                0.935                  0.060  Existing Customer   \n",
       "770956158                0.744                  0.897  Existing Customer   \n",
       "772813458                0.658                  0.284  Existing Customer   \n",
       "712760208                0.550                  0.177  Existing Customer   \n",
       "770038983                0.769                  0.087  Attrited Customer   \n",
       "\n",
       "           female_enc  male_enc  education_level_enc Married_enc  Single_enc  \\\n",
       "CLIENTNUM                                                                      \n",
       "772382283           1         0                    3           1           0   \n",
       "709206333           1         0                    3           0           1   \n",
       "714887808           1         0                    0           0           1   \n",
       "709531908           0         1                    1           1           0   \n",
       "739692933           1         0                    3           0           1   \n",
       "...               ...       ...                  ...         ...         ...   \n",
       "771215583           0         1                    1           0           1   \n",
       "770956158           1         0                    3           1           0   \n",
       "772813458           1         0                    3           1           0   \n",
       "712760208           1         0                    3           1           0   \n",
       "770038983           0         1                    1           0           1   \n",
       "\n",
       "           Divorced_enc  Income_Category_enc  \n",
       "CLIENTNUM                                     \n",
       "772382283             0                    1  \n",
       "709206333             0                    2  \n",
       "714887808             0                    1  \n",
       "709531908             0                    3  \n",
       "739692933             0                    2  \n",
       "...                 ...                  ...  \n",
       "771215583             0                    3  \n",
       "770956158             0                    1  \n",
       "772813458             0                    1  \n",
       "712760208             0                    1  \n",
       "770038983             0                    3  \n",
       "\n",
       "[9114 rows x 24 columns]"
      ]
     },
     "execution_count": 38,
     "metadata": {},
     "output_type": "execute_result"
    }
   ],
   "source": [
    "df"
   ]
  },
  {
   "cell_type": "code",
   "execution_count": 39,
   "id": "1703d80a",
   "metadata": {
    "ExecuteTime": {
     "end_time": "2022-11-18T14:26:13.115163Z",
     "start_time": "2022-11-18T14:26:13.101361Z"
    }
   },
   "outputs": [
    {
     "data": {
      "text/plain": [
       "1    4200\n",
       "2    1608\n",
       "4    1408\n",
       "3    1250\n",
       "5     648\n",
       "Name: Income_Category_enc, dtype: int64"
      ]
     },
     "execution_count": 39,
     "metadata": {},
     "output_type": "execute_result"
    }
   ],
   "source": [
    "df['Income_Category_enc'].value_counts()"
   ]
  },
  {
   "cell_type": "code",
   "execution_count": 40,
   "id": "1912179f",
   "metadata": {
    "ExecuteTime": {
     "end_time": "2022-11-18T14:26:13.131082Z",
     "start_time": "2022-11-18T14:26:13.118187Z"
    }
   },
   "outputs": [],
   "source": [
    "df=df.drop(columns='Income_Category')"
   ]
  },
  {
   "cell_type": "code",
   "execution_count": 41,
   "id": "2e3ef958",
   "metadata": {
    "ExecuteTime": {
     "end_time": "2022-11-18T14:26:13.162671Z",
     "start_time": "2022-11-18T14:26:13.134059Z"
    }
   },
   "outputs": [
    {
     "data": {
      "text/html": [
       "<div>\n",
       "<style scoped>\n",
       "    .dataframe tbody tr th:only-of-type {\n",
       "        vertical-align: middle;\n",
       "    }\n",
       "\n",
       "    .dataframe tbody tr th {\n",
       "        vertical-align: top;\n",
       "    }\n",
       "\n",
       "    .dataframe thead th {\n",
       "        text-align: right;\n",
       "    }\n",
       "</style>\n",
       "<table border=\"1\" class=\"dataframe\">\n",
       "  <thead>\n",
       "    <tr style=\"text-align: right;\">\n",
       "      <th></th>\n",
       "      <th>Customer_Age</th>\n",
       "      <th>Dependent_count</th>\n",
       "      <th>Card_Category</th>\n",
       "      <th>Months_on_book</th>\n",
       "      <th>Total_Relationship_Count</th>\n",
       "      <th>Months_Inactive_12_mon</th>\n",
       "      <th>Contacts_Count_12_mon</th>\n",
       "      <th>Credit_Limit</th>\n",
       "      <th>Total_Revolving_Bal</th>\n",
       "      <th>Avg_Open_To_Buy</th>\n",
       "      <th>...</th>\n",
       "      <th>Total_Ct_Chng_Q4_Q1</th>\n",
       "      <th>Avg_Utilization_Ratio</th>\n",
       "      <th>Attrition_Flag</th>\n",
       "      <th>female_enc</th>\n",
       "      <th>male_enc</th>\n",
       "      <th>education_level_enc</th>\n",
       "      <th>Married_enc</th>\n",
       "      <th>Single_enc</th>\n",
       "      <th>Divorced_enc</th>\n",
       "      <th>Income_Category_enc</th>\n",
       "    </tr>\n",
       "    <tr>\n",
       "      <th>CLIENTNUM</th>\n",
       "      <th></th>\n",
       "      <th></th>\n",
       "      <th></th>\n",
       "      <th></th>\n",
       "      <th></th>\n",
       "      <th></th>\n",
       "      <th></th>\n",
       "      <th></th>\n",
       "      <th></th>\n",
       "      <th></th>\n",
       "      <th></th>\n",
       "      <th></th>\n",
       "      <th></th>\n",
       "      <th></th>\n",
       "      <th></th>\n",
       "      <th></th>\n",
       "      <th></th>\n",
       "      <th></th>\n",
       "      <th></th>\n",
       "      <th></th>\n",
       "      <th></th>\n",
       "    </tr>\n",
       "  </thead>\n",
       "  <tbody>\n",
       "    <tr>\n",
       "      <th>772382283</th>\n",
       "      <td>46</td>\n",
       "      <td>3</td>\n",
       "      <td>Blue</td>\n",
       "      <td>36</td>\n",
       "      <td>3</td>\n",
       "      <td>3</td>\n",
       "      <td>3</td>\n",
       "      <td>2302.0</td>\n",
       "      <td>1593</td>\n",
       "      <td>709.0</td>\n",
       "      <td>...</td>\n",
       "      <td>0.324</td>\n",
       "      <td>0.692</td>\n",
       "      <td>Attrited Customer</td>\n",
       "      <td>1</td>\n",
       "      <td>0</td>\n",
       "      <td>3</td>\n",
       "      <td>1</td>\n",
       "      <td>0</td>\n",
       "      <td>0</td>\n",
       "      <td>1</td>\n",
       "    </tr>\n",
       "    <tr>\n",
       "      <th>709206333</th>\n",
       "      <td>44</td>\n",
       "      <td>4</td>\n",
       "      <td>Blue</td>\n",
       "      <td>30</td>\n",
       "      <td>3</td>\n",
       "      <td>4</td>\n",
       "      <td>4</td>\n",
       "      <td>4333.0</td>\n",
       "      <td>0</td>\n",
       "      <td>4333.0</td>\n",
       "      <td>...</td>\n",
       "      <td>0.538</td>\n",
       "      <td>0.000</td>\n",
       "      <td>Attrited Customer</td>\n",
       "      <td>1</td>\n",
       "      <td>0</td>\n",
       "      <td>3</td>\n",
       "      <td>0</td>\n",
       "      <td>1</td>\n",
       "      <td>0</td>\n",
       "      <td>2</td>\n",
       "    </tr>\n",
       "    <tr>\n",
       "      <th>714887808</th>\n",
       "      <td>43</td>\n",
       "      <td>1</td>\n",
       "      <td>Blue</td>\n",
       "      <td>36</td>\n",
       "      <td>1</td>\n",
       "      <td>3</td>\n",
       "      <td>2</td>\n",
       "      <td>1818.0</td>\n",
       "      <td>0</td>\n",
       "      <td>1818.0</td>\n",
       "      <td>...</td>\n",
       "      <td>0.724</td>\n",
       "      <td>0.000</td>\n",
       "      <td>Attrited Customer</td>\n",
       "      <td>1</td>\n",
       "      <td>0</td>\n",
       "      <td>0</td>\n",
       "      <td>0</td>\n",
       "      <td>1</td>\n",
       "      <td>0</td>\n",
       "      <td>1</td>\n",
       "    </tr>\n",
       "    <tr>\n",
       "      <th>709531908</th>\n",
       "      <td>53</td>\n",
       "      <td>3</td>\n",
       "      <td>Blue</td>\n",
       "      <td>47</td>\n",
       "      <td>5</td>\n",
       "      <td>2</td>\n",
       "      <td>2</td>\n",
       "      <td>1438.3</td>\n",
       "      <td>0</td>\n",
       "      <td>1438.3</td>\n",
       "      <td>...</td>\n",
       "      <td>0.828</td>\n",
       "      <td>0.000</td>\n",
       "      <td>Existing Customer</td>\n",
       "      <td>0</td>\n",
       "      <td>1</td>\n",
       "      <td>1</td>\n",
       "      <td>1</td>\n",
       "      <td>0</td>\n",
       "      <td>0</td>\n",
       "      <td>3</td>\n",
       "    </tr>\n",
       "    <tr>\n",
       "      <th>739692933</th>\n",
       "      <td>46</td>\n",
       "      <td>2</td>\n",
       "      <td>Blue</td>\n",
       "      <td>29</td>\n",
       "      <td>4</td>\n",
       "      <td>2</td>\n",
       "      <td>4</td>\n",
       "      <td>3126.0</td>\n",
       "      <td>2517</td>\n",
       "      <td>609.0</td>\n",
       "      <td>...</td>\n",
       "      <td>0.519</td>\n",
       "      <td>0.805</td>\n",
       "      <td>Existing Customer</td>\n",
       "      <td>1</td>\n",
       "      <td>0</td>\n",
       "      <td>3</td>\n",
       "      <td>0</td>\n",
       "      <td>1</td>\n",
       "      <td>0</td>\n",
       "      <td>2</td>\n",
       "    </tr>\n",
       "    <tr>\n",
       "      <th>...</th>\n",
       "      <td>...</td>\n",
       "      <td>...</td>\n",
       "      <td>...</td>\n",
       "      <td>...</td>\n",
       "      <td>...</td>\n",
       "      <td>...</td>\n",
       "      <td>...</td>\n",
       "      <td>...</td>\n",
       "      <td>...</td>\n",
       "      <td>...</td>\n",
       "      <td>...</td>\n",
       "      <td>...</td>\n",
       "      <td>...</td>\n",
       "      <td>...</td>\n",
       "      <td>...</td>\n",
       "      <td>...</td>\n",
       "      <td>...</td>\n",
       "      <td>...</td>\n",
       "      <td>...</td>\n",
       "      <td>...</td>\n",
       "      <td>...</td>\n",
       "    </tr>\n",
       "    <tr>\n",
       "      <th>771215583</th>\n",
       "      <td>39</td>\n",
       "      <td>3</td>\n",
       "      <td>Blue</td>\n",
       "      <td>26</td>\n",
       "      <td>6</td>\n",
       "      <td>1</td>\n",
       "      <td>4</td>\n",
       "      <td>24534.0</td>\n",
       "      <td>1475</td>\n",
       "      <td>23059.0</td>\n",
       "      <td>...</td>\n",
       "      <td>0.935</td>\n",
       "      <td>0.060</td>\n",
       "      <td>Existing Customer</td>\n",
       "      <td>0</td>\n",
       "      <td>1</td>\n",
       "      <td>1</td>\n",
       "      <td>0</td>\n",
       "      <td>1</td>\n",
       "      <td>0</td>\n",
       "      <td>3</td>\n",
       "    </tr>\n",
       "    <tr>\n",
       "      <th>770956158</th>\n",
       "      <td>43</td>\n",
       "      <td>4</td>\n",
       "      <td>Blue</td>\n",
       "      <td>30</td>\n",
       "      <td>3</td>\n",
       "      <td>2</td>\n",
       "      <td>1</td>\n",
       "      <td>2397.0</td>\n",
       "      <td>2151</td>\n",
       "      <td>246.0</td>\n",
       "      <td>...</td>\n",
       "      <td>0.744</td>\n",
       "      <td>0.897</td>\n",
       "      <td>Existing Customer</td>\n",
       "      <td>1</td>\n",
       "      <td>0</td>\n",
       "      <td>3</td>\n",
       "      <td>1</td>\n",
       "      <td>0</td>\n",
       "      <td>0</td>\n",
       "      <td>1</td>\n",
       "    </tr>\n",
       "    <tr>\n",
       "      <th>772813458</th>\n",
       "      <td>48</td>\n",
       "      <td>3</td>\n",
       "      <td>Blue</td>\n",
       "      <td>39</td>\n",
       "      <td>3</td>\n",
       "      <td>1</td>\n",
       "      <td>2</td>\n",
       "      <td>6130.0</td>\n",
       "      <td>1741</td>\n",
       "      <td>4389.0</td>\n",
       "      <td>...</td>\n",
       "      <td>0.658</td>\n",
       "      <td>0.284</td>\n",
       "      <td>Existing Customer</td>\n",
       "      <td>1</td>\n",
       "      <td>0</td>\n",
       "      <td>3</td>\n",
       "      <td>1</td>\n",
       "      <td>0</td>\n",
       "      <td>0</td>\n",
       "      <td>1</td>\n",
       "    </tr>\n",
       "    <tr>\n",
       "      <th>712760208</th>\n",
       "      <td>42</td>\n",
       "      <td>4</td>\n",
       "      <td>Blue</td>\n",
       "      <td>31</td>\n",
       "      <td>3</td>\n",
       "      <td>2</td>\n",
       "      <td>1</td>\n",
       "      <td>6751.0</td>\n",
       "      <td>1192</td>\n",
       "      <td>5559.0</td>\n",
       "      <td>...</td>\n",
       "      <td>0.550</td>\n",
       "      <td>0.177</td>\n",
       "      <td>Existing Customer</td>\n",
       "      <td>1</td>\n",
       "      <td>0</td>\n",
       "      <td>3</td>\n",
       "      <td>1</td>\n",
       "      <td>0</td>\n",
       "      <td>0</td>\n",
       "      <td>1</td>\n",
       "    </tr>\n",
       "    <tr>\n",
       "      <th>770038983</th>\n",
       "      <td>37</td>\n",
       "      <td>4</td>\n",
       "      <td>Silver</td>\n",
       "      <td>31</td>\n",
       "      <td>1</td>\n",
       "      <td>3</td>\n",
       "      <td>3</td>\n",
       "      <td>28831.0</td>\n",
       "      <td>2517</td>\n",
       "      <td>26314.0</td>\n",
       "      <td>...</td>\n",
       "      <td>0.769</td>\n",
       "      <td>0.087</td>\n",
       "      <td>Attrited Customer</td>\n",
       "      <td>0</td>\n",
       "      <td>1</td>\n",
       "      <td>1</td>\n",
       "      <td>0</td>\n",
       "      <td>1</td>\n",
       "      <td>0</td>\n",
       "      <td>3</td>\n",
       "    </tr>\n",
       "  </tbody>\n",
       "</table>\n",
       "<p>9114 rows × 23 columns</p>\n",
       "</div>"
      ],
      "text/plain": [
       "           Customer_Age  Dependent_count Card_Category  Months_on_book  \\\n",
       "CLIENTNUM                                                                \n",
       "772382283            46                3          Blue              36   \n",
       "709206333            44                4          Blue              30   \n",
       "714887808            43                1          Blue              36   \n",
       "709531908            53                3          Blue              47   \n",
       "739692933            46                2          Blue              29   \n",
       "...                 ...              ...           ...             ...   \n",
       "771215583            39                3          Blue              26   \n",
       "770956158            43                4          Blue              30   \n",
       "772813458            48                3          Blue              39   \n",
       "712760208            42                4          Blue              31   \n",
       "770038983            37                4        Silver              31   \n",
       "\n",
       "           Total_Relationship_Count  Months_Inactive_12_mon  \\\n",
       "CLIENTNUM                                                     \n",
       "772382283                         3                       3   \n",
       "709206333                         3                       4   \n",
       "714887808                         1                       3   \n",
       "709531908                         5                       2   \n",
       "739692933                         4                       2   \n",
       "...                             ...                     ...   \n",
       "771215583                         6                       1   \n",
       "770956158                         3                       2   \n",
       "772813458                         3                       1   \n",
       "712760208                         3                       2   \n",
       "770038983                         1                       3   \n",
       "\n",
       "           Contacts_Count_12_mon  Credit_Limit  Total_Revolving_Bal  \\\n",
       "CLIENTNUM                                                             \n",
       "772382283                      3        2302.0                 1593   \n",
       "709206333                      4        4333.0                    0   \n",
       "714887808                      2        1818.0                    0   \n",
       "709531908                      2        1438.3                    0   \n",
       "739692933                      4        3126.0                 2517   \n",
       "...                          ...           ...                  ...   \n",
       "771215583                      4       24534.0                 1475   \n",
       "770956158                      1        2397.0                 2151   \n",
       "772813458                      2        6130.0                 1741   \n",
       "712760208                      1        6751.0                 1192   \n",
       "770038983                      3       28831.0                 2517   \n",
       "\n",
       "           Avg_Open_To_Buy  ...  Total_Ct_Chng_Q4_Q1  Avg_Utilization_Ratio  \\\n",
       "CLIENTNUM                   ...                                               \n",
       "772382283            709.0  ...                0.324                  0.692   \n",
       "709206333           4333.0  ...                0.538                  0.000   \n",
       "714887808           1818.0  ...                0.724                  0.000   \n",
       "709531908           1438.3  ...                0.828                  0.000   \n",
       "739692933            609.0  ...                0.519                  0.805   \n",
       "...                    ...  ...                  ...                    ...   \n",
       "771215583          23059.0  ...                0.935                  0.060   \n",
       "770956158            246.0  ...                0.744                  0.897   \n",
       "772813458           4389.0  ...                0.658                  0.284   \n",
       "712760208           5559.0  ...                0.550                  0.177   \n",
       "770038983          26314.0  ...                0.769                  0.087   \n",
       "\n",
       "              Attrition_Flag  female_enc  male_enc education_level_enc  \\\n",
       "CLIENTNUM                                                                \n",
       "772382283  Attrited Customer           1         0                   3   \n",
       "709206333  Attrited Customer           1         0                   3   \n",
       "714887808  Attrited Customer           1         0                   0   \n",
       "709531908  Existing Customer           0         1                   1   \n",
       "739692933  Existing Customer           1         0                   3   \n",
       "...                      ...         ...       ...                 ...   \n",
       "771215583  Existing Customer           0         1                   1   \n",
       "770956158  Existing Customer           1         0                   3   \n",
       "772813458  Existing Customer           1         0                   3   \n",
       "712760208  Existing Customer           1         0                   3   \n",
       "770038983  Attrited Customer           0         1                   1   \n",
       "\n",
       "           Married_enc  Single_enc  Divorced_enc  Income_Category_enc  \n",
       "CLIENTNUM                                                              \n",
       "772382283            1           0             0                    1  \n",
       "709206333            0           1             0                    2  \n",
       "714887808            0           1             0                    1  \n",
       "709531908            1           0             0                    3  \n",
       "739692933            0           1             0                    2  \n",
       "...                ...         ...           ...                  ...  \n",
       "771215583            0           1             0                    3  \n",
       "770956158            1           0             0                    1  \n",
       "772813458            1           0             0                    1  \n",
       "712760208            1           0             0                    1  \n",
       "770038983            0           1             0                    3  \n",
       "\n",
       "[9114 rows x 23 columns]"
      ]
     },
     "execution_count": 41,
     "metadata": {},
     "output_type": "execute_result"
    }
   ],
   "source": [
    "df"
   ]
  },
  {
   "cell_type": "code",
   "execution_count": 42,
   "id": "0ec2ca21",
   "metadata": {
    "ExecuteTime": {
     "end_time": "2022-11-18T14:26:13.194432Z",
     "start_time": "2022-11-18T14:26:13.166681Z"
    }
   },
   "outputs": [
    {
     "name": "stdout",
     "output_type": "stream",
     "text": [
      "<class 'pandas.core.frame.DataFrame'>\n",
      "Int64Index: 9114 entries, 772382283 to 770038983\n",
      "Data columns (total 23 columns):\n",
      " #   Column                    Non-Null Count  Dtype  \n",
      "---  ------                    --------------  -----  \n",
      " 0   Customer_Age              9114 non-null   int64  \n",
      " 1   Dependent_count           9114 non-null   int64  \n",
      " 2   Card_Category             9114 non-null   object \n",
      " 3   Months_on_book            9114 non-null   int64  \n",
      " 4   Total_Relationship_Count  9114 non-null   int64  \n",
      " 5   Months_Inactive_12_mon    9114 non-null   int64  \n",
      " 6   Contacts_Count_12_mon     9114 non-null   int64  \n",
      " 7   Credit_Limit              9114 non-null   float64\n",
      " 8   Total_Revolving_Bal       9114 non-null   int64  \n",
      " 9   Avg_Open_To_Buy           9114 non-null   float64\n",
      " 10  Total_Amt_Chng_Q4_Q1      9114 non-null   float64\n",
      " 11  Total_Trans_Amt           9114 non-null   int64  \n",
      " 12  Total_Trans_Ct            9114 non-null   int64  \n",
      " 13  Total_Ct_Chng_Q4_Q1       9114 non-null   float64\n",
      " 14  Avg_Utilization_Ratio     9114 non-null   float64\n",
      " 15  Attrition_Flag            9114 non-null   object \n",
      " 16  female_enc                9114 non-null   int64  \n",
      " 17  male_enc                  9114 non-null   int64  \n",
      " 18  education_level_enc       9114 non-null   int64  \n",
      " 19  Married_enc               9114 non-null   int64  \n",
      " 20  Single_enc                9114 non-null   int64  \n",
      " 21  Divorced_enc              9114 non-null   int64  \n",
      " 22  Income_Category_enc       9114 non-null   int64  \n",
      "dtypes: float64(5), int64(16), object(2)\n",
      "memory usage: 1.7+ MB\n"
     ]
    }
   ],
   "source": [
    "df.info()"
   ]
  },
  {
   "cell_type": "markdown",
   "id": "aba22d1b",
   "metadata": {},
   "source": [
    "### Handling Categorical Card_Category"
   ]
  },
  {
   "cell_type": "code",
   "execution_count": 43,
   "id": "305d6e36",
   "metadata": {
    "ExecuteTime": {
     "end_time": "2022-11-18T14:26:13.210385Z",
     "start_time": "2022-11-18T14:26:13.197447Z"
    }
   },
   "outputs": [
    {
     "data": {
      "text/plain": [
       "Blue        8488\n",
       "Silver       500\n",
       "Gold         107\n",
       "Platinum      19\n",
       "Name: Card_Category, dtype: int64"
      ]
     },
     "execution_count": 43,
     "metadata": {},
     "output_type": "execute_result"
    }
   ],
   "source": [
    "df['Card_Category'].value_counts()"
   ]
  },
  {
   "cell_type": "code",
   "execution_count": 44,
   "id": "90cee11d",
   "metadata": {
    "ExecuteTime": {
     "end_time": "2022-11-18T14:26:13.226506Z",
     "start_time": "2022-11-18T14:26:13.214355Z"
    }
   },
   "outputs": [],
   "source": [
    "def card_map(x):\n",
    "    if x=='Blue':\n",
    "        return 0\n",
    "    elif x== 'Silver' :\n",
    "        return 1\n",
    "    elif x== 'Gold':\n",
    "        return 2\n",
    "    elif x== 'Platinum':\n",
    "        return 3    \n",
    "    else:\n",
    "        return None"
   ]
  },
  {
   "cell_type": "code",
   "execution_count": 45,
   "id": "a21776c4",
   "metadata": {
    "ExecuteTime": {
     "end_time": "2022-11-18T14:26:13.241936Z",
     "start_time": "2022-11-18T14:26:13.228842Z"
    }
   },
   "outputs": [],
   "source": [
    "df['Card_Category_enc']=df['Card_Category'].apply(card_map)"
   ]
  },
  {
   "cell_type": "code",
   "execution_count": 46,
   "id": "daa235c9",
   "metadata": {
    "ExecuteTime": {
     "end_time": "2022-11-18T14:26:13.257092Z",
     "start_time": "2022-11-18T14:26:13.244939Z"
    }
   },
   "outputs": [
    {
     "data": {
      "text/plain": [
       "0    8488\n",
       "1     500\n",
       "2     107\n",
       "3      19\n",
       "Name: Card_Category_enc, dtype: int64"
      ]
     },
     "execution_count": 46,
     "metadata": {},
     "output_type": "execute_result"
    }
   ],
   "source": [
    "df['Card_Category_enc'].value_counts()"
   ]
  },
  {
   "cell_type": "code",
   "execution_count": 47,
   "id": "c92ef929",
   "metadata": {
    "ExecuteTime": {
     "end_time": "2022-11-18T14:26:13.272317Z",
     "start_time": "2022-11-18T14:26:13.260001Z"
    }
   },
   "outputs": [],
   "source": [
    "df=df.drop(columns='Card_Category')"
   ]
  },
  {
   "cell_type": "code",
   "execution_count": 48,
   "id": "1112defc",
   "metadata": {
    "ExecuteTime": {
     "end_time": "2022-11-18T14:26:13.319684Z",
     "start_time": "2022-11-18T14:26:13.275327Z"
    }
   },
   "outputs": [
    {
     "data": {
      "text/html": [
       "<div>\n",
       "<style scoped>\n",
       "    .dataframe tbody tr th:only-of-type {\n",
       "        vertical-align: middle;\n",
       "    }\n",
       "\n",
       "    .dataframe tbody tr th {\n",
       "        vertical-align: top;\n",
       "    }\n",
       "\n",
       "    .dataframe thead th {\n",
       "        text-align: right;\n",
       "    }\n",
       "</style>\n",
       "<table border=\"1\" class=\"dataframe\">\n",
       "  <thead>\n",
       "    <tr style=\"text-align: right;\">\n",
       "      <th></th>\n",
       "      <th>Customer_Age</th>\n",
       "      <th>Dependent_count</th>\n",
       "      <th>Months_on_book</th>\n",
       "      <th>Total_Relationship_Count</th>\n",
       "      <th>Months_Inactive_12_mon</th>\n",
       "      <th>Contacts_Count_12_mon</th>\n",
       "      <th>Credit_Limit</th>\n",
       "      <th>Total_Revolving_Bal</th>\n",
       "      <th>Avg_Open_To_Buy</th>\n",
       "      <th>Total_Amt_Chng_Q4_Q1</th>\n",
       "      <th>...</th>\n",
       "      <th>Avg_Utilization_Ratio</th>\n",
       "      <th>Attrition_Flag</th>\n",
       "      <th>female_enc</th>\n",
       "      <th>male_enc</th>\n",
       "      <th>education_level_enc</th>\n",
       "      <th>Married_enc</th>\n",
       "      <th>Single_enc</th>\n",
       "      <th>Divorced_enc</th>\n",
       "      <th>Income_Category_enc</th>\n",
       "      <th>Card_Category_enc</th>\n",
       "    </tr>\n",
       "    <tr>\n",
       "      <th>CLIENTNUM</th>\n",
       "      <th></th>\n",
       "      <th></th>\n",
       "      <th></th>\n",
       "      <th></th>\n",
       "      <th></th>\n",
       "      <th></th>\n",
       "      <th></th>\n",
       "      <th></th>\n",
       "      <th></th>\n",
       "      <th></th>\n",
       "      <th></th>\n",
       "      <th></th>\n",
       "      <th></th>\n",
       "      <th></th>\n",
       "      <th></th>\n",
       "      <th></th>\n",
       "      <th></th>\n",
       "      <th></th>\n",
       "      <th></th>\n",
       "      <th></th>\n",
       "      <th></th>\n",
       "    </tr>\n",
       "  </thead>\n",
       "  <tbody>\n",
       "    <tr>\n",
       "      <th>772382283</th>\n",
       "      <td>46</td>\n",
       "      <td>3</td>\n",
       "      <td>36</td>\n",
       "      <td>3</td>\n",
       "      <td>3</td>\n",
       "      <td>3</td>\n",
       "      <td>2302.0</td>\n",
       "      <td>1593</td>\n",
       "      <td>709.0</td>\n",
       "      <td>0.671</td>\n",
       "      <td>...</td>\n",
       "      <td>0.692</td>\n",
       "      <td>Attrited Customer</td>\n",
       "      <td>1</td>\n",
       "      <td>0</td>\n",
       "      <td>3</td>\n",
       "      <td>1</td>\n",
       "      <td>0</td>\n",
       "      <td>0</td>\n",
       "      <td>1</td>\n",
       "      <td>0</td>\n",
       "    </tr>\n",
       "    <tr>\n",
       "      <th>709206333</th>\n",
       "      <td>44</td>\n",
       "      <td>4</td>\n",
       "      <td>30</td>\n",
       "      <td>3</td>\n",
       "      <td>4</td>\n",
       "      <td>4</td>\n",
       "      <td>4333.0</td>\n",
       "      <td>0</td>\n",
       "      <td>4333.0</td>\n",
       "      <td>0.463</td>\n",
       "      <td>...</td>\n",
       "      <td>0.000</td>\n",
       "      <td>Attrited Customer</td>\n",
       "      <td>1</td>\n",
       "      <td>0</td>\n",
       "      <td>3</td>\n",
       "      <td>0</td>\n",
       "      <td>1</td>\n",
       "      <td>0</td>\n",
       "      <td>2</td>\n",
       "      <td>0</td>\n",
       "    </tr>\n",
       "    <tr>\n",
       "      <th>714887808</th>\n",
       "      <td>43</td>\n",
       "      <td>1</td>\n",
       "      <td>36</td>\n",
       "      <td>1</td>\n",
       "      <td>3</td>\n",
       "      <td>2</td>\n",
       "      <td>1818.0</td>\n",
       "      <td>0</td>\n",
       "      <td>1818.0</td>\n",
       "      <td>0.758</td>\n",
       "      <td>...</td>\n",
       "      <td>0.000</td>\n",
       "      <td>Attrited Customer</td>\n",
       "      <td>1</td>\n",
       "      <td>0</td>\n",
       "      <td>0</td>\n",
       "      <td>0</td>\n",
       "      <td>1</td>\n",
       "      <td>0</td>\n",
       "      <td>1</td>\n",
       "      <td>0</td>\n",
       "    </tr>\n",
       "    <tr>\n",
       "      <th>709531908</th>\n",
       "      <td>53</td>\n",
       "      <td>3</td>\n",
       "      <td>47</td>\n",
       "      <td>5</td>\n",
       "      <td>2</td>\n",
       "      <td>2</td>\n",
       "      <td>1438.3</td>\n",
       "      <td>0</td>\n",
       "      <td>1438.3</td>\n",
       "      <td>0.776</td>\n",
       "      <td>...</td>\n",
       "      <td>0.000</td>\n",
       "      <td>Existing Customer</td>\n",
       "      <td>0</td>\n",
       "      <td>1</td>\n",
       "      <td>1</td>\n",
       "      <td>1</td>\n",
       "      <td>0</td>\n",
       "      <td>0</td>\n",
       "      <td>3</td>\n",
       "      <td>0</td>\n",
       "    </tr>\n",
       "    <tr>\n",
       "      <th>739692933</th>\n",
       "      <td>46</td>\n",
       "      <td>2</td>\n",
       "      <td>29</td>\n",
       "      <td>4</td>\n",
       "      <td>2</td>\n",
       "      <td>4</td>\n",
       "      <td>3126.0</td>\n",
       "      <td>2517</td>\n",
       "      <td>609.0</td>\n",
       "      <td>1.235</td>\n",
       "      <td>...</td>\n",
       "      <td>0.805</td>\n",
       "      <td>Existing Customer</td>\n",
       "      <td>1</td>\n",
       "      <td>0</td>\n",
       "      <td>3</td>\n",
       "      <td>0</td>\n",
       "      <td>1</td>\n",
       "      <td>0</td>\n",
       "      <td>2</td>\n",
       "      <td>0</td>\n",
       "    </tr>\n",
       "    <tr>\n",
       "      <th>...</th>\n",
       "      <td>...</td>\n",
       "      <td>...</td>\n",
       "      <td>...</td>\n",
       "      <td>...</td>\n",
       "      <td>...</td>\n",
       "      <td>...</td>\n",
       "      <td>...</td>\n",
       "      <td>...</td>\n",
       "      <td>...</td>\n",
       "      <td>...</td>\n",
       "      <td>...</td>\n",
       "      <td>...</td>\n",
       "      <td>...</td>\n",
       "      <td>...</td>\n",
       "      <td>...</td>\n",
       "      <td>...</td>\n",
       "      <td>...</td>\n",
       "      <td>...</td>\n",
       "      <td>...</td>\n",
       "      <td>...</td>\n",
       "      <td>...</td>\n",
       "    </tr>\n",
       "    <tr>\n",
       "      <th>771215583</th>\n",
       "      <td>39</td>\n",
       "      <td>3</td>\n",
       "      <td>26</td>\n",
       "      <td>6</td>\n",
       "      <td>1</td>\n",
       "      <td>4</td>\n",
       "      <td>24534.0</td>\n",
       "      <td>1475</td>\n",
       "      <td>23059.0</td>\n",
       "      <td>0.528</td>\n",
       "      <td>...</td>\n",
       "      <td>0.060</td>\n",
       "      <td>Existing Customer</td>\n",
       "      <td>0</td>\n",
       "      <td>1</td>\n",
       "      <td>1</td>\n",
       "      <td>0</td>\n",
       "      <td>1</td>\n",
       "      <td>0</td>\n",
       "      <td>3</td>\n",
       "      <td>0</td>\n",
       "    </tr>\n",
       "    <tr>\n",
       "      <th>770956158</th>\n",
       "      <td>43</td>\n",
       "      <td>4</td>\n",
       "      <td>30</td>\n",
       "      <td>3</td>\n",
       "      <td>2</td>\n",
       "      <td>1</td>\n",
       "      <td>2397.0</td>\n",
       "      <td>2151</td>\n",
       "      <td>246.0</td>\n",
       "      <td>0.839</td>\n",
       "      <td>...</td>\n",
       "      <td>0.897</td>\n",
       "      <td>Existing Customer</td>\n",
       "      <td>1</td>\n",
       "      <td>0</td>\n",
       "      <td>3</td>\n",
       "      <td>1</td>\n",
       "      <td>0</td>\n",
       "      <td>0</td>\n",
       "      <td>1</td>\n",
       "      <td>0</td>\n",
       "    </tr>\n",
       "    <tr>\n",
       "      <th>772813458</th>\n",
       "      <td>48</td>\n",
       "      <td>3</td>\n",
       "      <td>39</td>\n",
       "      <td>3</td>\n",
       "      <td>1</td>\n",
       "      <td>2</td>\n",
       "      <td>6130.0</td>\n",
       "      <td>1741</td>\n",
       "      <td>4389.0</td>\n",
       "      <td>0.578</td>\n",
       "      <td>...</td>\n",
       "      <td>0.284</td>\n",
       "      <td>Existing Customer</td>\n",
       "      <td>1</td>\n",
       "      <td>0</td>\n",
       "      <td>3</td>\n",
       "      <td>1</td>\n",
       "      <td>0</td>\n",
       "      <td>0</td>\n",
       "      <td>1</td>\n",
       "      <td>0</td>\n",
       "    </tr>\n",
       "    <tr>\n",
       "      <th>712760208</th>\n",
       "      <td>42</td>\n",
       "      <td>4</td>\n",
       "      <td>31</td>\n",
       "      <td>3</td>\n",
       "      <td>2</td>\n",
       "      <td>1</td>\n",
       "      <td>6751.0</td>\n",
       "      <td>1192</td>\n",
       "      <td>5559.0</td>\n",
       "      <td>0.776</td>\n",
       "      <td>...</td>\n",
       "      <td>0.177</td>\n",
       "      <td>Existing Customer</td>\n",
       "      <td>1</td>\n",
       "      <td>0</td>\n",
       "      <td>3</td>\n",
       "      <td>1</td>\n",
       "      <td>0</td>\n",
       "      <td>0</td>\n",
       "      <td>1</td>\n",
       "      <td>0</td>\n",
       "    </tr>\n",
       "    <tr>\n",
       "      <th>770038983</th>\n",
       "      <td>37</td>\n",
       "      <td>4</td>\n",
       "      <td>31</td>\n",
       "      <td>1</td>\n",
       "      <td>3</td>\n",
       "      <td>3</td>\n",
       "      <td>28831.0</td>\n",
       "      <td>2517</td>\n",
       "      <td>26314.0</td>\n",
       "      <td>0.770</td>\n",
       "      <td>...</td>\n",
       "      <td>0.087</td>\n",
       "      <td>Attrited Customer</td>\n",
       "      <td>0</td>\n",
       "      <td>1</td>\n",
       "      <td>1</td>\n",
       "      <td>0</td>\n",
       "      <td>1</td>\n",
       "      <td>0</td>\n",
       "      <td>3</td>\n",
       "      <td>1</td>\n",
       "    </tr>\n",
       "  </tbody>\n",
       "</table>\n",
       "<p>9114 rows × 23 columns</p>\n",
       "</div>"
      ],
      "text/plain": [
       "           Customer_Age  Dependent_count  Months_on_book  \\\n",
       "CLIENTNUM                                                  \n",
       "772382283            46                3              36   \n",
       "709206333            44                4              30   \n",
       "714887808            43                1              36   \n",
       "709531908            53                3              47   \n",
       "739692933            46                2              29   \n",
       "...                 ...              ...             ...   \n",
       "771215583            39                3              26   \n",
       "770956158            43                4              30   \n",
       "772813458            48                3              39   \n",
       "712760208            42                4              31   \n",
       "770038983            37                4              31   \n",
       "\n",
       "           Total_Relationship_Count  Months_Inactive_12_mon  \\\n",
       "CLIENTNUM                                                     \n",
       "772382283                         3                       3   \n",
       "709206333                         3                       4   \n",
       "714887808                         1                       3   \n",
       "709531908                         5                       2   \n",
       "739692933                         4                       2   \n",
       "...                             ...                     ...   \n",
       "771215583                         6                       1   \n",
       "770956158                         3                       2   \n",
       "772813458                         3                       1   \n",
       "712760208                         3                       2   \n",
       "770038983                         1                       3   \n",
       "\n",
       "           Contacts_Count_12_mon  Credit_Limit  Total_Revolving_Bal  \\\n",
       "CLIENTNUM                                                             \n",
       "772382283                      3        2302.0                 1593   \n",
       "709206333                      4        4333.0                    0   \n",
       "714887808                      2        1818.0                    0   \n",
       "709531908                      2        1438.3                    0   \n",
       "739692933                      4        3126.0                 2517   \n",
       "...                          ...           ...                  ...   \n",
       "771215583                      4       24534.0                 1475   \n",
       "770956158                      1        2397.0                 2151   \n",
       "772813458                      2        6130.0                 1741   \n",
       "712760208                      1        6751.0                 1192   \n",
       "770038983                      3       28831.0                 2517   \n",
       "\n",
       "           Avg_Open_To_Buy  Total_Amt_Chng_Q4_Q1  ...  Avg_Utilization_Ratio  \\\n",
       "CLIENTNUM                                         ...                          \n",
       "772382283            709.0                 0.671  ...                  0.692   \n",
       "709206333           4333.0                 0.463  ...                  0.000   \n",
       "714887808           1818.0                 0.758  ...                  0.000   \n",
       "709531908           1438.3                 0.776  ...                  0.000   \n",
       "739692933            609.0                 1.235  ...                  0.805   \n",
       "...                    ...                   ...  ...                    ...   \n",
       "771215583          23059.0                 0.528  ...                  0.060   \n",
       "770956158            246.0                 0.839  ...                  0.897   \n",
       "772813458           4389.0                 0.578  ...                  0.284   \n",
       "712760208           5559.0                 0.776  ...                  0.177   \n",
       "770038983          26314.0                 0.770  ...                  0.087   \n",
       "\n",
       "              Attrition_Flag  female_enc  male_enc education_level_enc  \\\n",
       "CLIENTNUM                                                                \n",
       "772382283  Attrited Customer           1         0                   3   \n",
       "709206333  Attrited Customer           1         0                   3   \n",
       "714887808  Attrited Customer           1         0                   0   \n",
       "709531908  Existing Customer           0         1                   1   \n",
       "739692933  Existing Customer           1         0                   3   \n",
       "...                      ...         ...       ...                 ...   \n",
       "771215583  Existing Customer           0         1                   1   \n",
       "770956158  Existing Customer           1         0                   3   \n",
       "772813458  Existing Customer           1         0                   3   \n",
       "712760208  Existing Customer           1         0                   3   \n",
       "770038983  Attrited Customer           0         1                   1   \n",
       "\n",
       "           Married_enc  Single_enc  Divorced_enc  Income_Category_enc  \\\n",
       "CLIENTNUM                                                               \n",
       "772382283            1           0             0                    1   \n",
       "709206333            0           1             0                    2   \n",
       "714887808            0           1             0                    1   \n",
       "709531908            1           0             0                    3   \n",
       "739692933            0           1             0                    2   \n",
       "...                ...         ...           ...                  ...   \n",
       "771215583            0           1             0                    3   \n",
       "770956158            1           0             0                    1   \n",
       "772813458            1           0             0                    1   \n",
       "712760208            1           0             0                    1   \n",
       "770038983            0           1             0                    3   \n",
       "\n",
       "           Card_Category_enc  \n",
       "CLIENTNUM                     \n",
       "772382283                  0  \n",
       "709206333                  0  \n",
       "714887808                  0  \n",
       "709531908                  0  \n",
       "739692933                  0  \n",
       "...                      ...  \n",
       "771215583                  0  \n",
       "770956158                  0  \n",
       "772813458                  0  \n",
       "712760208                  0  \n",
       "770038983                  1  \n",
       "\n",
       "[9114 rows x 23 columns]"
      ]
     },
     "execution_count": 48,
     "metadata": {},
     "output_type": "execute_result"
    }
   ],
   "source": [
    "df"
   ]
  },
  {
   "cell_type": "code",
   "execution_count": 49,
   "id": "d92a7d32",
   "metadata": {
    "ExecuteTime": {
     "end_time": "2022-11-18T14:26:13.350847Z",
     "start_time": "2022-11-18T14:26:13.321627Z"
    }
   },
   "outputs": [
    {
     "name": "stdout",
     "output_type": "stream",
     "text": [
      "<class 'pandas.core.frame.DataFrame'>\n",
      "Int64Index: 9114 entries, 772382283 to 770038983\n",
      "Data columns (total 23 columns):\n",
      " #   Column                    Non-Null Count  Dtype  \n",
      "---  ------                    --------------  -----  \n",
      " 0   Customer_Age              9114 non-null   int64  \n",
      " 1   Dependent_count           9114 non-null   int64  \n",
      " 2   Months_on_book            9114 non-null   int64  \n",
      " 3   Total_Relationship_Count  9114 non-null   int64  \n",
      " 4   Months_Inactive_12_mon    9114 non-null   int64  \n",
      " 5   Contacts_Count_12_mon     9114 non-null   int64  \n",
      " 6   Credit_Limit              9114 non-null   float64\n",
      " 7   Total_Revolving_Bal       9114 non-null   int64  \n",
      " 8   Avg_Open_To_Buy           9114 non-null   float64\n",
      " 9   Total_Amt_Chng_Q4_Q1      9114 non-null   float64\n",
      " 10  Total_Trans_Amt           9114 non-null   int64  \n",
      " 11  Total_Trans_Ct            9114 non-null   int64  \n",
      " 12  Total_Ct_Chng_Q4_Q1       9114 non-null   float64\n",
      " 13  Avg_Utilization_Ratio     9114 non-null   float64\n",
      " 14  Attrition_Flag            9114 non-null   object \n",
      " 15  female_enc                9114 non-null   int64  \n",
      " 16  male_enc                  9114 non-null   int64  \n",
      " 17  education_level_enc       9114 non-null   int64  \n",
      " 18  Married_enc               9114 non-null   int64  \n",
      " 19  Single_enc                9114 non-null   int64  \n",
      " 20  Divorced_enc              9114 non-null   int64  \n",
      " 21  Income_Category_enc       9114 non-null   int64  \n",
      " 22  Card_Category_enc         9114 non-null   int64  \n",
      "dtypes: float64(5), int64(17), object(1)\n",
      "memory usage: 1.7+ MB\n"
     ]
    }
   ],
   "source": [
    "df.info()"
   ]
  },
  {
   "cell_type": "markdown",
   "id": "c997c829",
   "metadata": {},
   "source": [
    "### Handling Categorical Attrition_Flag"
   ]
  },
  {
   "cell_type": "code",
   "execution_count": 50,
   "id": "7b14d8a8",
   "metadata": {
    "ExecuteTime": {
     "end_time": "2022-11-18T14:26:13.366802Z",
     "start_time": "2022-11-18T14:26:13.353855Z"
    }
   },
   "outputs": [
    {
     "data": {
      "text/plain": [
       "Existing Customer    7650\n",
       "Attrited Customer    1464\n",
       "Name: Attrition_Flag, dtype: int64"
      ]
     },
     "execution_count": 50,
     "metadata": {},
     "output_type": "execute_result"
    }
   ],
   "source": [
    "df['Attrition_Flag'].value_counts()"
   ]
  },
  {
   "cell_type": "code",
   "execution_count": 51,
   "id": "32230a50",
   "metadata": {
    "ExecuteTime": {
     "end_time": "2022-11-18T14:26:13.382263Z",
     "start_time": "2022-11-18T14:26:13.369194Z"
    }
   },
   "outputs": [],
   "source": [
    "Attrited_customer_enc=[]\n",
    "\n",
    "for i in df['Attrition_Flag']:\n",
    "    if i=='Existing Customer':\n",
    "        Attrited_customer_enc.append(0)\n",
    "    elif i=='Attrited Customer':\n",
    "        Attrited_customer_enc.append(1)\n",
    "    else:\n",
    "        Attrited_customer_enc.append(None)\n",
    "\n",
    "        \n"
   ]
  },
  {
   "cell_type": "code",
   "execution_count": 52,
   "id": "1825fde4",
   "metadata": {
    "ExecuteTime": {
     "end_time": "2022-11-18T14:26:13.398148Z",
     "start_time": "2022-11-18T14:26:13.385191Z"
    }
   },
   "outputs": [],
   "source": [
    "df['Attrited_customer_enc']=Attrited_customer_enc"
   ]
  },
  {
   "cell_type": "code",
   "execution_count": 53,
   "id": "0c574438",
   "metadata": {
    "ExecuteTime": {
     "end_time": "2022-11-18T14:26:13.430189Z",
     "start_time": "2022-11-18T14:26:13.400147Z"
    }
   },
   "outputs": [
    {
     "data": {
      "text/html": [
       "<div>\n",
       "<style scoped>\n",
       "    .dataframe tbody tr th:only-of-type {\n",
       "        vertical-align: middle;\n",
       "    }\n",
       "\n",
       "    .dataframe tbody tr th {\n",
       "        vertical-align: top;\n",
       "    }\n",
       "\n",
       "    .dataframe thead th {\n",
       "        text-align: right;\n",
       "    }\n",
       "</style>\n",
       "<table border=\"1\" class=\"dataframe\">\n",
       "  <thead>\n",
       "    <tr style=\"text-align: right;\">\n",
       "      <th></th>\n",
       "      <th>Customer_Age</th>\n",
       "      <th>Dependent_count</th>\n",
       "      <th>Months_on_book</th>\n",
       "      <th>Total_Relationship_Count</th>\n",
       "      <th>Months_Inactive_12_mon</th>\n",
       "      <th>Contacts_Count_12_mon</th>\n",
       "      <th>Credit_Limit</th>\n",
       "      <th>Total_Revolving_Bal</th>\n",
       "      <th>Avg_Open_To_Buy</th>\n",
       "      <th>Total_Amt_Chng_Q4_Q1</th>\n",
       "      <th>...</th>\n",
       "      <th>Attrition_Flag</th>\n",
       "      <th>female_enc</th>\n",
       "      <th>male_enc</th>\n",
       "      <th>education_level_enc</th>\n",
       "      <th>Married_enc</th>\n",
       "      <th>Single_enc</th>\n",
       "      <th>Divorced_enc</th>\n",
       "      <th>Income_Category_enc</th>\n",
       "      <th>Card_Category_enc</th>\n",
       "      <th>Attrited_customer_enc</th>\n",
       "    </tr>\n",
       "    <tr>\n",
       "      <th>CLIENTNUM</th>\n",
       "      <th></th>\n",
       "      <th></th>\n",
       "      <th></th>\n",
       "      <th></th>\n",
       "      <th></th>\n",
       "      <th></th>\n",
       "      <th></th>\n",
       "      <th></th>\n",
       "      <th></th>\n",
       "      <th></th>\n",
       "      <th></th>\n",
       "      <th></th>\n",
       "      <th></th>\n",
       "      <th></th>\n",
       "      <th></th>\n",
       "      <th></th>\n",
       "      <th></th>\n",
       "      <th></th>\n",
       "      <th></th>\n",
       "      <th></th>\n",
       "      <th></th>\n",
       "    </tr>\n",
       "  </thead>\n",
       "  <tbody>\n",
       "    <tr>\n",
       "      <th>772382283</th>\n",
       "      <td>46</td>\n",
       "      <td>3</td>\n",
       "      <td>36</td>\n",
       "      <td>3</td>\n",
       "      <td>3</td>\n",
       "      <td>3</td>\n",
       "      <td>2302.0</td>\n",
       "      <td>1593</td>\n",
       "      <td>709.0</td>\n",
       "      <td>0.671</td>\n",
       "      <td>...</td>\n",
       "      <td>Attrited Customer</td>\n",
       "      <td>1</td>\n",
       "      <td>0</td>\n",
       "      <td>3</td>\n",
       "      <td>1</td>\n",
       "      <td>0</td>\n",
       "      <td>0</td>\n",
       "      <td>1</td>\n",
       "      <td>0</td>\n",
       "      <td>1</td>\n",
       "    </tr>\n",
       "    <tr>\n",
       "      <th>709206333</th>\n",
       "      <td>44</td>\n",
       "      <td>4</td>\n",
       "      <td>30</td>\n",
       "      <td>3</td>\n",
       "      <td>4</td>\n",
       "      <td>4</td>\n",
       "      <td>4333.0</td>\n",
       "      <td>0</td>\n",
       "      <td>4333.0</td>\n",
       "      <td>0.463</td>\n",
       "      <td>...</td>\n",
       "      <td>Attrited Customer</td>\n",
       "      <td>1</td>\n",
       "      <td>0</td>\n",
       "      <td>3</td>\n",
       "      <td>0</td>\n",
       "      <td>1</td>\n",
       "      <td>0</td>\n",
       "      <td>2</td>\n",
       "      <td>0</td>\n",
       "      <td>1</td>\n",
       "    </tr>\n",
       "    <tr>\n",
       "      <th>714887808</th>\n",
       "      <td>43</td>\n",
       "      <td>1</td>\n",
       "      <td>36</td>\n",
       "      <td>1</td>\n",
       "      <td>3</td>\n",
       "      <td>2</td>\n",
       "      <td>1818.0</td>\n",
       "      <td>0</td>\n",
       "      <td>1818.0</td>\n",
       "      <td>0.758</td>\n",
       "      <td>...</td>\n",
       "      <td>Attrited Customer</td>\n",
       "      <td>1</td>\n",
       "      <td>0</td>\n",
       "      <td>0</td>\n",
       "      <td>0</td>\n",
       "      <td>1</td>\n",
       "      <td>0</td>\n",
       "      <td>1</td>\n",
       "      <td>0</td>\n",
       "      <td>1</td>\n",
       "    </tr>\n",
       "    <tr>\n",
       "      <th>709531908</th>\n",
       "      <td>53</td>\n",
       "      <td>3</td>\n",
       "      <td>47</td>\n",
       "      <td>5</td>\n",
       "      <td>2</td>\n",
       "      <td>2</td>\n",
       "      <td>1438.3</td>\n",
       "      <td>0</td>\n",
       "      <td>1438.3</td>\n",
       "      <td>0.776</td>\n",
       "      <td>...</td>\n",
       "      <td>Existing Customer</td>\n",
       "      <td>0</td>\n",
       "      <td>1</td>\n",
       "      <td>1</td>\n",
       "      <td>1</td>\n",
       "      <td>0</td>\n",
       "      <td>0</td>\n",
       "      <td>3</td>\n",
       "      <td>0</td>\n",
       "      <td>0</td>\n",
       "    </tr>\n",
       "    <tr>\n",
       "      <th>739692933</th>\n",
       "      <td>46</td>\n",
       "      <td>2</td>\n",
       "      <td>29</td>\n",
       "      <td>4</td>\n",
       "      <td>2</td>\n",
       "      <td>4</td>\n",
       "      <td>3126.0</td>\n",
       "      <td>2517</td>\n",
       "      <td>609.0</td>\n",
       "      <td>1.235</td>\n",
       "      <td>...</td>\n",
       "      <td>Existing Customer</td>\n",
       "      <td>1</td>\n",
       "      <td>0</td>\n",
       "      <td>3</td>\n",
       "      <td>0</td>\n",
       "      <td>1</td>\n",
       "      <td>0</td>\n",
       "      <td>2</td>\n",
       "      <td>0</td>\n",
       "      <td>0</td>\n",
       "    </tr>\n",
       "    <tr>\n",
       "      <th>...</th>\n",
       "      <td>...</td>\n",
       "      <td>...</td>\n",
       "      <td>...</td>\n",
       "      <td>...</td>\n",
       "      <td>...</td>\n",
       "      <td>...</td>\n",
       "      <td>...</td>\n",
       "      <td>...</td>\n",
       "      <td>...</td>\n",
       "      <td>...</td>\n",
       "      <td>...</td>\n",
       "      <td>...</td>\n",
       "      <td>...</td>\n",
       "      <td>...</td>\n",
       "      <td>...</td>\n",
       "      <td>...</td>\n",
       "      <td>...</td>\n",
       "      <td>...</td>\n",
       "      <td>...</td>\n",
       "      <td>...</td>\n",
       "      <td>...</td>\n",
       "    </tr>\n",
       "    <tr>\n",
       "      <th>771215583</th>\n",
       "      <td>39</td>\n",
       "      <td>3</td>\n",
       "      <td>26</td>\n",
       "      <td>6</td>\n",
       "      <td>1</td>\n",
       "      <td>4</td>\n",
       "      <td>24534.0</td>\n",
       "      <td>1475</td>\n",
       "      <td>23059.0</td>\n",
       "      <td>0.528</td>\n",
       "      <td>...</td>\n",
       "      <td>Existing Customer</td>\n",
       "      <td>0</td>\n",
       "      <td>1</td>\n",
       "      <td>1</td>\n",
       "      <td>0</td>\n",
       "      <td>1</td>\n",
       "      <td>0</td>\n",
       "      <td>3</td>\n",
       "      <td>0</td>\n",
       "      <td>0</td>\n",
       "    </tr>\n",
       "    <tr>\n",
       "      <th>770956158</th>\n",
       "      <td>43</td>\n",
       "      <td>4</td>\n",
       "      <td>30</td>\n",
       "      <td>3</td>\n",
       "      <td>2</td>\n",
       "      <td>1</td>\n",
       "      <td>2397.0</td>\n",
       "      <td>2151</td>\n",
       "      <td>246.0</td>\n",
       "      <td>0.839</td>\n",
       "      <td>...</td>\n",
       "      <td>Existing Customer</td>\n",
       "      <td>1</td>\n",
       "      <td>0</td>\n",
       "      <td>3</td>\n",
       "      <td>1</td>\n",
       "      <td>0</td>\n",
       "      <td>0</td>\n",
       "      <td>1</td>\n",
       "      <td>0</td>\n",
       "      <td>0</td>\n",
       "    </tr>\n",
       "    <tr>\n",
       "      <th>772813458</th>\n",
       "      <td>48</td>\n",
       "      <td>3</td>\n",
       "      <td>39</td>\n",
       "      <td>3</td>\n",
       "      <td>1</td>\n",
       "      <td>2</td>\n",
       "      <td>6130.0</td>\n",
       "      <td>1741</td>\n",
       "      <td>4389.0</td>\n",
       "      <td>0.578</td>\n",
       "      <td>...</td>\n",
       "      <td>Existing Customer</td>\n",
       "      <td>1</td>\n",
       "      <td>0</td>\n",
       "      <td>3</td>\n",
       "      <td>1</td>\n",
       "      <td>0</td>\n",
       "      <td>0</td>\n",
       "      <td>1</td>\n",
       "      <td>0</td>\n",
       "      <td>0</td>\n",
       "    </tr>\n",
       "    <tr>\n",
       "      <th>712760208</th>\n",
       "      <td>42</td>\n",
       "      <td>4</td>\n",
       "      <td>31</td>\n",
       "      <td>3</td>\n",
       "      <td>2</td>\n",
       "      <td>1</td>\n",
       "      <td>6751.0</td>\n",
       "      <td>1192</td>\n",
       "      <td>5559.0</td>\n",
       "      <td>0.776</td>\n",
       "      <td>...</td>\n",
       "      <td>Existing Customer</td>\n",
       "      <td>1</td>\n",
       "      <td>0</td>\n",
       "      <td>3</td>\n",
       "      <td>1</td>\n",
       "      <td>0</td>\n",
       "      <td>0</td>\n",
       "      <td>1</td>\n",
       "      <td>0</td>\n",
       "      <td>0</td>\n",
       "    </tr>\n",
       "    <tr>\n",
       "      <th>770038983</th>\n",
       "      <td>37</td>\n",
       "      <td>4</td>\n",
       "      <td>31</td>\n",
       "      <td>1</td>\n",
       "      <td>3</td>\n",
       "      <td>3</td>\n",
       "      <td>28831.0</td>\n",
       "      <td>2517</td>\n",
       "      <td>26314.0</td>\n",
       "      <td>0.770</td>\n",
       "      <td>...</td>\n",
       "      <td>Attrited Customer</td>\n",
       "      <td>0</td>\n",
       "      <td>1</td>\n",
       "      <td>1</td>\n",
       "      <td>0</td>\n",
       "      <td>1</td>\n",
       "      <td>0</td>\n",
       "      <td>3</td>\n",
       "      <td>1</td>\n",
       "      <td>1</td>\n",
       "    </tr>\n",
       "  </tbody>\n",
       "</table>\n",
       "<p>9114 rows × 24 columns</p>\n",
       "</div>"
      ],
      "text/plain": [
       "           Customer_Age  Dependent_count  Months_on_book  \\\n",
       "CLIENTNUM                                                  \n",
       "772382283            46                3              36   \n",
       "709206333            44                4              30   \n",
       "714887808            43                1              36   \n",
       "709531908            53                3              47   \n",
       "739692933            46                2              29   \n",
       "...                 ...              ...             ...   \n",
       "771215583            39                3              26   \n",
       "770956158            43                4              30   \n",
       "772813458            48                3              39   \n",
       "712760208            42                4              31   \n",
       "770038983            37                4              31   \n",
       "\n",
       "           Total_Relationship_Count  Months_Inactive_12_mon  \\\n",
       "CLIENTNUM                                                     \n",
       "772382283                         3                       3   \n",
       "709206333                         3                       4   \n",
       "714887808                         1                       3   \n",
       "709531908                         5                       2   \n",
       "739692933                         4                       2   \n",
       "...                             ...                     ...   \n",
       "771215583                         6                       1   \n",
       "770956158                         3                       2   \n",
       "772813458                         3                       1   \n",
       "712760208                         3                       2   \n",
       "770038983                         1                       3   \n",
       "\n",
       "           Contacts_Count_12_mon  Credit_Limit  Total_Revolving_Bal  \\\n",
       "CLIENTNUM                                                             \n",
       "772382283                      3        2302.0                 1593   \n",
       "709206333                      4        4333.0                    0   \n",
       "714887808                      2        1818.0                    0   \n",
       "709531908                      2        1438.3                    0   \n",
       "739692933                      4        3126.0                 2517   \n",
       "...                          ...           ...                  ...   \n",
       "771215583                      4       24534.0                 1475   \n",
       "770956158                      1        2397.0                 2151   \n",
       "772813458                      2        6130.0                 1741   \n",
       "712760208                      1        6751.0                 1192   \n",
       "770038983                      3       28831.0                 2517   \n",
       "\n",
       "           Avg_Open_To_Buy  Total_Amt_Chng_Q4_Q1  ...     Attrition_Flag  \\\n",
       "CLIENTNUM                                         ...                      \n",
       "772382283            709.0                 0.671  ...  Attrited Customer   \n",
       "709206333           4333.0                 0.463  ...  Attrited Customer   \n",
       "714887808           1818.0                 0.758  ...  Attrited Customer   \n",
       "709531908           1438.3                 0.776  ...  Existing Customer   \n",
       "739692933            609.0                 1.235  ...  Existing Customer   \n",
       "...                    ...                   ...  ...                ...   \n",
       "771215583          23059.0                 0.528  ...  Existing Customer   \n",
       "770956158            246.0                 0.839  ...  Existing Customer   \n",
       "772813458           4389.0                 0.578  ...  Existing Customer   \n",
       "712760208           5559.0                 0.776  ...  Existing Customer   \n",
       "770038983          26314.0                 0.770  ...  Attrited Customer   \n",
       "\n",
       "           female_enc  male_enc  education_level_enc Married_enc  Single_enc  \\\n",
       "CLIENTNUM                                                                      \n",
       "772382283           1         0                    3           1           0   \n",
       "709206333           1         0                    3           0           1   \n",
       "714887808           1         0                    0           0           1   \n",
       "709531908           0         1                    1           1           0   \n",
       "739692933           1         0                    3           0           1   \n",
       "...               ...       ...                  ...         ...         ...   \n",
       "771215583           0         1                    1           0           1   \n",
       "770956158           1         0                    3           1           0   \n",
       "772813458           1         0                    3           1           0   \n",
       "712760208           1         0                    3           1           0   \n",
       "770038983           0         1                    1           0           1   \n",
       "\n",
       "           Divorced_enc  Income_Category_enc  Card_Category_enc  \\\n",
       "CLIENTNUM                                                         \n",
       "772382283             0                    1                  0   \n",
       "709206333             0                    2                  0   \n",
       "714887808             0                    1                  0   \n",
       "709531908             0                    3                  0   \n",
       "739692933             0                    2                  0   \n",
       "...                 ...                  ...                ...   \n",
       "771215583             0                    3                  0   \n",
       "770956158             0                    1                  0   \n",
       "772813458             0                    1                  0   \n",
       "712760208             0                    1                  0   \n",
       "770038983             0                    3                  1   \n",
       "\n",
       "           Attrited_customer_enc  \n",
       "CLIENTNUM                         \n",
       "772382283                      1  \n",
       "709206333                      1  \n",
       "714887808                      1  \n",
       "709531908                      0  \n",
       "739692933                      0  \n",
       "...                          ...  \n",
       "771215583                      0  \n",
       "770956158                      0  \n",
       "772813458                      0  \n",
       "712760208                      0  \n",
       "770038983                      1  \n",
       "\n",
       "[9114 rows x 24 columns]"
      ]
     },
     "execution_count": 53,
     "metadata": {},
     "output_type": "execute_result"
    }
   ],
   "source": [
    "df"
   ]
  },
  {
   "cell_type": "code",
   "execution_count": 54,
   "id": "d821dc5b",
   "metadata": {
    "ExecuteTime": {
     "end_time": "2022-11-18T14:26:13.446241Z",
     "start_time": "2022-11-18T14:26:13.432182Z"
    }
   },
   "outputs": [
    {
     "data": {
      "text/plain": [
       "0    7650\n",
       "1    1464\n",
       "Name: Attrited_customer_enc, dtype: int64"
      ]
     },
     "execution_count": 54,
     "metadata": {},
     "output_type": "execute_result"
    }
   ],
   "source": [
    "df['Attrited_customer_enc'].value_counts()"
   ]
  },
  {
   "cell_type": "code",
   "execution_count": 55,
   "id": "ca1275e9",
   "metadata": {
    "ExecuteTime": {
     "end_time": "2022-11-18T14:26:13.461848Z",
     "start_time": "2022-11-18T14:26:13.448146Z"
    }
   },
   "outputs": [],
   "source": [
    "df=df.drop(columns='Attrition_Flag')"
   ]
  },
  {
   "cell_type": "code",
   "execution_count": 56,
   "id": "a48bf679",
   "metadata": {
    "ExecuteTime": {
     "end_time": "2022-11-18T14:26:13.493879Z",
     "start_time": "2022-11-18T14:26:13.464833Z"
    }
   },
   "outputs": [
    {
     "data": {
      "text/html": [
       "<div>\n",
       "<style scoped>\n",
       "    .dataframe tbody tr th:only-of-type {\n",
       "        vertical-align: middle;\n",
       "    }\n",
       "\n",
       "    .dataframe tbody tr th {\n",
       "        vertical-align: top;\n",
       "    }\n",
       "\n",
       "    .dataframe thead th {\n",
       "        text-align: right;\n",
       "    }\n",
       "</style>\n",
       "<table border=\"1\" class=\"dataframe\">\n",
       "  <thead>\n",
       "    <tr style=\"text-align: right;\">\n",
       "      <th></th>\n",
       "      <th>Customer_Age</th>\n",
       "      <th>Dependent_count</th>\n",
       "      <th>Months_on_book</th>\n",
       "      <th>Total_Relationship_Count</th>\n",
       "      <th>Months_Inactive_12_mon</th>\n",
       "      <th>Contacts_Count_12_mon</th>\n",
       "      <th>Credit_Limit</th>\n",
       "      <th>Total_Revolving_Bal</th>\n",
       "      <th>Avg_Open_To_Buy</th>\n",
       "      <th>Total_Amt_Chng_Q4_Q1</th>\n",
       "      <th>...</th>\n",
       "      <th>Avg_Utilization_Ratio</th>\n",
       "      <th>female_enc</th>\n",
       "      <th>male_enc</th>\n",
       "      <th>education_level_enc</th>\n",
       "      <th>Married_enc</th>\n",
       "      <th>Single_enc</th>\n",
       "      <th>Divorced_enc</th>\n",
       "      <th>Income_Category_enc</th>\n",
       "      <th>Card_Category_enc</th>\n",
       "      <th>Attrited_customer_enc</th>\n",
       "    </tr>\n",
       "    <tr>\n",
       "      <th>CLIENTNUM</th>\n",
       "      <th></th>\n",
       "      <th></th>\n",
       "      <th></th>\n",
       "      <th></th>\n",
       "      <th></th>\n",
       "      <th></th>\n",
       "      <th></th>\n",
       "      <th></th>\n",
       "      <th></th>\n",
       "      <th></th>\n",
       "      <th></th>\n",
       "      <th></th>\n",
       "      <th></th>\n",
       "      <th></th>\n",
       "      <th></th>\n",
       "      <th></th>\n",
       "      <th></th>\n",
       "      <th></th>\n",
       "      <th></th>\n",
       "      <th></th>\n",
       "      <th></th>\n",
       "    </tr>\n",
       "  </thead>\n",
       "  <tbody>\n",
       "    <tr>\n",
       "      <th>772382283</th>\n",
       "      <td>46</td>\n",
       "      <td>3</td>\n",
       "      <td>36</td>\n",
       "      <td>3</td>\n",
       "      <td>3</td>\n",
       "      <td>3</td>\n",
       "      <td>2302.0</td>\n",
       "      <td>1593</td>\n",
       "      <td>709.0</td>\n",
       "      <td>0.671</td>\n",
       "      <td>...</td>\n",
       "      <td>0.692</td>\n",
       "      <td>1</td>\n",
       "      <td>0</td>\n",
       "      <td>3</td>\n",
       "      <td>1</td>\n",
       "      <td>0</td>\n",
       "      <td>0</td>\n",
       "      <td>1</td>\n",
       "      <td>0</td>\n",
       "      <td>1</td>\n",
       "    </tr>\n",
       "    <tr>\n",
       "      <th>709206333</th>\n",
       "      <td>44</td>\n",
       "      <td>4</td>\n",
       "      <td>30</td>\n",
       "      <td>3</td>\n",
       "      <td>4</td>\n",
       "      <td>4</td>\n",
       "      <td>4333.0</td>\n",
       "      <td>0</td>\n",
       "      <td>4333.0</td>\n",
       "      <td>0.463</td>\n",
       "      <td>...</td>\n",
       "      <td>0.000</td>\n",
       "      <td>1</td>\n",
       "      <td>0</td>\n",
       "      <td>3</td>\n",
       "      <td>0</td>\n",
       "      <td>1</td>\n",
       "      <td>0</td>\n",
       "      <td>2</td>\n",
       "      <td>0</td>\n",
       "      <td>1</td>\n",
       "    </tr>\n",
       "    <tr>\n",
       "      <th>714887808</th>\n",
       "      <td>43</td>\n",
       "      <td>1</td>\n",
       "      <td>36</td>\n",
       "      <td>1</td>\n",
       "      <td>3</td>\n",
       "      <td>2</td>\n",
       "      <td>1818.0</td>\n",
       "      <td>0</td>\n",
       "      <td>1818.0</td>\n",
       "      <td>0.758</td>\n",
       "      <td>...</td>\n",
       "      <td>0.000</td>\n",
       "      <td>1</td>\n",
       "      <td>0</td>\n",
       "      <td>0</td>\n",
       "      <td>0</td>\n",
       "      <td>1</td>\n",
       "      <td>0</td>\n",
       "      <td>1</td>\n",
       "      <td>0</td>\n",
       "      <td>1</td>\n",
       "    </tr>\n",
       "    <tr>\n",
       "      <th>709531908</th>\n",
       "      <td>53</td>\n",
       "      <td>3</td>\n",
       "      <td>47</td>\n",
       "      <td>5</td>\n",
       "      <td>2</td>\n",
       "      <td>2</td>\n",
       "      <td>1438.3</td>\n",
       "      <td>0</td>\n",
       "      <td>1438.3</td>\n",
       "      <td>0.776</td>\n",
       "      <td>...</td>\n",
       "      <td>0.000</td>\n",
       "      <td>0</td>\n",
       "      <td>1</td>\n",
       "      <td>1</td>\n",
       "      <td>1</td>\n",
       "      <td>0</td>\n",
       "      <td>0</td>\n",
       "      <td>3</td>\n",
       "      <td>0</td>\n",
       "      <td>0</td>\n",
       "    </tr>\n",
       "    <tr>\n",
       "      <th>739692933</th>\n",
       "      <td>46</td>\n",
       "      <td>2</td>\n",
       "      <td>29</td>\n",
       "      <td>4</td>\n",
       "      <td>2</td>\n",
       "      <td>4</td>\n",
       "      <td>3126.0</td>\n",
       "      <td>2517</td>\n",
       "      <td>609.0</td>\n",
       "      <td>1.235</td>\n",
       "      <td>...</td>\n",
       "      <td>0.805</td>\n",
       "      <td>1</td>\n",
       "      <td>0</td>\n",
       "      <td>3</td>\n",
       "      <td>0</td>\n",
       "      <td>1</td>\n",
       "      <td>0</td>\n",
       "      <td>2</td>\n",
       "      <td>0</td>\n",
       "      <td>0</td>\n",
       "    </tr>\n",
       "    <tr>\n",
       "      <th>...</th>\n",
       "      <td>...</td>\n",
       "      <td>...</td>\n",
       "      <td>...</td>\n",
       "      <td>...</td>\n",
       "      <td>...</td>\n",
       "      <td>...</td>\n",
       "      <td>...</td>\n",
       "      <td>...</td>\n",
       "      <td>...</td>\n",
       "      <td>...</td>\n",
       "      <td>...</td>\n",
       "      <td>...</td>\n",
       "      <td>...</td>\n",
       "      <td>...</td>\n",
       "      <td>...</td>\n",
       "      <td>...</td>\n",
       "      <td>...</td>\n",
       "      <td>...</td>\n",
       "      <td>...</td>\n",
       "      <td>...</td>\n",
       "      <td>...</td>\n",
       "    </tr>\n",
       "    <tr>\n",
       "      <th>771215583</th>\n",
       "      <td>39</td>\n",
       "      <td>3</td>\n",
       "      <td>26</td>\n",
       "      <td>6</td>\n",
       "      <td>1</td>\n",
       "      <td>4</td>\n",
       "      <td>24534.0</td>\n",
       "      <td>1475</td>\n",
       "      <td>23059.0</td>\n",
       "      <td>0.528</td>\n",
       "      <td>...</td>\n",
       "      <td>0.060</td>\n",
       "      <td>0</td>\n",
       "      <td>1</td>\n",
       "      <td>1</td>\n",
       "      <td>0</td>\n",
       "      <td>1</td>\n",
       "      <td>0</td>\n",
       "      <td>3</td>\n",
       "      <td>0</td>\n",
       "      <td>0</td>\n",
       "    </tr>\n",
       "    <tr>\n",
       "      <th>770956158</th>\n",
       "      <td>43</td>\n",
       "      <td>4</td>\n",
       "      <td>30</td>\n",
       "      <td>3</td>\n",
       "      <td>2</td>\n",
       "      <td>1</td>\n",
       "      <td>2397.0</td>\n",
       "      <td>2151</td>\n",
       "      <td>246.0</td>\n",
       "      <td>0.839</td>\n",
       "      <td>...</td>\n",
       "      <td>0.897</td>\n",
       "      <td>1</td>\n",
       "      <td>0</td>\n",
       "      <td>3</td>\n",
       "      <td>1</td>\n",
       "      <td>0</td>\n",
       "      <td>0</td>\n",
       "      <td>1</td>\n",
       "      <td>0</td>\n",
       "      <td>0</td>\n",
       "    </tr>\n",
       "    <tr>\n",
       "      <th>772813458</th>\n",
       "      <td>48</td>\n",
       "      <td>3</td>\n",
       "      <td>39</td>\n",
       "      <td>3</td>\n",
       "      <td>1</td>\n",
       "      <td>2</td>\n",
       "      <td>6130.0</td>\n",
       "      <td>1741</td>\n",
       "      <td>4389.0</td>\n",
       "      <td>0.578</td>\n",
       "      <td>...</td>\n",
       "      <td>0.284</td>\n",
       "      <td>1</td>\n",
       "      <td>0</td>\n",
       "      <td>3</td>\n",
       "      <td>1</td>\n",
       "      <td>0</td>\n",
       "      <td>0</td>\n",
       "      <td>1</td>\n",
       "      <td>0</td>\n",
       "      <td>0</td>\n",
       "    </tr>\n",
       "    <tr>\n",
       "      <th>712760208</th>\n",
       "      <td>42</td>\n",
       "      <td>4</td>\n",
       "      <td>31</td>\n",
       "      <td>3</td>\n",
       "      <td>2</td>\n",
       "      <td>1</td>\n",
       "      <td>6751.0</td>\n",
       "      <td>1192</td>\n",
       "      <td>5559.0</td>\n",
       "      <td>0.776</td>\n",
       "      <td>...</td>\n",
       "      <td>0.177</td>\n",
       "      <td>1</td>\n",
       "      <td>0</td>\n",
       "      <td>3</td>\n",
       "      <td>1</td>\n",
       "      <td>0</td>\n",
       "      <td>0</td>\n",
       "      <td>1</td>\n",
       "      <td>0</td>\n",
       "      <td>0</td>\n",
       "    </tr>\n",
       "    <tr>\n",
       "      <th>770038983</th>\n",
       "      <td>37</td>\n",
       "      <td>4</td>\n",
       "      <td>31</td>\n",
       "      <td>1</td>\n",
       "      <td>3</td>\n",
       "      <td>3</td>\n",
       "      <td>28831.0</td>\n",
       "      <td>2517</td>\n",
       "      <td>26314.0</td>\n",
       "      <td>0.770</td>\n",
       "      <td>...</td>\n",
       "      <td>0.087</td>\n",
       "      <td>0</td>\n",
       "      <td>1</td>\n",
       "      <td>1</td>\n",
       "      <td>0</td>\n",
       "      <td>1</td>\n",
       "      <td>0</td>\n",
       "      <td>3</td>\n",
       "      <td>1</td>\n",
       "      <td>1</td>\n",
       "    </tr>\n",
       "  </tbody>\n",
       "</table>\n",
       "<p>9114 rows × 23 columns</p>\n",
       "</div>"
      ],
      "text/plain": [
       "           Customer_Age  Dependent_count  Months_on_book  \\\n",
       "CLIENTNUM                                                  \n",
       "772382283            46                3              36   \n",
       "709206333            44                4              30   \n",
       "714887808            43                1              36   \n",
       "709531908            53                3              47   \n",
       "739692933            46                2              29   \n",
       "...                 ...              ...             ...   \n",
       "771215583            39                3              26   \n",
       "770956158            43                4              30   \n",
       "772813458            48                3              39   \n",
       "712760208            42                4              31   \n",
       "770038983            37                4              31   \n",
       "\n",
       "           Total_Relationship_Count  Months_Inactive_12_mon  \\\n",
       "CLIENTNUM                                                     \n",
       "772382283                         3                       3   \n",
       "709206333                         3                       4   \n",
       "714887808                         1                       3   \n",
       "709531908                         5                       2   \n",
       "739692933                         4                       2   \n",
       "...                             ...                     ...   \n",
       "771215583                         6                       1   \n",
       "770956158                         3                       2   \n",
       "772813458                         3                       1   \n",
       "712760208                         3                       2   \n",
       "770038983                         1                       3   \n",
       "\n",
       "           Contacts_Count_12_mon  Credit_Limit  Total_Revolving_Bal  \\\n",
       "CLIENTNUM                                                             \n",
       "772382283                      3        2302.0                 1593   \n",
       "709206333                      4        4333.0                    0   \n",
       "714887808                      2        1818.0                    0   \n",
       "709531908                      2        1438.3                    0   \n",
       "739692933                      4        3126.0                 2517   \n",
       "...                          ...           ...                  ...   \n",
       "771215583                      4       24534.0                 1475   \n",
       "770956158                      1        2397.0                 2151   \n",
       "772813458                      2        6130.0                 1741   \n",
       "712760208                      1        6751.0                 1192   \n",
       "770038983                      3       28831.0                 2517   \n",
       "\n",
       "           Avg_Open_To_Buy  Total_Amt_Chng_Q4_Q1  ...  Avg_Utilization_Ratio  \\\n",
       "CLIENTNUM                                         ...                          \n",
       "772382283            709.0                 0.671  ...                  0.692   \n",
       "709206333           4333.0                 0.463  ...                  0.000   \n",
       "714887808           1818.0                 0.758  ...                  0.000   \n",
       "709531908           1438.3                 0.776  ...                  0.000   \n",
       "739692933            609.0                 1.235  ...                  0.805   \n",
       "...                    ...                   ...  ...                    ...   \n",
       "771215583          23059.0                 0.528  ...                  0.060   \n",
       "770956158            246.0                 0.839  ...                  0.897   \n",
       "772813458           4389.0                 0.578  ...                  0.284   \n",
       "712760208           5559.0                 0.776  ...                  0.177   \n",
       "770038983          26314.0                 0.770  ...                  0.087   \n",
       "\n",
       "           female_enc  male_enc  education_level_enc  Married_enc  Single_enc  \\\n",
       "CLIENTNUM                                                                       \n",
       "772382283           1         0                    3            1           0   \n",
       "709206333           1         0                    3            0           1   \n",
       "714887808           1         0                    0            0           1   \n",
       "709531908           0         1                    1            1           0   \n",
       "739692933           1         0                    3            0           1   \n",
       "...               ...       ...                  ...          ...         ...   \n",
       "771215583           0         1                    1            0           1   \n",
       "770956158           1         0                    3            1           0   \n",
       "772813458           1         0                    3            1           0   \n",
       "712760208           1         0                    3            1           0   \n",
       "770038983           0         1                    1            0           1   \n",
       "\n",
       "           Divorced_enc  Income_Category_enc  Card_Category_enc  \\\n",
       "CLIENTNUM                                                         \n",
       "772382283             0                    1                  0   \n",
       "709206333             0                    2                  0   \n",
       "714887808             0                    1                  0   \n",
       "709531908             0                    3                  0   \n",
       "739692933             0                    2                  0   \n",
       "...                 ...                  ...                ...   \n",
       "771215583             0                    3                  0   \n",
       "770956158             0                    1                  0   \n",
       "772813458             0                    1                  0   \n",
       "712760208             0                    1                  0   \n",
       "770038983             0                    3                  1   \n",
       "\n",
       "           Attrited_customer_enc  \n",
       "CLIENTNUM                         \n",
       "772382283                      1  \n",
       "709206333                      1  \n",
       "714887808                      1  \n",
       "709531908                      0  \n",
       "739692933                      0  \n",
       "...                          ...  \n",
       "771215583                      0  \n",
       "770956158                      0  \n",
       "772813458                      0  \n",
       "712760208                      0  \n",
       "770038983                      1  \n",
       "\n",
       "[9114 rows x 23 columns]"
      ]
     },
     "execution_count": 56,
     "metadata": {},
     "output_type": "execute_result"
    }
   ],
   "source": [
    "df"
   ]
  },
  {
   "cell_type": "code",
   "execution_count": 57,
   "id": "5894bb20",
   "metadata": {
    "ExecuteTime": {
     "end_time": "2022-11-18T14:26:13.509807Z",
     "start_time": "2022-11-18T14:26:13.496825Z"
    }
   },
   "outputs": [
    {
     "name": "stdout",
     "output_type": "stream",
     "text": [
      "<class 'pandas.core.frame.DataFrame'>\n",
      "Int64Index: 9114 entries, 772382283 to 770038983\n",
      "Data columns (total 23 columns):\n",
      " #   Column                    Non-Null Count  Dtype  \n",
      "---  ------                    --------------  -----  \n",
      " 0   Customer_Age              9114 non-null   int64  \n",
      " 1   Dependent_count           9114 non-null   int64  \n",
      " 2   Months_on_book            9114 non-null   int64  \n",
      " 3   Total_Relationship_Count  9114 non-null   int64  \n",
      " 4   Months_Inactive_12_mon    9114 non-null   int64  \n",
      " 5   Contacts_Count_12_mon     9114 non-null   int64  \n",
      " 6   Credit_Limit              9114 non-null   float64\n",
      " 7   Total_Revolving_Bal       9114 non-null   int64  \n",
      " 8   Avg_Open_To_Buy           9114 non-null   float64\n",
      " 9   Total_Amt_Chng_Q4_Q1      9114 non-null   float64\n",
      " 10  Total_Trans_Amt           9114 non-null   int64  \n",
      " 11  Total_Trans_Ct            9114 non-null   int64  \n",
      " 12  Total_Ct_Chng_Q4_Q1       9114 non-null   float64\n",
      " 13  Avg_Utilization_Ratio     9114 non-null   float64\n",
      " 14  female_enc                9114 non-null   int64  \n",
      " 15  male_enc                  9114 non-null   int64  \n",
      " 16  education_level_enc       9114 non-null   int64  \n",
      " 17  Married_enc               9114 non-null   int64  \n",
      " 18  Single_enc                9114 non-null   int64  \n",
      " 19  Divorced_enc              9114 non-null   int64  \n",
      " 20  Income_Category_enc       9114 non-null   int64  \n",
      " 21  Card_Category_enc         9114 non-null   int64  \n",
      " 22  Attrited_customer_enc     9114 non-null   int64  \n",
      "dtypes: float64(5), int64(18)\n",
      "memory usage: 1.7 MB\n"
     ]
    }
   ],
   "source": [
    "df.info()"
   ]
  },
  {
   "cell_type": "markdown",
   "id": "bf2e4db7",
   "metadata": {},
   "source": [
    "## Handling Outlier"
   ]
  },
  {
   "cell_type": "markdown",
   "id": "3ce3aca0",
   "metadata": {
    "ExecuteTime": {
     "end_time": "2022-11-18T03:10:05.527268Z",
     "start_time": "2022-11-18T03:10:05.507262Z"
    }
   },
   "source": [
    "### Check Outlier"
   ]
  },
  {
   "cell_type": "code",
   "execution_count": 58,
   "id": "adfc2a3a",
   "metadata": {
    "ExecuteTime": {
     "end_time": "2022-11-18T14:26:15.252471Z",
     "start_time": "2022-11-18T14:26:13.512507Z"
    }
   },
   "outputs": [
    {
     "name": "stdout",
     "output_type": "stream",
     "text": [
      "Check Outlier column :  Customer_Age \n",
      "\n"
     ]
    },
    {
     "data": {
      "image/png": "[encoded data removed]",
      "text/plain": [
       "<Figure size 432x288 with 1 Axes>"
      ]
     },
     "metadata": {
      "needs_background": "light"
     },
     "output_type": "display_data"
    },
    {
     "name": "stdout",
     "output_type": "stream",
     "text": [
      " \n",
      "\n",
      "Check Outlier column :  Dependent_count \n",
      "\n"
     ]
    },
    {
     "data": {
      "image/png": "[encoded data removed]",
      "text/plain": [
       "<Figure size 432x288 with 1 Axes>"
      ]
     },
     "metadata": {
      "needs_background": "light"
     },
     "output_type": "display_data"
    },
    {
     "name": "stdout",
     "output_type": "stream",
     "text": [
      " \n",
      "\n",
      "Check Outlier column :  Months_on_book \n",
      "\n"
     ]
    },
    {
     "data": {
      "image/png": "[encoded data removed]",
      "text/plain": [
       "<Figure size 432x288 with 1 Axes>"
      ]
     },
     "metadata": {
      "needs_background": "light"
     },
     "output_type": "display_data"
    },
    {
     "name": "stdout",
     "output_type": "stream",
     "text": [
      " \n",
      "\n",
      "Check Outlier column :  Total_Relationship_Count \n",
      "\n"
     ]
    },
    {
     "data": {
      "image/png": "[encoded data removed]",
      "text/plain": [
       "<Figure size 432x288 with 1 Axes>"
      ]
     },
     "metadata": {
      "needs_background": "light"
     },
     "output_type": "display_data"
    },
    {
     "name": "stdout",
     "output_type": "stream",
     "text": [
      " \n",
      "\n",
      "Check Outlier column :  Months_Inactive_12_mon \n",
      "\n"
     ]
    },
    {
     "data": {
      "image/png": "[encoded data removed]",
      "text/plain": [
       "<Figure size 432x288 with 1 Axes>"
      ]
     },
     "metadata": {
      "needs_background": "light"
     },
     "output_type": "display_data"
    },
    {
     "name": "stdout",
     "output_type": "stream",
     "text": [
      " \n",
      "\n",
      "Check Outlier column :  Contacts_Count_12_mon \n",
      "\n"
     ]
    },
    {
     "data": {
      "image/png": "[encoded data removed]",
      "text/plain": [
       "<Figure size 432x288 with 1 Axes>"
      ]
     },
     "metadata": {
      "needs_background": "light"
     },
     "output_type": "display_data"
    },
    {
     "name": "stdout",
     "output_type": "stream",
     "text": [
      " \n",
      "\n",
      "Check Outlier column :  Credit_Limit \n",
      "\n"
     ]
    },
    {
     "data": {
      "image/png": "[encoded data removed]",
      "text/plain": [
       "<Figure size 432x288 with 1 Axes>"
      ]
     },
     "metadata": {
      "needs_background": "light"
     },
     "output_type": "display_data"
    },
    {
     "name": "stdout",
     "output_type": "stream",
     "text": [
      " \n",
      "\n",
      "Check Outlier column :  Total_Revolving_Bal \n",
      "\n"
     ]
    },
    {
     "data": {
      "image/png": "[encoded data removed]",
      "text/plain": [
       "<Figure size 432x288 with 1 Axes>"
      ]
     },
     "metadata": {
      "needs_background": "light"
     },
     "output_type": "display_data"
    },
    {
     "name": "stdout",
     "output_type": "stream",
     "text": [
      " \n",
      "\n",
      "Check Outlier column :  Avg_Open_To_Buy \n",
      "\n"
     ]
    },
    {
     "data": {
      "image/png": "[encoded data removed]",
      "text/plain": [
       "<Figure size 432x288 with 1 Axes>"
      ]
     },
     "metadata": {
      "needs_background": "light"
     },
     "output_type": "display_data"
    },
    {
     "name": "stdout",
     "output_type": "stream",
     "text": [
      " \n",
      "\n",
      "Check Outlier column :  Total_Amt_Chng_Q4_Q1 \n",
      "\n"
     ]
    },
    {
     "data": {
      "image/png": "[encoded data removed]",
      "text/plain": [
       "<Figure size 432x288 with 1 Axes>"
      ]
     },
     "metadata": {
      "needs_background": "light"
     },
     "output_type": "display_data"
    },
    {
     "name": "stdout",
     "output_type": "stream",
     "text": [
      " \n",
      "\n",
      "Check Outlier column :  Total_Trans_Amt \n",
      "\n"
     ]
    },
    {
     "data": {
      "image/png": "[encoded data removed]",
      "text/plain": [
       "<Figure size 432x288 with 1 Axes>"
      ]
     },
     "metadata": {
      "needs_background": "light"
     },
     "output_type": "display_data"
    },
    {
     "name": "stdout",
     "output_type": "stream",
     "text": [
      " \n",
      "\n",
      "Check Outlier column :  Total_Trans_Ct \n",
      "\n"
     ]
    },
    {
     "data": {
      "image/png": "[encoded data removed]",
      "text/plain": [
       "<Figure size 432x288 with 1 Axes>"
      ]
     },
     "metadata": {
      "needs_background": "light"
     },
     "output_type": "display_data"
    },
    {
     "name": "stdout",
     "output_type": "stream",
     "text": [
      " \n",
      "\n",
      "Check Outlier column :  Total_Ct_Chng_Q4_Q1 \n",
      "\n"
     ]
    },
    {
     "data": {
      "image/png": "[encoded data removed]",
      "text/plain": [
       "<Figure size 432x288 with 1 Axes>"
      ]
     },
     "metadata": {
      "needs_background": "light"
     },
     "output_type": "display_data"
    },
    {
     "name": "stdout",
     "output_type": "stream",
     "text": [
      " \n",
      "\n",
      "Check Outlier column :  Avg_Utilization_Ratio \n",
      "\n"
     ]
    },
    {
     "data": {
      "image/png": "[encoded data removed]",
      "text/plain": [
       "<Figure size 432x288 with 1 Axes>"
      ]
     },
     "metadata": {
      "needs_background": "light"
     },
     "output_type": "display_data"
    },
    {
     "name": "stdout",
     "output_type": "stream",
     "text": [
      " \n",
      "\n",
      "Check Outlier column :  female_enc \n",
      "\n"
     ]
    },
    {
     "data": {
      "image/png": "[encoded data removed]",
      "text/plain": [
       "<Figure size 432x288 with 1 Axes>"
      ]
     },
     "metadata": {
      "needs_background": "light"
     },
     "output_type": "display_data"
    },
    {
     "name": "stdout",
     "output_type": "stream",
     "text": [
      " \n",
      "\n",
      "Check Outlier column :  male_enc \n",
      "\n"
     ]
    },
    {
     "data": {
      "image/png": "[encoded data removed]",
      "text/plain": [
       "<Figure size 432x288 with 1 Axes>"
      ]
     },
     "metadata": {
      "needs_background": "light"
     },
     "output_type": "display_data"
    },
    {
     "name": "stdout",
     "output_type": "stream",
     "text": [
      " \n",
      "\n",
      "Check Outlier column :  education_level_enc \n",
      "\n"
     ]
    },
    {
     "data": {
      "image/png": "[encoded data removed]",
      "text/plain": [
       "<Figure size 432x288 with 1 Axes>"
      ]
     },
     "metadata": {
      "needs_background": "light"
     },
     "output_type": "display_data"
    },
    {
     "name": "stdout",
     "output_type": "stream",
     "text": [
      " \n",
      "\n",
      "Check Outlier column :  Married_enc \n",
      "\n"
     ]
    },
    {
     "data": {
      "image/png": "[encoded data removed]",
      "text/plain": [
       "<Figure size 432x288 with 1 Axes>"
      ]
     },
     "metadata": {
      "needs_background": "light"
     },
     "output_type": "display_data"
    },
    {
     "name": "stdout",
     "output_type": "stream",
     "text": [
      " \n",
      "\n",
      "Check Outlier column :  Single_enc \n",
      "\n"
     ]
    },
    {
     "data": {
      "image/png": "[encoded data removed]",
      "text/plain": [
       "<Figure size 432x288 with 1 Axes>"
      ]
     },
     "metadata": {
      "needs_background": "light"
     },
     "output_type": "display_data"
    },
    {
     "name": "stdout",
     "output_type": "stream",
     "text": [
      " \n",
      "\n",
      "Check Outlier column :  Divorced_enc \n",
      "\n"
     ]
    },
    {
     "data": {
      "image/png": "[encoded data removed]",
      "text/plain": [
       "<Figure size 432x288 with 1 Axes>"
      ]
     },
     "metadata": {
      "needs_background": "light"
     },
     "output_type": "display_data"
    },
    {
     "name": "stdout",
     "output_type": "stream",
     "text": [
      " \n",
      "\n",
      "Check Outlier column :  Income_Category_enc \n",
      "\n"
     ]
    },
    {
     "data": {
      "image/png": "[encoded data removed]",
      "text/plain": [
       "<Figure size 432x288 with 1 Axes>"
      ]
     },
     "metadata": {
      "needs_background": "light"
     },
     "output_type": "display_data"
    },
    {
     "name": "stdout",
     "output_type": "stream",
     "text": [
      " \n",
      "\n",
      "Check Outlier column :  Card_Category_enc \n",
      "\n"
     ]
    },
    {
     "data": {
      "image/png": "[encoded data removed]",
      "text/plain": [
       "<Figure size 432x288 with 1 Axes>"
      ]
     },
     "metadata": {
      "needs_background": "light"
     },
     "output_type": "display_data"
    },
    {
     "name": "stdout",
     "output_type": "stream",
     "text": [
      " \n",
      "\n",
      "Check Outlier column :  Attrited_customer_enc \n",
      "\n"
     ]
    },
    {
     "data": {
      "image/png": "[encoded data removed]",
      "text/plain": [
       "<Figure size 432x288 with 1 Axes>"
      ]
     },
     "metadata": {
      "needs_background": "light"
     },
     "output_type": "display_data"
    },
    {
     "name": "stdout",
     "output_type": "stream",
     "text": [
      " \n",
      "\n"
     ]
    }
   ],
   "source": [
    "for i in df.columns:\n",
    "    print(\"Check Outlier column : \",i,\"\\n\")\n",
    "    sns.boxplot(data = df[[i]])\n",
    "    plt.show()\n",
    "    print (\" \\n\")"
   ]
  },
  {
   "cell_type": "markdown",
   "id": "d381f7eb",
   "metadata": {
    "ExecuteTime": {
     "end_time": "2022-11-18T03:16:40.413655Z",
     "start_time": "2022-11-18T03:16:40.406251Z"
    }
   },
   "source": [
    "### Handling"
   ]
  },
  {
   "cell_type": "code",
   "execution_count": 59,
   "id": "388b5949",
   "metadata": {
    "ExecuteTime": {
     "end_time": "2022-11-18T14:26:15.268473Z",
     "start_time": "2022-11-18T14:26:15.255397Z"
    }
   },
   "outputs": [],
   "source": [
    "df_outlier=['Customer_Age','Dependent_count','Months_on_book',\n",
    "            'Total_Relationship_Count','Months_Inactive_12_mon','Contacts_Count_12_mon'\n",
    "           ,'Credit_Limit','Total_Revolving_Bal','Avg_Open_To_Buy','Total_Amt_Chng_Q4_Q1',\n",
    "           'Total_Trans_Amt','Total_Trans_Ct','Total_Ct_Chng_Q4_Q1','Avg_Utilization_Ratio'\n",
    "           ]"
   ]
  },
  {
   "cell_type": "code",
   "execution_count": 60,
   "id": "b1f6d185",
   "metadata": {
    "ExecuteTime": {
     "end_time": "2022-11-18T14:26:15.284387Z",
     "start_time": "2022-11-18T14:26:15.271393Z"
    }
   },
   "outputs": [],
   "source": [
    "#Create funtion to find upper_limit and lower_limit\n",
    "def find_limit(df,column):\n",
    "    # Find the IQR (Inter quartile  range)\n",
    "    Q1 = df[column].quantile(.25)\n",
    "    Q3 = df[column].quantile(.75)\n",
    "    IQR = Q3-Q1\n",
    "    lower_limit = Q1 - 1.5 * IQR\n",
    "    upper_limit = Q3 + 1.5 * IQR\n",
    "    \n",
    "    return lower_limit , upper_limit"
   ]
  },
  {
   "cell_type": "code",
   "execution_count": 61,
   "id": "5bee7d34",
   "metadata": {
    "ExecuteTime": {
     "end_time": "2022-11-18T14:26:16.363270Z",
     "start_time": "2022-11-18T14:26:15.286391Z"
    }
   },
   "outputs": [
    {
     "name": "stdout",
     "output_type": "stream",
     "text": [
      "Lower limit from column  Customer_Age  is :  24.5\n",
      "Upper limit from column  Customer_Age  is :  68.5\n",
      " \n",
      " \n"
     ]
    },
    {
     "data": {
      "image/png": "[encoded data removed]",
      "text/plain": [
       "<Figure size 432x288 with 1 Axes>"
      ]
     },
     "metadata": {
      "needs_background": "light"
     },
     "output_type": "display_data"
    },
    {
     "name": "stdout",
     "output_type": "stream",
     "text": [
      "\n",
      " \n",
      "Lower limit from column  Dependent_count  is :  -2.0\n",
      "Upper limit from column  Dependent_count  is :  6.0\n",
      " \n",
      " \n"
     ]
    },
    {
     "data": {
      "image/png": "[encoded data removed]",
      "text/plain": [
       "<Figure size 432x288 with 1 Axes>"
      ]
     },
     "metadata": {
      "needs_background": "light"
     },
     "output_type": "display_data"
    },
    {
     "name": "stdout",
     "output_type": "stream",
     "text": [
      "\n",
      " \n",
      "Lower limit from column  Months_on_book  is :  17.5\n",
      "Upper limit from column  Months_on_book  is :  53.5\n",
      " \n",
      " \n"
     ]
    },
    {
     "data": {
      "image/png": "[encoded data removed]",
      "text/plain": [
       "<Figure size 432x288 with 1 Axes>"
      ]
     },
     "metadata": {
      "needs_background": "light"
     },
     "output_type": "display_data"
    },
    {
     "name": "stdout",
     "output_type": "stream",
     "text": [
      "\n",
      " \n",
      "Lower limit from column  Total_Relationship_Count  is :  0.0\n",
      "Upper limit from column  Total_Relationship_Count  is :  8.0\n",
      " \n",
      " \n"
     ]
    },
    {
     "data": {
      "image/png": "[encoded data removed]",
      "text/plain": [
       "<Figure size 432x288 with 1 Axes>"
      ]
     },
     "metadata": {
      "needs_background": "light"
     },
     "output_type": "display_data"
    },
    {
     "name": "stdout",
     "output_type": "stream",
     "text": [
      "\n",
      " \n",
      "Lower limit from column  Months_Inactive_12_mon  is :  0.5\n",
      "Upper limit from column  Months_Inactive_12_mon  is :  4.5\n",
      " \n",
      " \n"
     ]
    },
    {
     "data": {
      "image/png": "[encoded data removed]",
      "text/plain": [
       "<Figure size 432x288 with 1 Axes>"
      ]
     },
     "metadata": {
      "needs_background": "light"
     },
     "output_type": "display_data"
    },
    {
     "name": "stdout",
     "output_type": "stream",
     "text": [
      "\n",
      " \n",
      "Lower limit from column  Contacts_Count_12_mon  is :  0.5\n",
      "Upper limit from column  Contacts_Count_12_mon  is :  4.5\n",
      " \n",
      " \n"
     ]
    },
    {
     "data": {
      "image/png": "[encoded data removed]",
      "text/plain": [
       "<Figure size 432x288 with 1 Axes>"
      ]
     },
     "metadata": {
      "needs_background": "light"
     },
     "output_type": "display_data"
    },
    {
     "name": "stdout",
     "output_type": "stream",
     "text": [
      "\n",
      " \n",
      "Lower limit from column  Credit_Limit  is :  -10194.125\n",
      "Upper limit from column  Credit_Limit  is :  23814.875\n",
      " \n",
      " \n"
     ]
    },
    {
     "data": {
      "image/png": "[encoded data removed]",
      "text/plain": [
       "<Figure size 432x288 with 1 Axes>"
      ]
     },
     "metadata": {
      "needs_background": "light"
     },
     "output_type": "display_data"
    },
    {
     "name": "stdout",
     "output_type": "stream",
     "text": [
      "\n",
      " \n",
      "Lower limit from column  Total_Revolving_Bal  is :  -1717.375\n",
      "Upper limit from column  Total_Revolving_Bal  is :  3887.625\n",
      " \n",
      " \n"
     ]
    },
    {
     "data": {
      "image/png": "[encoded data removed]",
      "text/plain": [
       "<Figure size 432x288 with 1 Axes>"
      ]
     },
     "metadata": {
      "needs_background": "light"
     },
     "output_type": "display_data"
    },
    {
     "name": "stdout",
     "output_type": "stream",
     "text": [
      "\n",
      " \n",
      "Lower limit from column  Avg_Open_To_Buy  is :  -11484.125\n",
      "Upper limit from column  Avg_Open_To_Buy  is :  22684.875\n",
      " \n",
      " \n"
     ]
    },
    {
     "data": {
      "image/png": "[encoded data removed]",
      "text/plain": [
       "<Figure size 432x288 with 1 Axes>"
      ]
     },
     "metadata": {
      "needs_background": "light"
     },
     "output_type": "display_data"
    },
    {
     "name": "stdout",
     "output_type": "stream",
     "text": [
      "\n",
      " \n",
      "Lower limit from column  Total_Amt_Chng_Q4_Q1  is :  0.28750000000000003\n",
      "Upper limit from column  Total_Amt_Chng_Q4_Q1  is :  1.2035\n",
      " \n",
      " \n"
     ]
    },
    {
     "data": {
      "image/png": "[encoded data removed]",
      "text/plain": [
       "<Figure size 432x288 with 1 Axes>"
      ]
     },
     "metadata": {
      "needs_background": "light"
     },
     "output_type": "display_data"
    },
    {
     "name": "stdout",
     "output_type": "stream",
     "text": [
      "\n",
      " \n",
      "Lower limit from column  Total_Trans_Amt  is :  -1708.5\n",
      "Upper limit from column  Total_Trans_Amt  is :  8613.5\n",
      " \n",
      " \n"
     ]
    },
    {
     "data": {
      "image/png": "[encoded data removed]",
      "text/plain": [
       "<Figure size 432x288 with 1 Axes>"
      ]
     },
     "metadata": {
      "needs_background": "light"
     },
     "output_type": "display_data"
    },
    {
     "name": "stdout",
     "output_type": "stream",
     "text": [
      "\n",
      " \n",
      "Lower limit from column  Total_Trans_Ct  is :  -9.0\n",
      "Upper limit from column  Total_Trans_Ct  is :  135.0\n",
      " \n",
      " \n"
     ]
    },
    {
     "data": {
      "image/png": "[encoded data removed]",
      "text/plain": [
       "<Figure size 432x288 with 1 Axes>"
      ]
     },
     "metadata": {
      "needs_background": "light"
     },
     "output_type": "display_data"
    },
    {
     "name": "stdout",
     "output_type": "stream",
     "text": [
      "\n",
      " \n",
      "Lower limit from column  Total_Ct_Chng_Q4_Q1  is :  0.23049999999999998\n",
      "Upper limit from column  Total_Ct_Chng_Q4_Q1  is :  1.1704999999999999\n",
      " \n",
      " \n"
     ]
    },
    {
     "data": {
      "image/png": "[encoded data removed]",
      "text/plain": [
       "<Figure size 432x288 with 1 Axes>"
      ]
     },
     "metadata": {
      "needs_background": "light"
     },
     "output_type": "display_data"
    },
    {
     "name": "stdout",
     "output_type": "stream",
     "text": [
      "\n",
      " \n",
      "Lower limit from column  Avg_Utilization_Ratio  is :  -0.697\n",
      "Upper limit from column  Avg_Utilization_Ratio  is :  1.2229999999999999\n",
      " \n",
      " \n"
     ]
    },
    {
     "data": {
      "image/png": "[encoded data removed]",
      "text/plain": [
       "<Figure size 432x288 with 1 Axes>"
      ]
     },
     "metadata": {
      "needs_background": "light"
     },
     "output_type": "display_data"
    },
    {
     "name": "stdout",
     "output_type": "stream",
     "text": [
      "\n",
      " \n"
     ]
    }
   ],
   "source": [
    "# Find Lower limit and Upper limit Each Column and capping outlier\n",
    "for col in df.columns:\n",
    "    if col in df_outlier:\n",
    "        lower_limit, upper_limit = find_limit(df,col)\n",
    "\n",
    "        print(\"Lower limit from column \",col,\" is : \",lower_limit )\n",
    "        print(\"Upper limit from column \",col,\" is : \",upper_limit )\n",
    "        print(\" \\n \" )\n",
    "\n",
    "        #capping outliers variables at lower limit and upper limit\n",
    "        df[col] = df[col].clip(lower = round(lower_limit), upper = round(upper_limit))\n",
    "        sns.boxplot(data = df[[col]])\n",
    "        plt.show()\n",
    "        print(\"\\n \" )"
   ]
  },
  {
   "cell_type": "markdown",
   "id": "36afdc32",
   "metadata": {},
   "source": [
    "## Binning"
   ]
  },
  {
   "cell_type": "code",
   "execution_count": 62,
   "id": "3e7d0509",
   "metadata": {
    "ExecuteTime": {
     "end_time": "2022-11-18T14:26:16.379218Z",
     "start_time": "2022-11-18T14:26:16.365267Z"
    }
   },
   "outputs": [],
   "source": [
    "df['Customer_Age_bin'] = pd.cut(df['Customer_Age'], bins=[25,34,44,54,64,69], \n",
    "                              labels=[0,1,2,3,4]).astype('int64')"
   ]
  },
  {
   "cell_type": "code",
   "execution_count": 63,
   "id": "aebb7c3d",
   "metadata": {
    "ExecuteTime": {
     "end_time": "2022-11-18T14:26:16.394443Z",
     "start_time": "2022-11-18T14:26:16.381217Z"
    }
   },
   "outputs": [],
   "source": [
    "df=df.drop(columns='Customer_Age')"
   ]
  },
  {
   "cell_type": "code",
   "execution_count": 64,
   "id": "fc6a6b6d",
   "metadata": {
    "ExecuteTime": {
     "end_time": "2022-11-18T14:26:16.425676Z",
     "start_time": "2022-11-18T14:26:16.396599Z"
    }
   },
   "outputs": [
    {
     "data": {
      "text/html": [
       "<div>\n",
       "<style scoped>\n",
       "    .dataframe tbody tr th:only-of-type {\n",
       "        vertical-align: middle;\n",
       "    }\n",
       "\n",
       "    .dataframe tbody tr th {\n",
       "        vertical-align: top;\n",
       "    }\n",
       "\n",
       "    .dataframe thead th {\n",
       "        text-align: right;\n",
       "    }\n",
       "</style>\n",
       "<table border=\"1\" class=\"dataframe\">\n",
       "  <thead>\n",
       "    <tr style=\"text-align: right;\">\n",
       "      <th></th>\n",
       "      <th>Dependent_count</th>\n",
       "      <th>Months_on_book</th>\n",
       "      <th>Total_Relationship_Count</th>\n",
       "      <th>Months_Inactive_12_mon</th>\n",
       "      <th>Contacts_Count_12_mon</th>\n",
       "      <th>Credit_Limit</th>\n",
       "      <th>Total_Revolving_Bal</th>\n",
       "      <th>Avg_Open_To_Buy</th>\n",
       "      <th>Total_Amt_Chng_Q4_Q1</th>\n",
       "      <th>Total_Trans_Amt</th>\n",
       "      <th>...</th>\n",
       "      <th>female_enc</th>\n",
       "      <th>male_enc</th>\n",
       "      <th>education_level_enc</th>\n",
       "      <th>Married_enc</th>\n",
       "      <th>Single_enc</th>\n",
       "      <th>Divorced_enc</th>\n",
       "      <th>Income_Category_enc</th>\n",
       "      <th>Card_Category_enc</th>\n",
       "      <th>Attrited_customer_enc</th>\n",
       "      <th>Customer_Age_bin</th>\n",
       "    </tr>\n",
       "    <tr>\n",
       "      <th>CLIENTNUM</th>\n",
       "      <th></th>\n",
       "      <th></th>\n",
       "      <th></th>\n",
       "      <th></th>\n",
       "      <th></th>\n",
       "      <th></th>\n",
       "      <th></th>\n",
       "      <th></th>\n",
       "      <th></th>\n",
       "      <th></th>\n",
       "      <th></th>\n",
       "      <th></th>\n",
       "      <th></th>\n",
       "      <th></th>\n",
       "      <th></th>\n",
       "      <th></th>\n",
       "      <th></th>\n",
       "      <th></th>\n",
       "      <th></th>\n",
       "      <th></th>\n",
       "      <th></th>\n",
       "    </tr>\n",
       "  </thead>\n",
       "  <tbody>\n",
       "    <tr>\n",
       "      <th>772382283</th>\n",
       "      <td>3</td>\n",
       "      <td>36</td>\n",
       "      <td>3</td>\n",
       "      <td>3</td>\n",
       "      <td>3</td>\n",
       "      <td>2302.0</td>\n",
       "      <td>1593</td>\n",
       "      <td>709.0</td>\n",
       "      <td>0.671</td>\n",
       "      <td>2689</td>\n",
       "      <td>...</td>\n",
       "      <td>1</td>\n",
       "      <td>0</td>\n",
       "      <td>3</td>\n",
       "      <td>1</td>\n",
       "      <td>0</td>\n",
       "      <td>0</td>\n",
       "      <td>1</td>\n",
       "      <td>0</td>\n",
       "      <td>1</td>\n",
       "      <td>2</td>\n",
       "    </tr>\n",
       "    <tr>\n",
       "      <th>709206333</th>\n",
       "      <td>4</td>\n",
       "      <td>30</td>\n",
       "      <td>3</td>\n",
       "      <td>4</td>\n",
       "      <td>4</td>\n",
       "      <td>4333.0</td>\n",
       "      <td>0</td>\n",
       "      <td>4333.0</td>\n",
       "      <td>0.463</td>\n",
       "      <td>1558</td>\n",
       "      <td>...</td>\n",
       "      <td>1</td>\n",
       "      <td>0</td>\n",
       "      <td>3</td>\n",
       "      <td>0</td>\n",
       "      <td>1</td>\n",
       "      <td>0</td>\n",
       "      <td>2</td>\n",
       "      <td>0</td>\n",
       "      <td>1</td>\n",
       "      <td>1</td>\n",
       "    </tr>\n",
       "    <tr>\n",
       "      <th>714887808</th>\n",
       "      <td>1</td>\n",
       "      <td>36</td>\n",
       "      <td>1</td>\n",
       "      <td>3</td>\n",
       "      <td>2</td>\n",
       "      <td>1818.0</td>\n",
       "      <td>0</td>\n",
       "      <td>1818.0</td>\n",
       "      <td>0.758</td>\n",
       "      <td>2279</td>\n",
       "      <td>...</td>\n",
       "      <td>1</td>\n",
       "      <td>0</td>\n",
       "      <td>0</td>\n",
       "      <td>0</td>\n",
       "      <td>1</td>\n",
       "      <td>0</td>\n",
       "      <td>1</td>\n",
       "      <td>0</td>\n",
       "      <td>1</td>\n",
       "      <td>1</td>\n",
       "    </tr>\n",
       "    <tr>\n",
       "      <th>709531908</th>\n",
       "      <td>3</td>\n",
       "      <td>47</td>\n",
       "      <td>5</td>\n",
       "      <td>2</td>\n",
       "      <td>2</td>\n",
       "      <td>1438.3</td>\n",
       "      <td>0</td>\n",
       "      <td>1438.3</td>\n",
       "      <td>0.776</td>\n",
       "      <td>2184</td>\n",
       "      <td>...</td>\n",
       "      <td>0</td>\n",
       "      <td>1</td>\n",
       "      <td>1</td>\n",
       "      <td>1</td>\n",
       "      <td>0</td>\n",
       "      <td>0</td>\n",
       "      <td>3</td>\n",
       "      <td>0</td>\n",
       "      <td>0</td>\n",
       "      <td>2</td>\n",
       "    </tr>\n",
       "    <tr>\n",
       "      <th>739692933</th>\n",
       "      <td>2</td>\n",
       "      <td>29</td>\n",
       "      <td>4</td>\n",
       "      <td>2</td>\n",
       "      <td>4</td>\n",
       "      <td>3126.0</td>\n",
       "      <td>2517</td>\n",
       "      <td>609.0</td>\n",
       "      <td>1.000</td>\n",
       "      <td>1638</td>\n",
       "      <td>...</td>\n",
       "      <td>1</td>\n",
       "      <td>0</td>\n",
       "      <td>3</td>\n",
       "      <td>0</td>\n",
       "      <td>1</td>\n",
       "      <td>0</td>\n",
       "      <td>2</td>\n",
       "      <td>0</td>\n",
       "      <td>0</td>\n",
       "      <td>2</td>\n",
       "    </tr>\n",
       "    <tr>\n",
       "      <th>...</th>\n",
       "      <td>...</td>\n",
       "      <td>...</td>\n",
       "      <td>...</td>\n",
       "      <td>...</td>\n",
       "      <td>...</td>\n",
       "      <td>...</td>\n",
       "      <td>...</td>\n",
       "      <td>...</td>\n",
       "      <td>...</td>\n",
       "      <td>...</td>\n",
       "      <td>...</td>\n",
       "      <td>...</td>\n",
       "      <td>...</td>\n",
       "      <td>...</td>\n",
       "      <td>...</td>\n",
       "      <td>...</td>\n",
       "      <td>...</td>\n",
       "      <td>...</td>\n",
       "      <td>...</td>\n",
       "      <td>...</td>\n",
       "      <td>...</td>\n",
       "    </tr>\n",
       "    <tr>\n",
       "      <th>771215583</th>\n",
       "      <td>3</td>\n",
       "      <td>26</td>\n",
       "      <td>6</td>\n",
       "      <td>1</td>\n",
       "      <td>4</td>\n",
       "      <td>23815.0</td>\n",
       "      <td>1475</td>\n",
       "      <td>22685.0</td>\n",
       "      <td>0.528</td>\n",
       "      <td>3505</td>\n",
       "      <td>...</td>\n",
       "      <td>0</td>\n",
       "      <td>1</td>\n",
       "      <td>1</td>\n",
       "      <td>0</td>\n",
       "      <td>1</td>\n",
       "      <td>0</td>\n",
       "      <td>3</td>\n",
       "      <td>0</td>\n",
       "      <td>0</td>\n",
       "      <td>1</td>\n",
       "    </tr>\n",
       "    <tr>\n",
       "      <th>770956158</th>\n",
       "      <td>4</td>\n",
       "      <td>30</td>\n",
       "      <td>3</td>\n",
       "      <td>2</td>\n",
       "      <td>1</td>\n",
       "      <td>2397.0</td>\n",
       "      <td>2151</td>\n",
       "      <td>246.0</td>\n",
       "      <td>0.839</td>\n",
       "      <td>4140</td>\n",
       "      <td>...</td>\n",
       "      <td>1</td>\n",
       "      <td>0</td>\n",
       "      <td>3</td>\n",
       "      <td>1</td>\n",
       "      <td>0</td>\n",
       "      <td>0</td>\n",
       "      <td>1</td>\n",
       "      <td>0</td>\n",
       "      <td>0</td>\n",
       "      <td>1</td>\n",
       "    </tr>\n",
       "    <tr>\n",
       "      <th>772813458</th>\n",
       "      <td>3</td>\n",
       "      <td>39</td>\n",
       "      <td>3</td>\n",
       "      <td>1</td>\n",
       "      <td>2</td>\n",
       "      <td>6130.0</td>\n",
       "      <td>1741</td>\n",
       "      <td>4389.0</td>\n",
       "      <td>0.578</td>\n",
       "      <td>4264</td>\n",
       "      <td>...</td>\n",
       "      <td>1</td>\n",
       "      <td>0</td>\n",
       "      <td>3</td>\n",
       "      <td>1</td>\n",
       "      <td>0</td>\n",
       "      <td>0</td>\n",
       "      <td>1</td>\n",
       "      <td>0</td>\n",
       "      <td>0</td>\n",
       "      <td>2</td>\n",
       "    </tr>\n",
       "    <tr>\n",
       "      <th>712760208</th>\n",
       "      <td>4</td>\n",
       "      <td>31</td>\n",
       "      <td>3</td>\n",
       "      <td>2</td>\n",
       "      <td>1</td>\n",
       "      <td>6751.0</td>\n",
       "      <td>1192</td>\n",
       "      <td>5559.0</td>\n",
       "      <td>0.776</td>\n",
       "      <td>7921</td>\n",
       "      <td>...</td>\n",
       "      <td>1</td>\n",
       "      <td>0</td>\n",
       "      <td>3</td>\n",
       "      <td>1</td>\n",
       "      <td>0</td>\n",
       "      <td>0</td>\n",
       "      <td>1</td>\n",
       "      <td>0</td>\n",
       "      <td>0</td>\n",
       "      <td>1</td>\n",
       "    </tr>\n",
       "    <tr>\n",
       "      <th>770038983</th>\n",
       "      <td>4</td>\n",
       "      <td>31</td>\n",
       "      <td>1</td>\n",
       "      <td>3</td>\n",
       "      <td>3</td>\n",
       "      <td>23815.0</td>\n",
       "      <td>2517</td>\n",
       "      <td>22685.0</td>\n",
       "      <td>0.770</td>\n",
       "      <td>8614</td>\n",
       "      <td>...</td>\n",
       "      <td>0</td>\n",
       "      <td>1</td>\n",
       "      <td>1</td>\n",
       "      <td>0</td>\n",
       "      <td>1</td>\n",
       "      <td>0</td>\n",
       "      <td>3</td>\n",
       "      <td>1</td>\n",
       "      <td>1</td>\n",
       "      <td>1</td>\n",
       "    </tr>\n",
       "  </tbody>\n",
       "</table>\n",
       "<p>9114 rows × 23 columns</p>\n",
       "</div>"
      ],
      "text/plain": [
       "           Dependent_count  Months_on_book  Total_Relationship_Count  \\\n",
       "CLIENTNUM                                                              \n",
       "772382283                3              36                         3   \n",
       "709206333                4              30                         3   \n",
       "714887808                1              36                         1   \n",
       "709531908                3              47                         5   \n",
       "739692933                2              29                         4   \n",
       "...                    ...             ...                       ...   \n",
       "771215583                3              26                         6   \n",
       "770956158                4              30                         3   \n",
       "772813458                3              39                         3   \n",
       "712760208                4              31                         3   \n",
       "770038983                4              31                         1   \n",
       "\n",
       "           Months_Inactive_12_mon  Contacts_Count_12_mon  Credit_Limit  \\\n",
       "CLIENTNUM                                                                \n",
       "772382283                       3                      3        2302.0   \n",
       "709206333                       4                      4        4333.0   \n",
       "714887808                       3                      2        1818.0   \n",
       "709531908                       2                      2        1438.3   \n",
       "739692933                       2                      4        3126.0   \n",
       "...                           ...                    ...           ...   \n",
       "771215583                       1                      4       23815.0   \n",
       "770956158                       2                      1        2397.0   \n",
       "772813458                       1                      2        6130.0   \n",
       "712760208                       2                      1        6751.0   \n",
       "770038983                       3                      3       23815.0   \n",
       "\n",
       "           Total_Revolving_Bal  Avg_Open_To_Buy  Total_Amt_Chng_Q4_Q1  \\\n",
       "CLIENTNUM                                                               \n",
       "772382283                 1593            709.0                 0.671   \n",
       "709206333                    0           4333.0                 0.463   \n",
       "714887808                    0           1818.0                 0.758   \n",
       "709531908                    0           1438.3                 0.776   \n",
       "739692933                 2517            609.0                 1.000   \n",
       "...                        ...              ...                   ...   \n",
       "771215583                 1475          22685.0                 0.528   \n",
       "770956158                 2151            246.0                 0.839   \n",
       "772813458                 1741           4389.0                 0.578   \n",
       "712760208                 1192           5559.0                 0.776   \n",
       "770038983                 2517          22685.0                 0.770   \n",
       "\n",
       "           Total_Trans_Amt  ...  female_enc  male_enc  education_level_enc  \\\n",
       "CLIENTNUM                   ...                                              \n",
       "772382283             2689  ...           1         0                    3   \n",
       "709206333             1558  ...           1         0                    3   \n",
       "714887808             2279  ...           1         0                    0   \n",
       "709531908             2184  ...           0         1                    1   \n",
       "739692933             1638  ...           1         0                    3   \n",
       "...                    ...  ...         ...       ...                  ...   \n",
       "771215583             3505  ...           0         1                    1   \n",
       "770956158             4140  ...           1         0                    3   \n",
       "772813458             4264  ...           1         0                    3   \n",
       "712760208             7921  ...           1         0                    3   \n",
       "770038983             8614  ...           0         1                    1   \n",
       "\n",
       "           Married_enc  Single_enc  Divorced_enc  Income_Category_enc  \\\n",
       "CLIENTNUM                                                               \n",
       "772382283            1           0             0                    1   \n",
       "709206333            0           1             0                    2   \n",
       "714887808            0           1             0                    1   \n",
       "709531908            1           0             0                    3   \n",
       "739692933            0           1             0                    2   \n",
       "...                ...         ...           ...                  ...   \n",
       "771215583            0           1             0                    3   \n",
       "770956158            1           0             0                    1   \n",
       "772813458            1           0             0                    1   \n",
       "712760208            1           0             0                    1   \n",
       "770038983            0           1             0                    3   \n",
       "\n",
       "           Card_Category_enc  Attrited_customer_enc  Customer_Age_bin  \n",
       "CLIENTNUM                                                              \n",
       "772382283                  0                      1                 2  \n",
       "709206333                  0                      1                 1  \n",
       "714887808                  0                      1                 1  \n",
       "709531908                  0                      0                 2  \n",
       "739692933                  0                      0                 2  \n",
       "...                      ...                    ...               ...  \n",
       "771215583                  0                      0                 1  \n",
       "770956158                  0                      0                 1  \n",
       "772813458                  0                      0                 2  \n",
       "712760208                  0                      0                 1  \n",
       "770038983                  1                      1                 1  \n",
       "\n",
       "[9114 rows x 23 columns]"
      ]
     },
     "execution_count": 64,
     "metadata": {},
     "output_type": "execute_result"
    }
   ],
   "source": [
    "df"
   ]
  },
  {
   "cell_type": "code",
   "execution_count": 65,
   "id": "322b72dc",
   "metadata": {
    "ExecuteTime": {
     "end_time": "2022-11-18T14:26:16.441596Z",
     "start_time": "2022-11-18T14:26:16.427640Z"
    }
   },
   "outputs": [
    {
     "name": "stdout",
     "output_type": "stream",
     "text": [
      "<class 'pandas.core.frame.DataFrame'>\n",
      "Int64Index: 9114 entries, 772382283 to 770038983\n",
      "Data columns (total 23 columns):\n",
      " #   Column                    Non-Null Count  Dtype  \n",
      "---  ------                    --------------  -----  \n",
      " 0   Dependent_count           9114 non-null   int64  \n",
      " 1   Months_on_book            9114 non-null   int64  \n",
      " 2   Total_Relationship_Count  9114 non-null   int64  \n",
      " 3   Months_Inactive_12_mon    9114 non-null   int64  \n",
      " 4   Contacts_Count_12_mon     9114 non-null   int64  \n",
      " 5   Credit_Limit              9114 non-null   float64\n",
      " 6   Total_Revolving_Bal       9114 non-null   int64  \n",
      " 7   Avg_Open_To_Buy           9114 non-null   float64\n",
      " 8   Total_Amt_Chng_Q4_Q1      9114 non-null   float64\n",
      " 9   Total_Trans_Amt           9114 non-null   int64  \n",
      " 10  Total_Trans_Ct            9114 non-null   int64  \n",
      " 11  Total_Ct_Chng_Q4_Q1       9114 non-null   float64\n",
      " 12  Avg_Utilization_Ratio     9114 non-null   float64\n",
      " 13  female_enc                9114 non-null   int64  \n",
      " 14  male_enc                  9114 non-null   int64  \n",
      " 15  education_level_enc       9114 non-null   int64  \n",
      " 16  Married_enc               9114 non-null   int64  \n",
      " 17  Single_enc                9114 non-null   int64  \n",
      " 18  Divorced_enc              9114 non-null   int64  \n",
      " 19  Income_Category_enc       9114 non-null   int64  \n",
      " 20  Card_Category_enc         9114 non-null   int64  \n",
      " 21  Attrited_customer_enc     9114 non-null   int64  \n",
      " 22  Customer_Age_bin          9114 non-null   int64  \n",
      "dtypes: float64(5), int64(18)\n",
      "memory usage: 1.7 MB\n"
     ]
    }
   ],
   "source": [
    "df.info()"
   ]
  },
  {
   "cell_type": "markdown",
   "id": "9ed3db02",
   "metadata": {},
   "source": [
    "## Scaling"
   ]
  },
  {
   "cell_type": "code",
   "execution_count": 66,
   "id": "7e447d05",
   "metadata": {
    "ExecuteTime": {
     "end_time": "2022-11-18T14:26:16.456609Z",
     "start_time": "2022-11-18T14:26:16.442628Z"
    }
   },
   "outputs": [],
   "source": [
    "n = [i for i in df.columns if i != 'Attrited_customer_enc']"
   ]
  },
  {
   "cell_type": "code",
   "execution_count": 67,
   "id": "0e93b9ff",
   "metadata": {
    "ExecuteTime": {
     "end_time": "2022-11-18T14:26:16.502689Z",
     "start_time": "2022-11-18T14:26:16.460631Z"
    }
   },
   "outputs": [
    {
     "data": {
      "text/html": [
       "<div>\n",
       "<style scoped>\n",
       "    .dataframe tbody tr th:only-of-type {\n",
       "        vertical-align: middle;\n",
       "    }\n",
       "\n",
       "    .dataframe tbody tr th {\n",
       "        vertical-align: top;\n",
       "    }\n",
       "\n",
       "    .dataframe thead th {\n",
       "        text-align: right;\n",
       "    }\n",
       "</style>\n",
       "<table border=\"1\" class=\"dataframe\">\n",
       "  <thead>\n",
       "    <tr style=\"text-align: right;\">\n",
       "      <th></th>\n",
       "      <th>Dependent_count</th>\n",
       "      <th>Months_on_book</th>\n",
       "      <th>Total_Relationship_Count</th>\n",
       "      <th>Months_Inactive_12_mon</th>\n",
       "      <th>Contacts_Count_12_mon</th>\n",
       "      <th>Credit_Limit</th>\n",
       "      <th>Total_Revolving_Bal</th>\n",
       "      <th>Avg_Open_To_Buy</th>\n",
       "      <th>Total_Amt_Chng_Q4_Q1</th>\n",
       "      <th>Total_Trans_Amt</th>\n",
       "      <th>...</th>\n",
       "      <th>female_enc</th>\n",
       "      <th>male_enc</th>\n",
       "      <th>education_level_enc</th>\n",
       "      <th>Married_enc</th>\n",
       "      <th>Single_enc</th>\n",
       "      <th>Divorced_enc</th>\n",
       "      <th>Income_Category_enc</th>\n",
       "      <th>Card_Category_enc</th>\n",
       "      <th>Attrited_customer_enc</th>\n",
       "      <th>Customer_Age_bin</th>\n",
       "    </tr>\n",
       "    <tr>\n",
       "      <th>CLIENTNUM</th>\n",
       "      <th></th>\n",
       "      <th></th>\n",
       "      <th></th>\n",
       "      <th></th>\n",
       "      <th></th>\n",
       "      <th></th>\n",
       "      <th></th>\n",
       "      <th></th>\n",
       "      <th></th>\n",
       "      <th></th>\n",
       "      <th></th>\n",
       "      <th></th>\n",
       "      <th></th>\n",
       "      <th></th>\n",
       "      <th></th>\n",
       "      <th></th>\n",
       "      <th></th>\n",
       "      <th></th>\n",
       "      <th></th>\n",
       "      <th></th>\n",
       "      <th></th>\n",
       "    </tr>\n",
       "  </thead>\n",
       "  <tbody>\n",
       "    <tr>\n",
       "      <th>772382283</th>\n",
       "      <td>0.507065</td>\n",
       "      <td>0.008075</td>\n",
       "      <td>-0.521218</td>\n",
       "      <td>0.782350</td>\n",
       "      <td>0.547152</td>\n",
       "      <td>-0.772905</td>\n",
       "      <td>0.526518</td>\n",
       "      <td>-0.831220</td>\n",
       "      <td>-0.420749</td>\n",
       "      <td>-0.584320</td>\n",
       "      <td>...</td>\n",
       "      <td>0.947399</td>\n",
       "      <td>-0.947399</td>\n",
       "      <td>0.591449</td>\n",
       "      <td>0.926339</td>\n",
       "      <td>-0.797847</td>\n",
       "      <td>-0.280321</td>\n",
       "      <td>-0.889342</td>\n",
       "      <td>-0.251181</td>\n",
       "      <td>1</td>\n",
       "      <td>0.372997</td>\n",
       "    </tr>\n",
       "    <tr>\n",
       "      <th>709206333</th>\n",
       "      <td>1.278970</td>\n",
       "      <td>-0.761207</td>\n",
       "      <td>-0.521218</td>\n",
       "      <td>1.891267</td>\n",
       "      <td>1.499911</td>\n",
       "      <td>-0.491961</td>\n",
       "      <td>-1.426806</td>\n",
       "      <td>-0.331042</td>\n",
       "      <td>-1.684384</td>\n",
       "      <td>-1.107229</td>\n",
       "      <td>...</td>\n",
       "      <td>0.947399</td>\n",
       "      <td>-0.947399</td>\n",
       "      <td>0.591449</td>\n",
       "      <td>-1.079518</td>\n",
       "      <td>1.253373</td>\n",
       "      <td>-0.280321</td>\n",
       "      <td>-0.147355</td>\n",
       "      <td>-0.251181</td>\n",
       "      <td>1</td>\n",
       "      <td>-0.801674</td>\n",
       "    </tr>\n",
       "    <tr>\n",
       "      <th>714887808</th>\n",
       "      <td>-1.036744</td>\n",
       "      <td>0.008075</td>\n",
       "      <td>-1.804758</td>\n",
       "      <td>0.782350</td>\n",
       "      <td>-0.405607</td>\n",
       "      <td>-0.839856</td>\n",
       "      <td>-1.426806</td>\n",
       "      <td>-0.678157</td>\n",
       "      <td>0.107790</td>\n",
       "      <td>-0.773880</td>\n",
       "      <td>...</td>\n",
       "      <td>0.947399</td>\n",
       "      <td>-0.947399</td>\n",
       "      <td>-1.643405</td>\n",
       "      <td>-1.079518</td>\n",
       "      <td>1.253373</td>\n",
       "      <td>-0.280321</td>\n",
       "      <td>-0.889342</td>\n",
       "      <td>-0.251181</td>\n",
       "      <td>1</td>\n",
       "      <td>-0.801674</td>\n",
       "    </tr>\n",
       "    <tr>\n",
       "      <th>709531908</th>\n",
       "      <td>0.507065</td>\n",
       "      <td>1.418425</td>\n",
       "      <td>0.762322</td>\n",
       "      <td>-0.326567</td>\n",
       "      <td>-0.405607</td>\n",
       "      <td>-0.892379</td>\n",
       "      <td>-1.426806</td>\n",
       "      <td>-0.730563</td>\n",
       "      <td>0.217143</td>\n",
       "      <td>-0.817803</td>\n",
       "      <td>...</td>\n",
       "      <td>-1.055522</td>\n",
       "      <td>1.055522</td>\n",
       "      <td>-0.898454</td>\n",
       "      <td>0.926339</td>\n",
       "      <td>-0.797847</td>\n",
       "      <td>-0.280321</td>\n",
       "      <td>0.594631</td>\n",
       "      <td>-0.251181</td>\n",
       "      <td>0</td>\n",
       "      <td>0.372997</td>\n",
       "    </tr>\n",
       "    <tr>\n",
       "      <th>739692933</th>\n",
       "      <td>-0.264839</td>\n",
       "      <td>-0.889421</td>\n",
       "      <td>0.120552</td>\n",
       "      <td>-0.326567</td>\n",
       "      <td>1.499911</td>\n",
       "      <td>-0.658923</td>\n",
       "      <td>1.659520</td>\n",
       "      <td>-0.845021</td>\n",
       "      <td>1.577980</td>\n",
       "      <td>-1.070242</td>\n",
       "      <td>...</td>\n",
       "      <td>0.947399</td>\n",
       "      <td>-0.947399</td>\n",
       "      <td>0.591449</td>\n",
       "      <td>-1.079518</td>\n",
       "      <td>1.253373</td>\n",
       "      <td>-0.280321</td>\n",
       "      <td>-0.147355</td>\n",
       "      <td>-0.251181</td>\n",
       "      <td>0</td>\n",
       "      <td>0.372997</td>\n",
       "    </tr>\n",
       "  </tbody>\n",
       "</table>\n",
       "<p>5 rows × 23 columns</p>\n",
       "</div>"
      ],
      "text/plain": [
       "           Dependent_count  Months_on_book  Total_Relationship_Count  \\\n",
       "CLIENTNUM                                                              \n",
       "772382283         0.507065        0.008075                 -0.521218   \n",
       "709206333         1.278970       -0.761207                 -0.521218   \n",
       "714887808        -1.036744        0.008075                 -1.804758   \n",
       "709531908         0.507065        1.418425                  0.762322   \n",
       "739692933        -0.264839       -0.889421                  0.120552   \n",
       "\n",
       "           Months_Inactive_12_mon  Contacts_Count_12_mon  Credit_Limit  \\\n",
       "CLIENTNUM                                                                \n",
       "772382283                0.782350               0.547152     -0.772905   \n",
       "709206333                1.891267               1.499911     -0.491961   \n",
       "714887808                0.782350              -0.405607     -0.839856   \n",
       "709531908               -0.326567              -0.405607     -0.892379   \n",
       "739692933               -0.326567               1.499911     -0.658923   \n",
       "\n",
       "           Total_Revolving_Bal  Avg_Open_To_Buy  Total_Amt_Chng_Q4_Q1  \\\n",
       "CLIENTNUM                                                               \n",
       "772382283             0.526518        -0.831220             -0.420749   \n",
       "709206333            -1.426806        -0.331042             -1.684384   \n",
       "714887808            -1.426806        -0.678157              0.107790   \n",
       "709531908            -1.426806        -0.730563              0.217143   \n",
       "739692933             1.659520        -0.845021              1.577980   \n",
       "\n",
       "           Total_Trans_Amt  ...  female_enc  male_enc  education_level_enc  \\\n",
       "CLIENTNUM                   ...                                              \n",
       "772382283        -0.584320  ...    0.947399 -0.947399             0.591449   \n",
       "709206333        -1.107229  ...    0.947399 -0.947399             0.591449   \n",
       "714887808        -0.773880  ...    0.947399 -0.947399            -1.643405   \n",
       "709531908        -0.817803  ...   -1.055522  1.055522            -0.898454   \n",
       "739692933        -1.070242  ...    0.947399 -0.947399             0.591449   \n",
       "\n",
       "           Married_enc  Single_enc  Divorced_enc  Income_Category_enc  \\\n",
       "CLIENTNUM                                                               \n",
       "772382283     0.926339   -0.797847     -0.280321            -0.889342   \n",
       "709206333    -1.079518    1.253373     -0.280321            -0.147355   \n",
       "714887808    -1.079518    1.253373     -0.280321            -0.889342   \n",
       "709531908     0.926339   -0.797847     -0.280321             0.594631   \n",
       "739692933    -1.079518    1.253373     -0.280321            -0.147355   \n",
       "\n",
       "           Card_Category_enc  Attrited_customer_enc  Customer_Age_bin  \n",
       "CLIENTNUM                                                              \n",
       "772382283          -0.251181                      1          0.372997  \n",
       "709206333          -0.251181                      1         -0.801674  \n",
       "714887808          -0.251181                      1         -0.801674  \n",
       "709531908          -0.251181                      0          0.372997  \n",
       "739692933          -0.251181                      0          0.372997  \n",
       "\n",
       "[5 rows x 23 columns]"
      ]
     },
     "execution_count": 67,
     "metadata": {},
     "output_type": "execute_result"
    }
   ],
   "source": [
    "#scaling\n",
    "from sklearn.preprocessing import StandardScaler \n",
    "scaler = StandardScaler()\n",
    "df[n] = scaler.fit_transform(df[n])\n",
    "df.head()"
   ]
  },
  {
   "cell_type": "markdown",
   "id": "4778da10",
   "metadata": {},
   "source": [
    "## Check Correlation"
   ]
  },
  {
   "cell_type": "code",
   "execution_count": 68,
   "id": "1d2ef1ab",
   "metadata": {
    "ExecuteTime": {
     "end_time": "2022-11-18T14:26:18.042050Z",
     "start_time": "2022-11-18T14:26:16.504629Z"
    }
   },
   "outputs": [
    {
     "data": {
      "image/png": "[encoded data removed]",
      "text/plain": [
       "<Figure size 1152x432 with 2 Axes>"
      ]
     },
     "metadata": {
      "needs_background": "light"
     },
     "output_type": "display_data"
    }
   ],
   "source": [
    "plt.figure(figsize = (16,6))\n",
    "dataplot = sns.heatmap(df.corr(), cmap=\"YlGnBu\", annot=True)\n",
    "\n",
    "# displaying heatmap\n",
    "plt.show()"
   ]
  },
  {
   "cell_type": "code",
   "execution_count": 69,
   "id": "558ccca8",
   "metadata": {
    "ExecuteTime": {
     "end_time": "2022-11-18T14:26:18.072897Z",
     "start_time": "2022-11-18T14:26:18.043914Z"
    }
   },
   "outputs": [
    {
     "data": {
      "text/plain": [
       "Attrited_customer_enc       1.000000\n",
       "Total_Trans_Ct              0.368799\n",
       "Total_Ct_Chng_Q4_Q1         0.344167\n",
       "Total_Revolving_Bal         0.266272\n",
       "Contacts_Count_12_mon       0.190390\n",
       "Avg_Utilization_Ratio       0.183004\n",
       "Total_Trans_Amt             0.173717\n",
       "Months_Inactive_12_mon      0.170604\n",
       "Total_Relationship_Count    0.151113\n",
       "Total_Amt_Chng_Q4_Q1        0.127561\n",
       "female_enc                  0.030813\n",
       "male_enc                    0.030813\n",
       "Credit_Limit                0.030140\n",
       "Married_enc                 0.023316\n",
       "Single_enc                  0.022408\n",
       "Months_on_book              0.016060\n",
       "Dependent_count             0.014694\n",
       "education_level_enc         0.014543\n",
       "Income_Category_enc         0.010807\n",
       "Customer_Age_bin            0.006623\n",
       "Avg_Open_To_Buy             0.003407\n",
       "Divorced_enc                0.002691\n",
       "Card_Category_enc           0.001023\n",
       "Name: Attrited_customer_enc, dtype: float64"
      ]
     },
     "execution_count": 69,
     "metadata": {},
     "output_type": "execute_result"
    }
   ],
   "source": [
    "df_cor=pd.DataFrame(abs(df.corr()).sort_values(by='Attrited_customer_enc', ascending=False))\n",
    "df_cor.loc[:,'Attrited_customer_enc']"
   ]
  },
  {
   "cell_type": "markdown",
   "id": "70bfbc39",
   "metadata": {},
   "source": [
    "Based on the results of the correlation check, it turns out that not all columns have a large correlation with Attrited_customer_enc\n",
    "so a column with a correlation level > 0.1 is selected which will be included in the modeling"
   ]
  },
  {
   "cell_type": "code",
   "execution_count": 70,
   "id": "418f5dd5",
   "metadata": {
    "ExecuteTime": {
     "end_time": "2022-11-18T14:26:18.087940Z",
     "start_time": "2022-11-18T14:26:18.073940Z"
    }
   },
   "outputs": [],
   "source": [
    "df2=df.copy()"
   ]
  },
  {
   "cell_type": "code",
   "execution_count": 71,
   "id": "5cfd6006",
   "metadata": {
    "ExecuteTime": {
     "end_time": "2022-11-18T14:26:18.119581Z",
     "start_time": "2022-11-18T14:26:18.090940Z"
    }
   },
   "outputs": [
    {
     "data": {
      "text/html": [
       "<div>\n",
       "<style scoped>\n",
       "    .dataframe tbody tr th:only-of-type {\n",
       "        vertical-align: middle;\n",
       "    }\n",
       "\n",
       "    .dataframe tbody tr th {\n",
       "        vertical-align: top;\n",
       "    }\n",
       "\n",
       "    .dataframe thead th {\n",
       "        text-align: right;\n",
       "    }\n",
       "</style>\n",
       "<table border=\"1\" class=\"dataframe\">\n",
       "  <thead>\n",
       "    <tr style=\"text-align: right;\">\n",
       "      <th></th>\n",
       "      <th>Total_Trans_Ct</th>\n",
       "      <th>Total_Ct_Chng_Q4_Q1</th>\n",
       "      <th>Total_Revolving_Bal</th>\n",
       "      <th>Contacts_Count_12_mon</th>\n",
       "      <th>Avg_Utilization_Ratio</th>\n",
       "      <th>Total_Trans_Amt</th>\n",
       "      <th>Months_Inactive_12_mon</th>\n",
       "      <th>Total_Relationship_Count</th>\n",
       "      <th>Total_Amt_Chng_Q4_Q1</th>\n",
       "      <th>Attrited_customer_enc</th>\n",
       "    </tr>\n",
       "    <tr>\n",
       "      <th>CLIENTNUM</th>\n",
       "      <th></th>\n",
       "      <th></th>\n",
       "      <th></th>\n",
       "      <th></th>\n",
       "      <th></th>\n",
       "      <th></th>\n",
       "      <th></th>\n",
       "      <th></th>\n",
       "      <th></th>\n",
       "      <th></th>\n",
       "    </tr>\n",
       "  </thead>\n",
       "  <tbody>\n",
       "    <tr>\n",
       "      <th>772382283</th>\n",
       "      <td>-0.676751</td>\n",
       "      <td>-2.024976</td>\n",
       "      <td>0.526518</td>\n",
       "      <td>0.547152</td>\n",
       "      <td>1.513393</td>\n",
       "      <td>-0.584320</td>\n",
       "      <td>0.782350</td>\n",
       "      <td>-0.521218</td>\n",
       "      <td>-0.420749</td>\n",
       "      <td>1</td>\n",
       "    </tr>\n",
       "    <tr>\n",
       "      <th>709206333</th>\n",
       "      <td>-1.059805</td>\n",
       "      <td>-0.856053</td>\n",
       "      <td>-1.426806</td>\n",
       "      <td>1.499911</td>\n",
       "      <td>-0.997809</td>\n",
       "      <td>-1.107229</td>\n",
       "      <td>1.891267</td>\n",
       "      <td>-0.521218</td>\n",
       "      <td>-1.684384</td>\n",
       "      <td>1</td>\n",
       "    </tr>\n",
       "    <tr>\n",
       "      <th>714887808</th>\n",
       "      <td>-0.634189</td>\n",
       "      <td>0.159927</td>\n",
       "      <td>-1.426806</td>\n",
       "      <td>-0.405607</td>\n",
       "      <td>-0.997809</td>\n",
       "      <td>-0.773880</td>\n",
       "      <td>0.782350</td>\n",
       "      <td>-1.804758</td>\n",
       "      <td>0.107790</td>\n",
       "      <td>1</td>\n",
       "    </tr>\n",
       "    <tr>\n",
       "      <th>709531908</th>\n",
       "      <td>-0.506504</td>\n",
       "      <td>0.728002</td>\n",
       "      <td>-1.426806</td>\n",
       "      <td>-0.405607</td>\n",
       "      <td>-0.997809</td>\n",
       "      <td>-0.817803</td>\n",
       "      <td>-0.326567</td>\n",
       "      <td>0.762322</td>\n",
       "      <td>0.217143</td>\n",
       "      <td>0</td>\n",
       "    </tr>\n",
       "    <tr>\n",
       "      <th>739692933</th>\n",
       "      <td>-1.017244</td>\n",
       "      <td>-0.959836</td>\n",
       "      <td>1.659520</td>\n",
       "      <td>1.499911</td>\n",
       "      <td>1.923459</td>\n",
       "      <td>-1.070242</td>\n",
       "      <td>-0.326567</td>\n",
       "      <td>0.120552</td>\n",
       "      <td>1.577980</td>\n",
       "      <td>0</td>\n",
       "    </tr>\n",
       "  </tbody>\n",
       "</table>\n",
       "</div>"
      ],
      "text/plain": [
       "           Total_Trans_Ct  Total_Ct_Chng_Q4_Q1  Total_Revolving_Bal  \\\n",
       "CLIENTNUM                                                             \n",
       "772382283       -0.676751            -2.024976             0.526518   \n",
       "709206333       -1.059805            -0.856053            -1.426806   \n",
       "714887808       -0.634189             0.159927            -1.426806   \n",
       "709531908       -0.506504             0.728002            -1.426806   \n",
       "739692933       -1.017244            -0.959836             1.659520   \n",
       "\n",
       "           Contacts_Count_12_mon  Avg_Utilization_Ratio  Total_Trans_Amt  \\\n",
       "CLIENTNUM                                                                  \n",
       "772382283               0.547152               1.513393        -0.584320   \n",
       "709206333               1.499911              -0.997809        -1.107229   \n",
       "714887808              -0.405607              -0.997809        -0.773880   \n",
       "709531908              -0.405607              -0.997809        -0.817803   \n",
       "739692933               1.499911               1.923459        -1.070242   \n",
       "\n",
       "           Months_Inactive_12_mon  Total_Relationship_Count  \\\n",
       "CLIENTNUM                                                     \n",
       "772382283                0.782350                 -0.521218   \n",
       "709206333                1.891267                 -0.521218   \n",
       "714887808                0.782350                 -1.804758   \n",
       "709531908               -0.326567                  0.762322   \n",
       "739692933               -0.326567                  0.120552   \n",
       "\n",
       "           Total_Amt_Chng_Q4_Q1  Attrited_customer_enc  \n",
       "CLIENTNUM                                               \n",
       "772382283             -0.420749                      1  \n",
       "709206333             -1.684384                      1  \n",
       "714887808              0.107790                      1  \n",
       "709531908              0.217143                      0  \n",
       "739692933              1.577980                      0  "
      ]
     },
     "execution_count": 71,
     "metadata": {},
     "output_type": "execute_result"
    }
   ],
   "source": [
    "df2=df2.loc[:,['Total_Trans_Ct','Total_Ct_Chng_Q4_Q1','Total_Revolving_Bal','Contacts_Count_12_mon','Avg_Utilization_Ratio',\n",
    "              'Total_Trans_Amt','Months_Inactive_12_mon','Total_Relationship_Count','Total_Amt_Chng_Q4_Q1','Attrited_customer_enc']]\n",
    "df2.head()"
   ]
  },
  {
   "cell_type": "markdown",
   "id": "fa828a5a",
   "metadata": {},
   "source": [
    "## Split Data Training"
   ]
  },
  {
   "cell_type": "code",
   "execution_count": 72,
   "id": "e7390da5",
   "metadata": {
    "ExecuteTime": {
     "end_time": "2022-11-18T14:26:18.135619Z",
     "start_time": "2022-11-18T14:26:18.121570Z"
    }
   },
   "outputs": [
    {
     "data": {
      "text/html": [
       "<div>\n",
       "<style scoped>\n",
       "    .dataframe tbody tr th:only-of-type {\n",
       "        vertical-align: middle;\n",
       "    }\n",
       "\n",
       "    .dataframe tbody tr th {\n",
       "        vertical-align: top;\n",
       "    }\n",
       "\n",
       "    .dataframe thead th {\n",
       "        text-align: right;\n",
       "    }\n",
       "</style>\n",
       "<table border=\"1\" class=\"dataframe\">\n",
       "  <thead>\n",
       "    <tr style=\"text-align: right;\">\n",
       "      <th></th>\n",
       "      <th>Total_Trans_Ct</th>\n",
       "      <th>Total_Ct_Chng_Q4_Q1</th>\n",
       "      <th>Total_Revolving_Bal</th>\n",
       "      <th>Contacts_Count_12_mon</th>\n",
       "      <th>Avg_Utilization_Ratio</th>\n",
       "      <th>Total_Trans_Amt</th>\n",
       "      <th>Months_Inactive_12_mon</th>\n",
       "      <th>Total_Relationship_Count</th>\n",
       "      <th>Total_Amt_Chng_Q4_Q1</th>\n",
       "      <th>Attrited_customer_enc</th>\n",
       "    </tr>\n",
       "    <tr>\n",
       "      <th>CLIENTNUM</th>\n",
       "      <th></th>\n",
       "      <th></th>\n",
       "      <th></th>\n",
       "      <th></th>\n",
       "      <th></th>\n",
       "      <th></th>\n",
       "      <th></th>\n",
       "      <th></th>\n",
       "      <th></th>\n",
       "      <th></th>\n",
       "    </tr>\n",
       "  </thead>\n",
       "  <tbody>\n",
       "    <tr>\n",
       "      <th>772382283</th>\n",
       "      <td>-0.676751</td>\n",
       "      <td>-2.024976</td>\n",
       "      <td>0.526518</td>\n",
       "      <td>0.547152</td>\n",
       "      <td>1.513393</td>\n",
       "      <td>-0.584320</td>\n",
       "      <td>0.782350</td>\n",
       "      <td>-0.521218</td>\n",
       "      <td>-0.420749</td>\n",
       "      <td>1</td>\n",
       "    </tr>\n",
       "    <tr>\n",
       "      <th>709206333</th>\n",
       "      <td>-1.059805</td>\n",
       "      <td>-0.856053</td>\n",
       "      <td>-1.426806</td>\n",
       "      <td>1.499911</td>\n",
       "      <td>-0.997809</td>\n",
       "      <td>-1.107229</td>\n",
       "      <td>1.891267</td>\n",
       "      <td>-0.521218</td>\n",
       "      <td>-1.684384</td>\n",
       "      <td>1</td>\n",
       "    </tr>\n",
       "    <tr>\n",
       "      <th>714887808</th>\n",
       "      <td>-0.634189</td>\n",
       "      <td>0.159927</td>\n",
       "      <td>-1.426806</td>\n",
       "      <td>-0.405607</td>\n",
       "      <td>-0.997809</td>\n",
       "      <td>-0.773880</td>\n",
       "      <td>0.782350</td>\n",
       "      <td>-1.804758</td>\n",
       "      <td>0.107790</td>\n",
       "      <td>1</td>\n",
       "    </tr>\n",
       "    <tr>\n",
       "      <th>709531908</th>\n",
       "      <td>-0.506504</td>\n",
       "      <td>0.728002</td>\n",
       "      <td>-1.426806</td>\n",
       "      <td>-0.405607</td>\n",
       "      <td>-0.997809</td>\n",
       "      <td>-0.817803</td>\n",
       "      <td>-0.326567</td>\n",
       "      <td>0.762322</td>\n",
       "      <td>0.217143</td>\n",
       "      <td>0</td>\n",
       "    </tr>\n",
       "    <tr>\n",
       "      <th>739692933</th>\n",
       "      <td>-1.017244</td>\n",
       "      <td>-0.959836</td>\n",
       "      <td>1.659520</td>\n",
       "      <td>1.499911</td>\n",
       "      <td>1.923459</td>\n",
       "      <td>-1.070242</td>\n",
       "      <td>-0.326567</td>\n",
       "      <td>0.120552</td>\n",
       "      <td>1.577980</td>\n",
       "      <td>0</td>\n",
       "    </tr>\n",
       "    <tr>\n",
       "      <th>...</th>\n",
       "      <td>...</td>\n",
       "      <td>...</td>\n",
       "      <td>...</td>\n",
       "      <td>...</td>\n",
       "      <td>...</td>\n",
       "      <td>...</td>\n",
       "      <td>...</td>\n",
       "      <td>...</td>\n",
       "      <td>...</td>\n",
       "      <td>...</td>\n",
       "    </tr>\n",
       "    <tr>\n",
       "      <th>771215583</th>\n",
       "      <td>-0.208573</td>\n",
       "      <td>1.312464</td>\n",
       "      <td>0.381827</td>\n",
       "      <td>1.499911</td>\n",
       "      <td>-0.780075</td>\n",
       "      <td>-0.207048</td>\n",
       "      <td>-1.435484</td>\n",
       "      <td>1.404092</td>\n",
       "      <td>-1.289498</td>\n",
       "      <td>0</td>\n",
       "    </tr>\n",
       "    <tr>\n",
       "      <th>770956158</th>\n",
       "      <td>0.131921</td>\n",
       "      <td>0.269172</td>\n",
       "      <td>1.210733</td>\n",
       "      <td>-1.358366</td>\n",
       "      <td>2.257318</td>\n",
       "      <td>0.086540</td>\n",
       "      <td>-0.326567</td>\n",
       "      <td>-0.521218</td>\n",
       "      <td>0.599878</td>\n",
       "      <td>0</td>\n",
       "    </tr>\n",
       "    <tr>\n",
       "      <th>772813458</th>\n",
       "      <td>-0.080888</td>\n",
       "      <td>-0.200582</td>\n",
       "      <td>0.707994</td>\n",
       "      <td>-0.405607</td>\n",
       "      <td>0.032800</td>\n",
       "      <td>0.143870</td>\n",
       "      <td>-1.435484</td>\n",
       "      <td>-0.521218</td>\n",
       "      <td>-0.985740</td>\n",
       "      <td>0</td>\n",
       "    </tr>\n",
       "    <tr>\n",
       "      <th>712760208</th>\n",
       "      <td>1.195962</td>\n",
       "      <td>-0.790506</td>\n",
       "      <td>0.034815</td>\n",
       "      <td>-1.358366</td>\n",
       "      <td>-0.355493</td>\n",
       "      <td>1.834659</td>\n",
       "      <td>-0.326567</td>\n",
       "      <td>-0.521218</td>\n",
       "      <td>0.217143</td>\n",
       "      <td>0</td>\n",
       "    </tr>\n",
       "    <tr>\n",
       "      <th>770038983</th>\n",
       "      <td>0.174482</td>\n",
       "      <td>0.405729</td>\n",
       "      <td>1.659520</td>\n",
       "      <td>0.547152</td>\n",
       "      <td>-0.682095</td>\n",
       "      <td>2.155062</td>\n",
       "      <td>0.782350</td>\n",
       "      <td>-1.804758</td>\n",
       "      <td>0.180692</td>\n",
       "      <td>1</td>\n",
       "    </tr>\n",
       "  </tbody>\n",
       "</table>\n",
       "<p>9114 rows × 10 columns</p>\n",
       "</div>"
      ],
      "text/plain": [
       "           Total_Trans_Ct  Total_Ct_Chng_Q4_Q1  Total_Revolving_Bal  \\\n",
       "CLIENTNUM                                                             \n",
       "772382283       -0.676751            -2.024976             0.526518   \n",
       "709206333       -1.059805            -0.856053            -1.426806   \n",
       "714887808       -0.634189             0.159927            -1.426806   \n",
       "709531908       -0.506504             0.728002            -1.426806   \n",
       "739692933       -1.017244            -0.959836             1.659520   \n",
       "...                   ...                  ...                  ...   \n",
       "771215583       -0.208573             1.312464             0.381827   \n",
       "770956158        0.131921             0.269172             1.210733   \n",
       "772813458       -0.080888            -0.200582             0.707994   \n",
       "712760208        1.195962            -0.790506             0.034815   \n",
       "770038983        0.174482             0.405729             1.659520   \n",
       "\n",
       "           Contacts_Count_12_mon  Avg_Utilization_Ratio  Total_Trans_Amt  \\\n",
       "CLIENTNUM                                                                  \n",
       "772382283               0.547152               1.513393        -0.584320   \n",
       "709206333               1.499911              -0.997809        -1.107229   \n",
       "714887808              -0.405607              -0.997809        -0.773880   \n",
       "709531908              -0.405607              -0.997809        -0.817803   \n",
       "739692933               1.499911               1.923459        -1.070242   \n",
       "...                          ...                    ...              ...   \n",
       "771215583               1.499911              -0.780075        -0.207048   \n",
       "770956158              -1.358366               2.257318         0.086540   \n",
       "772813458              -0.405607               0.032800         0.143870   \n",
       "712760208              -1.358366              -0.355493         1.834659   \n",
       "770038983               0.547152              -0.682095         2.155062   \n",
       "\n",
       "           Months_Inactive_12_mon  Total_Relationship_Count  \\\n",
       "CLIENTNUM                                                     \n",
       "772382283                0.782350                 -0.521218   \n",
       "709206333                1.891267                 -0.521218   \n",
       "714887808                0.782350                 -1.804758   \n",
       "709531908               -0.326567                  0.762322   \n",
       "739692933               -0.326567                  0.120552   \n",
       "...                           ...                       ...   \n",
       "771215583               -1.435484                  1.404092   \n",
       "770956158               -0.326567                 -0.521218   \n",
       "772813458               -1.435484                 -0.521218   \n",
       "712760208               -0.326567                 -0.521218   \n",
       "770038983                0.782350                 -1.804758   \n",
       "\n",
       "           Total_Amt_Chng_Q4_Q1  Attrited_customer_enc  \n",
       "CLIENTNUM                                               \n",
       "772382283             -0.420749                      1  \n",
       "709206333             -1.684384                      1  \n",
       "714887808              0.107790                      1  \n",
       "709531908              0.217143                      0  \n",
       "739692933              1.577980                      0  \n",
       "...                         ...                    ...  \n",
       "771215583             -1.289498                      0  \n",
       "770956158              0.599878                      0  \n",
       "772813458             -0.985740                      0  \n",
       "712760208              0.217143                      0  \n",
       "770038983              0.180692                      1  \n",
       "\n",
       "[9114 rows x 10 columns]"
      ]
     },
     "execution_count": 72,
     "metadata": {},
     "output_type": "execute_result"
    }
   ],
   "source": [
    "df2"
   ]
  },
  {
   "cell_type": "code",
   "execution_count": 73,
   "id": "be267d09",
   "metadata": {
    "ExecuteTime": {
     "end_time": "2022-11-18T14:26:18.151421Z",
     "start_time": "2022-11-18T14:26:18.137571Z"
    }
   },
   "outputs": [],
   "source": [
    "x=df2.drop(columns='Attrited_customer_enc')\n",
    "y=df2['Attrited_customer_enc']"
   ]
  },
  {
   "cell_type": "code",
   "execution_count": 74,
   "id": "1d0cecda",
   "metadata": {
    "ExecuteTime": {
     "end_time": "2022-11-18T14:26:18.231404Z",
     "start_time": "2022-11-18T14:26:18.153408Z"
    }
   },
   "outputs": [
    {
     "data": {
      "text/html": [
       "<div>\n",
       "<style scoped>\n",
       "    .dataframe tbody tr th:only-of-type {\n",
       "        vertical-align: middle;\n",
       "    }\n",
       "\n",
       "    .dataframe tbody tr th {\n",
       "        vertical-align: top;\n",
       "    }\n",
       "\n",
       "    .dataframe thead th {\n",
       "        text-align: right;\n",
       "    }\n",
       "</style>\n",
       "<table border=\"1\" class=\"dataframe\">\n",
       "  <thead>\n",
       "    <tr style=\"text-align: right;\">\n",
       "      <th></th>\n",
       "      <th>Total_Trans_Ct</th>\n",
       "      <th>Total_Ct_Chng_Q4_Q1</th>\n",
       "      <th>Total_Revolving_Bal</th>\n",
       "      <th>Contacts_Count_12_mon</th>\n",
       "      <th>Avg_Utilization_Ratio</th>\n",
       "      <th>Total_Trans_Amt</th>\n",
       "      <th>Months_Inactive_12_mon</th>\n",
       "      <th>Total_Relationship_Count</th>\n",
       "      <th>Total_Amt_Chng_Q4_Q1</th>\n",
       "    </tr>\n",
       "    <tr>\n",
       "      <th>CLIENTNUM</th>\n",
       "      <th></th>\n",
       "      <th></th>\n",
       "      <th></th>\n",
       "      <th></th>\n",
       "      <th></th>\n",
       "      <th></th>\n",
       "      <th></th>\n",
       "      <th></th>\n",
       "      <th></th>\n",
       "    </tr>\n",
       "  </thead>\n",
       "  <tbody>\n",
       "    <tr>\n",
       "      <th>772382283</th>\n",
       "      <td>-0.676751</td>\n",
       "      <td>-2.024976</td>\n",
       "      <td>0.526518</td>\n",
       "      <td>0.547152</td>\n",
       "      <td>1.513393</td>\n",
       "      <td>-0.584320</td>\n",
       "      <td>0.782350</td>\n",
       "      <td>-0.521218</td>\n",
       "      <td>-0.420749</td>\n",
       "    </tr>\n",
       "    <tr>\n",
       "      <th>709206333</th>\n",
       "      <td>-1.059805</td>\n",
       "      <td>-0.856053</td>\n",
       "      <td>-1.426806</td>\n",
       "      <td>1.499911</td>\n",
       "      <td>-0.997809</td>\n",
       "      <td>-1.107229</td>\n",
       "      <td>1.891267</td>\n",
       "      <td>-0.521218</td>\n",
       "      <td>-1.684384</td>\n",
       "    </tr>\n",
       "    <tr>\n",
       "      <th>714887808</th>\n",
       "      <td>-0.634189</td>\n",
       "      <td>0.159927</td>\n",
       "      <td>-1.426806</td>\n",
       "      <td>-0.405607</td>\n",
       "      <td>-0.997809</td>\n",
       "      <td>-0.773880</td>\n",
       "      <td>0.782350</td>\n",
       "      <td>-1.804758</td>\n",
       "      <td>0.107790</td>\n",
       "    </tr>\n",
       "    <tr>\n",
       "      <th>709531908</th>\n",
       "      <td>-0.506504</td>\n",
       "      <td>0.728002</td>\n",
       "      <td>-1.426806</td>\n",
       "      <td>-0.405607</td>\n",
       "      <td>-0.997809</td>\n",
       "      <td>-0.817803</td>\n",
       "      <td>-0.326567</td>\n",
       "      <td>0.762322</td>\n",
       "      <td>0.217143</td>\n",
       "    </tr>\n",
       "    <tr>\n",
       "      <th>739692933</th>\n",
       "      <td>-1.017244</td>\n",
       "      <td>-0.959836</td>\n",
       "      <td>1.659520</td>\n",
       "      <td>1.499911</td>\n",
       "      <td>1.923459</td>\n",
       "      <td>-1.070242</td>\n",
       "      <td>-0.326567</td>\n",
       "      <td>0.120552</td>\n",
       "      <td>1.577980</td>\n",
       "    </tr>\n",
       "    <tr>\n",
       "      <th>...</th>\n",
       "      <td>...</td>\n",
       "      <td>...</td>\n",
       "      <td>...</td>\n",
       "      <td>...</td>\n",
       "      <td>...</td>\n",
       "      <td>...</td>\n",
       "      <td>...</td>\n",
       "      <td>...</td>\n",
       "      <td>...</td>\n",
       "    </tr>\n",
       "    <tr>\n",
       "      <th>771215583</th>\n",
       "      <td>-0.208573</td>\n",
       "      <td>1.312464</td>\n",
       "      <td>0.381827</td>\n",
       "      <td>1.499911</td>\n",
       "      <td>-0.780075</td>\n",
       "      <td>-0.207048</td>\n",
       "      <td>-1.435484</td>\n",
       "      <td>1.404092</td>\n",
       "      <td>-1.289498</td>\n",
       "    </tr>\n",
       "    <tr>\n",
       "      <th>770956158</th>\n",
       "      <td>0.131921</td>\n",
       "      <td>0.269172</td>\n",
       "      <td>1.210733</td>\n",
       "      <td>-1.358366</td>\n",
       "      <td>2.257318</td>\n",
       "      <td>0.086540</td>\n",
       "      <td>-0.326567</td>\n",
       "      <td>-0.521218</td>\n",
       "      <td>0.599878</td>\n",
       "    </tr>\n",
       "    <tr>\n",
       "      <th>772813458</th>\n",
       "      <td>-0.080888</td>\n",
       "      <td>-0.200582</td>\n",
       "      <td>0.707994</td>\n",
       "      <td>-0.405607</td>\n",
       "      <td>0.032800</td>\n",
       "      <td>0.143870</td>\n",
       "      <td>-1.435484</td>\n",
       "      <td>-0.521218</td>\n",
       "      <td>-0.985740</td>\n",
       "    </tr>\n",
       "    <tr>\n",
       "      <th>712760208</th>\n",
       "      <td>1.195962</td>\n",
       "      <td>-0.790506</td>\n",
       "      <td>0.034815</td>\n",
       "      <td>-1.358366</td>\n",
       "      <td>-0.355493</td>\n",
       "      <td>1.834659</td>\n",
       "      <td>-0.326567</td>\n",
       "      <td>-0.521218</td>\n",
       "      <td>0.217143</td>\n",
       "    </tr>\n",
       "    <tr>\n",
       "      <th>770038983</th>\n",
       "      <td>0.174482</td>\n",
       "      <td>0.405729</td>\n",
       "      <td>1.659520</td>\n",
       "      <td>0.547152</td>\n",
       "      <td>-0.682095</td>\n",
       "      <td>2.155062</td>\n",
       "      <td>0.782350</td>\n",
       "      <td>-1.804758</td>\n",
       "      <td>0.180692</td>\n",
       "    </tr>\n",
       "  </tbody>\n",
       "</table>\n",
       "<p>9114 rows × 9 columns</p>\n",
       "</div>"
      ],
      "text/plain": [
       "           Total_Trans_Ct  Total_Ct_Chng_Q4_Q1  Total_Revolving_Bal  \\\n",
       "CLIENTNUM                                                             \n",
       "772382283       -0.676751            -2.024976             0.526518   \n",
       "709206333       -1.059805            -0.856053            -1.426806   \n",
       "714887808       -0.634189             0.159927            -1.426806   \n",
       "709531908       -0.506504             0.728002            -1.426806   \n",
       "739692933       -1.017244            -0.959836             1.659520   \n",
       "...                   ...                  ...                  ...   \n",
       "771215583       -0.208573             1.312464             0.381827   \n",
       "770956158        0.131921             0.269172             1.210733   \n",
       "772813458       -0.080888            -0.200582             0.707994   \n",
       "712760208        1.195962            -0.790506             0.034815   \n",
       "770038983        0.174482             0.405729             1.659520   \n",
       "\n",
       "           Contacts_Count_12_mon  Avg_Utilization_Ratio  Total_Trans_Amt  \\\n",
       "CLIENTNUM                                                                  \n",
       "772382283               0.547152               1.513393        -0.584320   \n",
       "709206333               1.499911              -0.997809        -1.107229   \n",
       "714887808              -0.405607              -0.997809        -0.773880   \n",
       "709531908              -0.405607              -0.997809        -0.817803   \n",
       "739692933               1.499911               1.923459        -1.070242   \n",
       "...                          ...                    ...              ...   \n",
       "771215583               1.499911              -0.780075        -0.207048   \n",
       "770956158              -1.358366               2.257318         0.086540   \n",
       "772813458              -0.405607               0.032800         0.143870   \n",
       "712760208              -1.358366              -0.355493         1.834659   \n",
       "770038983               0.547152              -0.682095         2.155062   \n",
       "\n",
       "           Months_Inactive_12_mon  Total_Relationship_Count  \\\n",
       "CLIENTNUM                                                     \n",
       "772382283                0.782350                 -0.521218   \n",
       "709206333                1.891267                 -0.521218   \n",
       "714887808                0.782350                 -1.804758   \n",
       "709531908               -0.326567                  0.762322   \n",
       "739692933               -0.326567                  0.120552   \n",
       "...                           ...                       ...   \n",
       "771215583               -1.435484                  1.404092   \n",
       "770956158               -0.326567                 -0.521218   \n",
       "772813458               -1.435484                 -0.521218   \n",
       "712760208               -0.326567                 -0.521218   \n",
       "770038983                0.782350                 -1.804758   \n",
       "\n",
       "           Total_Amt_Chng_Q4_Q1  \n",
       "CLIENTNUM                        \n",
       "772382283             -0.420749  \n",
       "709206333             -1.684384  \n",
       "714887808              0.107790  \n",
       "709531908              0.217143  \n",
       "739692933              1.577980  \n",
       "...                         ...  \n",
       "771215583             -1.289498  \n",
       "770956158              0.599878  \n",
       "772813458             -0.985740  \n",
       "712760208              0.217143  \n",
       "770038983              0.180692  \n",
       "\n",
       "[9114 rows x 9 columns]"
      ]
     },
     "execution_count": 74,
     "metadata": {},
     "output_type": "execute_result"
    }
   ],
   "source": [
    "x"
   ]
  },
  {
   "cell_type": "code",
   "execution_count": 75,
   "id": "67d0beb8",
   "metadata": {
    "ExecuteTime": {
     "end_time": "2022-11-18T14:26:18.247357Z",
     "start_time": "2022-11-18T14:26:18.233346Z"
    }
   },
   "outputs": [
    {
     "data": {
      "text/plain": [
       "CLIENTNUM\n",
       "772382283    1\n",
       "709206333    1\n",
       "714887808    1\n",
       "709531908    0\n",
       "739692933    0\n",
       "            ..\n",
       "771215583    0\n",
       "770956158    0\n",
       "772813458    0\n",
       "712760208    0\n",
       "770038983    1\n",
       "Name: Attrited_customer_enc, Length: 9114, dtype: int64"
      ]
     },
     "execution_count": 75,
     "metadata": {},
     "output_type": "execute_result"
    }
   ],
   "source": [
    "y"
   ]
  },
  {
   "cell_type": "code",
   "execution_count": 76,
   "id": "02ba5d6d",
   "metadata": {
    "ExecuteTime": {
     "end_time": "2022-11-18T14:26:18.263371Z",
     "start_time": "2022-11-18T14:26:18.249350Z"
    }
   },
   "outputs": [],
   "source": [
    "from sklearn.model_selection import train_test_split\n",
    "\n",
    "x_train, x_test, y_train , y_test = train_test_split(x,y, random_state=42, test_size=0.3)"
   ]
  },
  {
   "cell_type": "markdown",
   "id": "b50ac219",
   "metadata": {},
   "source": [
    "## Handling Inbalance"
   ]
  },
  {
   "cell_type": "code",
   "execution_count": 77,
   "id": "56933971",
   "metadata": {
    "ExecuteTime": {
     "end_time": "2022-11-18T14:26:18.279349Z",
     "start_time": "2022-11-18T14:26:18.264345Z"
    },
    "scrolled": true
   },
   "outputs": [
    {
     "data": {
      "text/plain": [
       "0    5373\n",
       "1    1006\n",
       "Name: Attrited_customer_enc, dtype: int64"
      ]
     },
     "execution_count": 77,
     "metadata": {},
     "output_type": "execute_result"
    }
   ],
   "source": [
    "y_train.value_counts()"
   ]
  },
  {
   "cell_type": "code",
   "execution_count": 78,
   "id": "cd5e16e8",
   "metadata": {
    "ExecuteTime": {
     "end_time": "2022-11-18T14:26:18.453761Z",
     "start_time": "2022-11-18T14:26:18.281354Z"
    }
   },
   "outputs": [],
   "source": [
    "# import SMOTE oversampling and other necessary libraries \n",
    "from collections import Counter\n",
    "from sklearn.datasets import make_classification\n",
    "from imblearn.over_sampling import SMOTE"
   ]
  },
  {
   "cell_type": "code",
   "execution_count": 79,
   "id": "11a7786d",
   "metadata": {
    "ExecuteTime": {
     "end_time": "2022-11-18T14:26:18.469764Z",
     "start_time": "2022-11-18T14:26:18.455765Z"
    }
   },
   "outputs": [
    {
     "name": "stdout",
     "output_type": "stream",
     "text": [
      "Before oversampling:  Counter({0: 5373, 1: 1006})\n"
     ]
    }
   ],
   "source": [
    "# summarize class distribution\n",
    "print(\"Before oversampling: \",Counter(y_train))"
   ]
  },
  {
   "cell_type": "code",
   "execution_count": 80,
   "id": "687ba930",
   "metadata": {
    "ExecuteTime": {
     "end_time": "2022-11-18T14:26:18.501762Z",
     "start_time": "2022-11-18T14:26:18.472758Z"
    }
   },
   "outputs": [],
   "source": [
    "# define oversampling strategy\n",
    "sm = SMOTE(random_state=42)\n",
    "# fit and apply the transform\n",
    "x_train_SMOTE, y_train_SMOTE = sm.fit_resample(x_train, y_train)"
   ]
  },
  {
   "cell_type": "code",
   "execution_count": 81,
   "id": "187f39c6",
   "metadata": {
    "ExecuteTime": {
     "end_time": "2022-11-18T14:26:18.517398Z",
     "start_time": "2022-11-18T14:26:18.503759Z"
    }
   },
   "outputs": [
    {
     "name": "stdout",
     "output_type": "stream",
     "text": [
      "After oversampling:  Counter({0: 5373, 1: 5373})\n"
     ]
    }
   ],
   "source": [
    "# summarize class distribution\n",
    "print(\"After oversampling: \",Counter(y_train_SMOTE))"
   ]
  },
  {
   "cell_type": "code",
   "execution_count": 82,
   "id": "047a3522",
   "metadata": {
    "ExecuteTime": {
     "end_time": "2022-11-18T14:26:18.533313Z",
     "start_time": "2022-11-18T14:26:18.524312Z"
    }
   },
   "outputs": [
    {
     "data": {
      "text/plain": [
       "0    5373\n",
       "1    5373\n",
       "Name: Attrited_customer_enc, dtype: int64"
      ]
     },
     "execution_count": 82,
     "metadata": {},
     "output_type": "execute_result"
    }
   ],
   "source": [
    "y_train_SMOTE.value_counts()"
   ]
  },
  {
   "cell_type": "markdown",
   "id": "76d171fb",
   "metadata": {},
   "source": [
    "# Modelling"
   ]
  },
  {
   "cell_type": "markdown",
   "id": "99b8d35f",
   "metadata": {},
   "source": [
    "## Logistic Regression"
   ]
  },
  {
   "cell_type": "markdown",
   "id": "d4c3b1d4",
   "metadata": {},
   "source": [
    "This type of statistical model (also known as logit model) is often used for classification and predictive analytics. Logistic regression estimates the probability of an event occurring, such as voted or didn’t vote, based on a given dataset of independent variables. Since the outcome is a probability, the dependent variable is bounded between 0 and 1. In logistic regression, a logit transformation is applied on the odds—that is, the probability of success divided by the probability of failure."
   ]
  },
  {
   "cell_type": "code",
   "execution_count": 83,
   "id": "cebfe282",
   "metadata": {
    "ExecuteTime": {
     "end_time": "2022-11-18T14:26:18.548951Z",
     "start_time": "2022-11-18T14:26:18.535317Z"
    }
   },
   "outputs": [],
   "source": [
    "from sklearn.linear_model import LogisticRegression"
   ]
  },
  {
   "cell_type": "code",
   "execution_count": 84,
   "id": "8cbe5a45",
   "metadata": {
    "ExecuteTime": {
     "end_time": "2022-11-18T14:26:18.580728Z",
     "start_time": "2022-11-18T14:26:18.549936Z"
    }
   },
   "outputs": [],
   "source": [
    "logreg=LogisticRegression(max_iter = 10000)\n",
    "logreg.fit(x_train_SMOTE,y_train_SMOTE)\n",
    "y_pred_logreg = logreg.predict(x_test)"
   ]
  },
  {
   "cell_type": "code",
   "execution_count": 85,
   "id": "d9e07dbe",
   "metadata": {
    "ExecuteTime": {
     "end_time": "2022-11-18T14:26:18.595728Z",
     "start_time": "2022-11-18T14:26:18.581727Z"
    }
   },
   "outputs": [
    {
     "data": {
      "text/plain": [
       "array([0, 0, 0, ..., 0, 1, 0], dtype=int64)"
      ]
     },
     "execution_count": 85,
     "metadata": {},
     "output_type": "execute_result"
    }
   ],
   "source": [
    "y_pred_logreg"
   ]
  },
  {
   "cell_type": "markdown",
   "id": "cedffaf2",
   "metadata": {},
   "source": [
    "## Decision Tree Regressor"
   ]
  },
  {
   "cell_type": "markdown",
   "id": "b0848568",
   "metadata": {},
   "source": [
    "Decision Tree is a decision-making tool that uses a flowchart-like tree structure or is a model of decisions and all of their possible results, including outcomes, input costs, and utility.\n",
    "Decision-tree algorithm falls under the category of supervised learning algorithms. It works for both continuous as well as categorical output variables."
   ]
  },
  {
   "cell_type": "code",
   "execution_count": 86,
   "id": "9d048d61",
   "metadata": {
    "ExecuteTime": {
     "end_time": "2022-11-18T14:26:18.611728Z",
     "start_time": "2022-11-18T14:26:18.597733Z"
    }
   },
   "outputs": [],
   "source": [
    "from sklearn.tree import DecisionTreeRegressor"
   ]
  },
  {
   "cell_type": "code",
   "execution_count": 87,
   "id": "2fc19847",
   "metadata": {
    "ExecuteTime": {
     "end_time": "2022-11-18T14:26:18.659727Z",
     "start_time": "2022-11-18T14:26:18.613731Z"
    }
   },
   "outputs": [],
   "source": [
    "dt= DecisionTreeRegressor()\n",
    "\n",
    "#fit model\n",
    "dt.fit(x_train_SMOTE,y_train_SMOTE)\n",
    "\n",
    "#predict our testing data\n",
    "y_pred_dt=dt.predict(x_test)"
   ]
  },
  {
   "cell_type": "code",
   "execution_count": 88,
   "id": "c9783b3c",
   "metadata": {
    "ExecuteTime": {
     "end_time": "2022-11-18T14:26:18.675460Z",
     "start_time": "2022-11-18T14:26:18.661730Z"
    }
   },
   "outputs": [
    {
     "data": {
      "text/plain": [
       "array([0., 0., 1., ..., 0., 0., 0.])"
      ]
     },
     "execution_count": 88,
     "metadata": {},
     "output_type": "execute_result"
    }
   ],
   "source": [
    "y_pred_dt"
   ]
  },
  {
   "cell_type": "markdown",
   "id": "e0ee68bc",
   "metadata": {},
   "source": [
    "## KNN"
   ]
  },
  {
   "cell_type": "markdown",
   "id": "92eb79d1",
   "metadata": {},
   "source": [
    "The k-nearest neighbors algorithm, also known as KNN or k-NN, is a non-parametric, supervised learning classifier, which uses proximity to make classifications or predictions about the grouping of an individual data point. While it can be used for either regression or classification problems, it is typically used as a classification algorithm, working off the assumption that similar points can be found near one another."
   ]
  },
  {
   "cell_type": "code",
   "execution_count": 89,
   "id": "c34d0c9e",
   "metadata": {
    "ExecuteTime": {
     "end_time": "2022-11-18T14:26:18.707010Z",
     "start_time": "2022-11-18T14:26:18.677463Z"
    }
   },
   "outputs": [
    {
     "data": {
      "text/html": [
       "<style>#sk-container-id-1 {color: black;background-color: white;}#sk-container-id-1 pre{padding: 0;}#sk-container-id-1 div.sk-toggleable {background-color: white;}#sk-container-id-1 label.sk-toggleable__label {cursor: pointer;display: block;width: 100%;margin-bottom: 0;padding: 0.3em;box-sizing: border-box;text-align: center;}#sk-container-id-1 label.sk-toggleable__label-arrow:before {content: \"▸\";float: left;margin-right: 0.25em;color: #696969;}#sk-container-id-1 label.sk-toggleable__label-arrow:hover:before {color: black;}#sk-container-id-1 div.sk-estimator:hover label.sk-toggleable__label-arrow:before {color: black;}#sk-container-id-1 div.sk-toggleable__content {max-height: 0;max-width: 0;overflow: hidden;text-align: left;background-color: #f0f8ff;}#sk-container-id-1 div.sk-toggleable__content pre {margin: 0.2em;color: black;border-radius: 0.25em;background-color: #f0f8ff;}#sk-container-id-1 input.sk-toggleable__control:checked~div.sk-toggleable__content {max-height: 200px;max-width: 100%;overflow: auto;}#sk-container-id-1 input.sk-toggleable__control:checked~label.sk-toggleable__label-arrow:before {content: \"▾\";}#sk-container-id-1 div.sk-estimator input.sk-toggleable__control:checked~label.sk-toggleable__label {background-color: #d4ebff;}#sk-container-id-1 div.sk-label input.sk-toggleable__control:checked~label.sk-toggleable__label {background-color: #d4ebff;}#sk-container-id-1 input.sk-hidden--visually {border: 0;clip: rect(1px 1px 1px 1px);clip: rect(1px, 1px, 1px, 1px);height: 1px;margin: -1px;overflow: hidden;padding: 0;position: absolute;width: 1px;}#sk-container-id-1 div.sk-estimator {font-family: monospace;background-color: #f0f8ff;border: 1px dotted black;border-radius: 0.25em;box-sizing: border-box;margin-bottom: 0.5em;}#sk-container-id-1 div.sk-estimator:hover {background-color: #d4ebff;}#sk-container-id-1 div.sk-parallel-item::after {content: \"\";width: 100%;border-bottom: 1px solid gray;flex-grow: 1;}#sk-container-id-1 div.sk-label:hover label.sk-toggleable__label {background-color: #d4ebff;}#sk-container-id-1 div.sk-serial::before {content: \"\";position: absolute;border-left: 1px solid gray;box-sizing: border-box;top: 0;bottom: 0;left: 50%;z-index: 0;}#sk-container-id-1 div.sk-serial {display: flex;flex-direction: column;align-items: center;background-color: white;padding-right: 0.2em;padding-left: 0.2em;position: relative;}#sk-container-id-1 div.sk-item {position: relative;z-index: 1;}#sk-container-id-1 div.sk-parallel {display: flex;align-items: stretch;justify-content: center;background-color: white;position: relative;}#sk-container-id-1 div.sk-item::before, #sk-container-id-1 div.sk-parallel-item::before {content: \"\";position: absolute;border-left: 1px solid gray;box-sizing: border-box;top: 0;bottom: 0;left: 50%;z-index: -1;}#sk-container-id-1 div.sk-parallel-item {display: flex;flex-direction: column;z-index: 1;position: relative;background-color: white;}#sk-container-id-1 div.sk-parallel-item:first-child::after {align-self: flex-end;width: 50%;}#sk-container-id-1 div.sk-parallel-item:last-child::after {align-self: flex-start;width: 50%;}#sk-container-id-1 div.sk-parallel-item:only-child::after {width: 0;}#sk-container-id-1 div.sk-dashed-wrapped {border: 1px dashed gray;margin: 0 0.4em 0.5em 0.4em;box-sizing: border-box;padding-bottom: 0.4em;background-color: white;}#sk-container-id-1 div.sk-label label {font-family: monospace;font-weight: bold;display: inline-block;line-height: 1.2em;}#sk-container-id-1 div.sk-label-container {text-align: center;}#sk-container-id-1 div.sk-container {/* jupyter's `normalize.less` sets `[hidden] { display: none; }` but bootstrap.min.css set `[hidden] { display: none !important; }` so we also need the `!important` here to be able to override the default hidden behavior on the sphinx rendered scikit-learn.org. See: https://github.com/scikit-learn/scikit-learn/issues/21755 */display: inline-block !important;position: relative;}#sk-container-id-1 div.sk-text-repr-fallback {display: none;}</style><div id=\"sk-container-id-1\" class=\"sk-top-container\"><div class=\"sk-text-repr-fallback\"><pre>KNeighborsClassifier()</pre><b>In a Jupyter environment, please rerun this cell to show the HTML representation or trust the notebook. <br />On GitHub, the HTML representation is unable to render, please try loading this page with nbviewer.org.</b></div><div class=\"sk-container\" hidden><div class=\"sk-item\"><div class=\"sk-estimator sk-toggleable\"><input class=\"sk-toggleable__control sk-hidden--visually\" id=\"sk-estimator-id-1\" type=\"checkbox\" checked><label for=\"sk-estimator-id-1\" class=\"sk-toggleable__label sk-toggleable__label-arrow\">KNeighborsClassifier</label><div class=\"sk-toggleable__content\"><pre>KNeighborsClassifier()</pre></div></div></div></div></div>"
      ],
      "text/plain": [
       "KNeighborsClassifier()"
      ]
     },
     "execution_count": 89,
     "metadata": {},
     "output_type": "execute_result"
    }
   ],
   "source": [
    "#Fitting K-NN classifier to the training set  \n",
    "from sklearn.neighbors import KNeighborsClassifier\n",
    "\n",
    "classifier= KNeighborsClassifier(n_neighbors=5, metric='minkowski', p=2 )  \n",
    "classifier.fit(x_train_SMOTE, y_train_SMOTE) "
   ]
  },
  {
   "cell_type": "code",
   "execution_count": 90,
   "id": "7816ffdb",
   "metadata": {
    "ExecuteTime": {
     "end_time": "2022-11-18T14:26:18.817508Z",
     "start_time": "2022-11-18T14:26:18.710005Z"
    }
   },
   "outputs": [],
   "source": [
    "#Predicting the test set result  \n",
    "y_pred_knn= classifier.predict(x_test)  "
   ]
  },
  {
   "cell_type": "code",
   "execution_count": 91,
   "id": "feae909d",
   "metadata": {
    "ExecuteTime": {
     "end_time": "2022-11-18T14:26:18.833082Z",
     "start_time": "2022-11-18T14:26:18.820408Z"
    }
   },
   "outputs": [
    {
     "data": {
      "text/plain": [
       "array([0, 0, 0, ..., 0, 0, 0], dtype=int64)"
      ]
     },
     "execution_count": 91,
     "metadata": {},
     "output_type": "execute_result"
    }
   ],
   "source": [
    "y_pred_knn"
   ]
  },
  {
   "cell_type": "markdown",
   "id": "3c9c90af",
   "metadata": {},
   "source": [
    "## Random Forest"
   ]
  },
  {
   "cell_type": "markdown",
   "id": "fe7cc2c5",
   "metadata": {},
   "source": [
    "A Random Forest Algorithm is a supervised machine learning algorithm which is extremely popular and is used for Classification and Regression problems in Machine Learning. We know that a forest comprises numerous trees, and the more trees more it will be robust. Similarly, the greater the number of trees in a Random Forest Algorithm, the higher its accuracy and problem-solving ability.  Random Forest is a classifier that contains several decision trees on various subsets of the given dataset and takes the average to improve the predictive accuracy of that dataset. It is based on the concept of ensemble learning which is a process of combining multiple classifiers to solve a complex problem and improve the performance of the model."
   ]
  },
  {
   "cell_type": "code",
   "execution_count": 92,
   "id": "c0dd25f5",
   "metadata": {
    "ExecuteTime": {
     "end_time": "2022-11-18T14:26:18.975516Z",
     "start_time": "2022-11-18T14:26:18.835082Z"
    }
   },
   "outputs": [],
   "source": [
    "from sklearn.ensemble import RandomForestClassifier \n",
    "\n",
    "classifier_rf= RandomForestClassifier(n_estimators= 10, criterion=\"entropy\")  \n",
    "classifier_rf.fit(x_train_SMOTE, y_train_SMOTE)  \n",
    "\n",
    "#Predicting the test set result  \n",
    "y_pred_rf= classifier_rf.predict(x_test)  "
   ]
  },
  {
   "cell_type": "code",
   "execution_count": 93,
   "id": "aa5a750f",
   "metadata": {
    "ExecuteTime": {
     "end_time": "2022-11-18T14:26:18.991520Z",
     "start_time": "2022-11-18T14:26:18.976517Z"
    }
   },
   "outputs": [
    {
     "data": {
      "text/plain": [
       "array([0, 0, 0, ..., 0, 0, 0], dtype=int64)"
      ]
     },
     "execution_count": 93,
     "metadata": {},
     "output_type": "execute_result"
    }
   ],
   "source": [
    "y_pred_rf"
   ]
  },
  {
   "cell_type": "markdown",
   "id": "fb6681d4",
   "metadata": {},
   "source": [
    "# Evaluation"
   ]
  },
  {
   "cell_type": "markdown",
   "id": "cc0b3de7",
   "metadata": {},
   "source": [
    "## Logistic Regression Evaluation"
   ]
  },
  {
   "cell_type": "code",
   "execution_count": 94,
   "id": "acf7bba2",
   "metadata": {
    "ExecuteTime": {
     "end_time": "2022-11-18T14:26:19.007520Z",
     "start_time": "2022-11-18T14:26:18.993515Z"
    }
   },
   "outputs": [],
   "source": [
    "from sklearn.metrics import classification_report"
   ]
  },
  {
   "cell_type": "code",
   "execution_count": 95,
   "id": "408d9cc7",
   "metadata": {
    "ExecuteTime": {
     "end_time": "2022-11-18T14:26:19.022809Z",
     "start_time": "2022-11-18T14:26:19.009514Z"
    }
   },
   "outputs": [
    {
     "name": "stdout",
     "output_type": "stream",
     "text": [
      "              precision    recall  f1-score   support\n",
      "\n",
      "           0       0.97      0.85      0.91      2277\n",
      "           1       0.54      0.86      0.67       458\n",
      "\n",
      "    accuracy                           0.86      2735\n",
      "   macro avg       0.76      0.86      0.79      2735\n",
      "weighted avg       0.90      0.86      0.87      2735\n",
      "\n"
     ]
    }
   ],
   "source": [
    "print(classification_report(y_test,y_pred_logreg))"
   ]
  },
  {
   "cell_type": "markdown",
   "id": "38b43ad1",
   "metadata": {},
   "source": [
    "### Cek Overfitting Logistic Regression"
   ]
  },
  {
   "cell_type": "code",
   "execution_count": 96,
   "id": "abf8a5eb",
   "metadata": {
    "ExecuteTime": {
     "end_time": "2022-11-18T14:26:19.038812Z",
     "start_time": "2022-11-18T14:26:19.023826Z"
    }
   },
   "outputs": [],
   "source": [
    "y_pred_logreg_train= logreg.predict(x_train_SMOTE)"
   ]
  },
  {
   "cell_type": "code",
   "execution_count": 97,
   "id": "e7ca527f",
   "metadata": {
    "ExecuteTime": {
     "end_time": "2022-11-18T14:26:19.069806Z",
     "start_time": "2022-11-18T14:26:19.040810Z"
    }
   },
   "outputs": [
    {
     "name": "stdout",
     "output_type": "stream",
     "text": [
      "              precision    recall  f1-score   support\n",
      "\n",
      "           0       0.88      0.86      0.87      5373\n",
      "           1       0.86      0.88      0.87      5373\n",
      "\n",
      "    accuracy                           0.87     10746\n",
      "   macro avg       0.87      0.87      0.87     10746\n",
      "weighted avg       0.87      0.87      0.87     10746\n",
      "\n"
     ]
    }
   ],
   "source": [
    "print(classification_report(y_train_SMOTE,y_pred_logreg_train))"
   ]
  },
  {
   "cell_type": "markdown",
   "id": "5b9719c5",
   "metadata": {},
   "source": [
    "## Decision Tree Evaluation"
   ]
  },
  {
   "cell_type": "code",
   "execution_count": 98,
   "id": "bc6e7b82",
   "metadata": {
    "ExecuteTime": {
     "end_time": "2022-11-18T14:26:19.085699Z",
     "start_time": "2022-11-18T14:26:19.071808Z"
    }
   },
   "outputs": [
    {
     "name": "stdout",
     "output_type": "stream",
     "text": [
      "              precision    recall  f1-score   support\n",
      "\n",
      "           0       0.96      0.94      0.95      2277\n",
      "           1       0.73      0.79      0.76       458\n",
      "\n",
      "    accuracy                           0.92      2735\n",
      "   macro avg       0.84      0.86      0.85      2735\n",
      "weighted avg       0.92      0.92      0.92      2735\n",
      "\n"
     ]
    }
   ],
   "source": [
    "print(classification_report(y_test,y_pred_dt))"
   ]
  },
  {
   "cell_type": "markdown",
   "id": "d35edb70",
   "metadata": {},
   "source": [
    "### Cek Overfitting Decision Tree"
   ]
  },
  {
   "cell_type": "code",
   "execution_count": 99,
   "id": "6c6d33b9",
   "metadata": {
    "ExecuteTime": {
     "end_time": "2022-11-18T14:26:19.101698Z",
     "start_time": "2022-11-18T14:26:19.086704Z"
    }
   },
   "outputs": [],
   "source": [
    "y_pred_dt_train= dt.predict(x_train_SMOTE)"
   ]
  },
  {
   "cell_type": "code",
   "execution_count": 100,
   "id": "4a434d72",
   "metadata": {
    "ExecuteTime": {
     "end_time": "2022-11-18T14:26:19.132697Z",
     "start_time": "2022-11-18T14:26:19.103702Z"
    }
   },
   "outputs": [
    {
     "name": "stdout",
     "output_type": "stream",
     "text": [
      "              precision    recall  f1-score   support\n",
      "\n",
      "           0       1.00      1.00      1.00      5373\n",
      "           1       1.00      1.00      1.00      5373\n",
      "\n",
      "    accuracy                           1.00     10746\n",
      "   macro avg       1.00      1.00      1.00     10746\n",
      "weighted avg       1.00      1.00      1.00     10746\n",
      "\n"
     ]
    }
   ],
   "source": [
    "print(classification_report(y_train_SMOTE,y_pred_dt_train))"
   ]
  },
  {
   "cell_type": "code",
   "execution_count": null,
   "id": "60a2b664",
   "metadata": {},
   "outputs": [],
   "source": []
  },
  {
   "cell_type": "markdown",
   "id": "a5918436",
   "metadata": {},
   "source": [
    "## KNN Evaluation"
   ]
  },
  {
   "cell_type": "code",
   "execution_count": 101,
   "id": "d24012d3",
   "metadata": {
    "ExecuteTime": {
     "end_time": "2022-11-18T14:26:19.148697Z",
     "start_time": "2022-11-18T14:26:19.134698Z"
    }
   },
   "outputs": [
    {
     "name": "stdout",
     "output_type": "stream",
     "text": [
      "              precision    recall  f1-score   support\n",
      "\n",
      "           0       0.97      0.90      0.93      2277\n",
      "           1       0.63      0.85      0.73       458\n",
      "\n",
      "    accuracy                           0.89      2735\n",
      "   macro avg       0.80      0.88      0.83      2735\n",
      "weighted avg       0.91      0.89      0.90      2735\n",
      "\n"
     ]
    }
   ],
   "source": [
    "print(classification_report(y_test,y_pred_knn))"
   ]
  },
  {
   "cell_type": "markdown",
   "id": "f394ceea",
   "metadata": {},
   "source": [
    "### Cek Overfitting KNN"
   ]
  },
  {
   "cell_type": "code",
   "execution_count": 102,
   "id": "379f2f7f",
   "metadata": {
    "ExecuteTime": {
     "end_time": "2022-11-18T14:26:19.449645Z",
     "start_time": "2022-11-18T14:26:19.149698Z"
    }
   },
   "outputs": [],
   "source": [
    "y_pred_knn_train= classifier.predict(x_train_SMOTE)"
   ]
  },
  {
   "cell_type": "code",
   "execution_count": 103,
   "id": "ab28c63a",
   "metadata": {
    "ExecuteTime": {
     "end_time": "2022-11-18T14:26:19.465497Z",
     "start_time": "2022-11-18T14:26:19.450496Z"
    }
   },
   "outputs": [
    {
     "name": "stdout",
     "output_type": "stream",
     "text": [
      "              precision    recall  f1-score   support\n",
      "\n",
      "           0       1.00      0.93      0.96      5373\n",
      "           1       0.94      1.00      0.97      5373\n",
      "\n",
      "    accuracy                           0.96     10746\n",
      "   macro avg       0.97      0.96      0.96     10746\n",
      "weighted avg       0.97      0.96      0.96     10746\n",
      "\n"
     ]
    }
   ],
   "source": [
    "print(classification_report(y_train_SMOTE,y_pred_knn_train))"
   ]
  },
  {
   "cell_type": "markdown",
   "id": "36735869",
   "metadata": {},
   "source": [
    "## Random Forest Evaluation"
   ]
  },
  {
   "cell_type": "code",
   "execution_count": 104,
   "id": "81c656c6",
   "metadata": {
    "ExecuteTime": {
     "end_time": "2022-11-18T14:26:19.481380Z",
     "start_time": "2022-11-18T14:26:19.467495Z"
    }
   },
   "outputs": [
    {
     "name": "stdout",
     "output_type": "stream",
     "text": [
      "              precision    recall  f1-score   support\n",
      "\n",
      "           0       0.97      0.97      0.97      2277\n",
      "           1       0.83      0.84      0.84       458\n",
      "\n",
      "    accuracy                           0.95      2735\n",
      "   macro avg       0.90      0.91      0.90      2735\n",
      "weighted avg       0.95      0.95      0.95      2735\n",
      "\n"
     ]
    }
   ],
   "source": [
    "print(classification_report(y_test,y_pred_rf))"
   ]
  },
  {
   "cell_type": "markdown",
   "id": "3e826691",
   "metadata": {},
   "source": [
    "### Cek Overfitting Random Forest"
   ]
  },
  {
   "cell_type": "code",
   "execution_count": 105,
   "id": "14929957",
   "metadata": {
    "ExecuteTime": {
     "end_time": "2022-11-18T14:26:19.513376Z",
     "start_time": "2022-11-18T14:26:19.483379Z"
    }
   },
   "outputs": [],
   "source": [
    "y_pred_rf_train= classifier_rf.predict(x_train_SMOTE)"
   ]
  },
  {
   "cell_type": "code",
   "execution_count": 106,
   "id": "75d66099",
   "metadata": {
    "ExecuteTime": {
     "end_time": "2022-11-18T14:26:19.529345Z",
     "start_time": "2022-11-18T14:26:19.516378Z"
    }
   },
   "outputs": [
    {
     "name": "stdout",
     "output_type": "stream",
     "text": [
      "              precision    recall  f1-score   support\n",
      "\n",
      "           0       1.00      1.00      1.00      5373\n",
      "           1       1.00      1.00      1.00      5373\n",
      "\n",
      "    accuracy                           1.00     10746\n",
      "   macro avg       1.00      1.00      1.00     10746\n",
      "weighted avg       1.00      1.00      1.00     10746\n",
      "\n"
     ]
    }
   ],
   "source": [
    "print(classification_report(y_train_SMOTE,y_pred_rf_train))"
   ]
  },
  {
   "cell_type": "markdown",
   "id": "6cfd0ccf",
   "metadata": {},
   "source": [
    "# Hyperparameter"
   ]
  },
  {
   "cell_type": "code",
   "execution_count": 107,
   "id": "4b088d7c",
   "metadata": {
    "ExecuteTime": {
     "end_time": "2022-11-18T14:29:12.569850Z",
     "start_time": "2022-11-18T14:26:19.531344Z"
    }
   },
   "outputs": [
    {
     "name": "stdout",
     "output_type": "stream",
     "text": [
      "Best Score: 0.9817617253475379\n",
      "Best Hyperparameters: {'n_estimators': 400, 'min_samples_split': 2, 'min_samples_leaf': 1, 'max_features': 'sqrt', 'max_depth': 50, 'bootstrap': False}\n",
      "Execute Time: 173.02060174942017 seconds\n"
     ]
    }
   ],
   "source": [
    "\n",
    "start_time = time.time()\n",
    "\n",
    "# define model\n",
    "model = RandomForestClassifier(random_state=42)\n",
    "\n",
    "# define evaluation\n",
    "cv = StratifiedKFold(n_splits=5, random_state=42, shuffle=True)\n",
    "\n",
    "# define search space\n",
    "space = dict()\n",
    "space['max_features'] = ['auto', 'sqrt']\n",
    "space['n_estimators'] = [int(x) for x in range(200,1000,200)]\n",
    "space['max_depth'] = [int(x) for x in np.linspace(10, 110, num = 11)]\n",
    "space['min_samples_split']=[2, 5, 10]\n",
    "space['min_samples_leaf']=[1, 2, 4]\n",
    "space['bootstrap']=[True, False]\n",
    "\n",
    "# define search\n",
    "search = RandomizedSearchCV(model, space, n_iter=40, scoring='recall', n_jobs=-1, cv=cv, random_state=42)\n",
    "\n",
    "# execute search\n",
    "result = search.fit(x_train_SMOTE, y_train_SMOTE)\n",
    "\n",
    "# summarize result\n",
    "print('Best Score: %s' % result.best_score_)\n",
    "print('Best Hyperparameters: %s' % result.best_params_)\n",
    "print('Execute Time: %s seconds' % (time.time() - start_time))"
   ]
  },
  {
   "cell_type": "code",
   "execution_count": 108,
   "id": "2be19fd1",
   "metadata": {
    "ExecuteTime": {
     "end_time": "2022-11-18T14:29:19.032051Z",
     "start_time": "2022-11-18T14:29:12.571849Z"
    }
   },
   "outputs": [],
   "source": [
    "from sklearn.ensemble import RandomForestClassifier \n",
    "\n",
    "classifier_rf2= RandomForestClassifier(n_estimators= 400, min_samples_split= 2, min_samples_leaf= 1, max_features='sqrt', max_depth= 50, bootstrap= False )  \n",
    "classifier_rf2.fit(x_train_SMOTE, y_train_SMOTE)  \n",
    "\n",
    "#Predicting the test set result  \n",
    "y_pred_rf_hyperparameter= classifier_rf2.predict(x_test) "
   ]
  },
  {
   "cell_type": "code",
   "execution_count": 109,
   "id": "dab7d734",
   "metadata": {
    "ExecuteTime": {
     "end_time": "2022-11-18T14:29:19.047902Z",
     "start_time": "2022-11-18T14:29:19.032906Z"
    }
   },
   "outputs": [
    {
     "data": {
      "text/plain": [
       "array([0, 0, 0, ..., 0, 0, 0], dtype=int64)"
      ]
     },
     "execution_count": 109,
     "metadata": {},
     "output_type": "execute_result"
    }
   ],
   "source": [
    "y_pred_rf_hyperparameter"
   ]
  },
  {
   "cell_type": "markdown",
   "id": "9317b643",
   "metadata": {},
   "source": [
    "## Evaluation"
   ]
  },
  {
   "cell_type": "code",
   "execution_count": 110,
   "id": "26b1603d",
   "metadata": {
    "ExecuteTime": {
     "end_time": "2022-11-18T14:29:19.062906Z",
     "start_time": "2022-11-18T14:29:19.052903Z"
    }
   },
   "outputs": [
    {
     "name": "stdout",
     "output_type": "stream",
     "text": [
      "              precision    recall  f1-score   support\n",
      "\n",
      "           0       0.97      0.97      0.97      2277\n",
      "           1       0.84      0.88      0.86       458\n",
      "\n",
      "    accuracy                           0.95      2735\n",
      "   macro avg       0.91      0.92      0.91      2735\n",
      "weighted avg       0.95      0.95      0.95      2735\n",
      "\n"
     ]
    }
   ],
   "source": [
    "print(classification_report(y_test,y_pred_rf_hyperparameter))"
   ]
  },
  {
   "cell_type": "markdown",
   "id": "2570b6bd",
   "metadata": {},
   "source": [
    "# Best Model and Reasoning"
   ]
  },
  {
   "cell_type": "code",
   "execution_count": 111,
   "id": "e19f79e7",
   "metadata": {
    "ExecuteTime": {
     "end_time": "2022-11-18T14:29:19.078984Z",
     "start_time": "2022-11-18T14:29:19.065682Z"
    }
   },
   "outputs": [],
   "source": [
    "def get_simple_report(report_input,modelName):\n",
    "    report =  report_input\n",
    "    report_df=pd.DataFrame(report).transpose()\n",
    "    report_df1=report_df.iloc[[1] , :].drop(columns='support')\n",
    "    report_df1['Accuracy']=report_df['f1-score'][2]\n",
    "    report_df1['Model_Algoritm']=[modelName]\n",
    "    report_df1=report_df1.iloc[:,[4,0,1,2,3]]\n",
    "    return report_df1\n"
   ]
  },
  {
   "cell_type": "code",
   "execution_count": 112,
   "id": "9efedc40",
   "metadata": {
    "ExecuteTime": {
     "end_time": "2022-11-18T14:29:19.125403Z",
     "start_time": "2022-11-18T14:29:19.080984Z"
    }
   },
   "outputs": [],
   "source": [
    "dict_report=classification_report(y_test, y_pred_logreg, output_dict=True)\n",
    "df_logreg=get_simple_report(dict_report,'Logistic_Regression')\n",
    "\n",
    "dict_report=classification_report(y_test, y_pred_dt, output_dict=True)\n",
    "df_dt=get_simple_report(dict_report,'DecisionTree_Regressor')\n",
    "\n",
    "dict_report=classification_report(y_test, y_pred_knn, output_dict=True)\n",
    "df_knn=get_simple_report(dict_report,'KNN')\n",
    "\n",
    "dict_report=classification_report(y_test, y_pred_rf, output_dict=True)\n",
    "df_rf=get_simple_report(dict_report,'Random_Forest')\n",
    "\n",
    "dict_report=classification_report(y_test, y_pred_rf_hyperparameter, output_dict=True)\n",
    "df_rf_hyper=get_simple_report(dict_report,'Random_Forest Hyperparameter')"
   ]
  },
  {
   "cell_type": "code",
   "execution_count": 113,
   "id": "8b4a5886",
   "metadata": {
    "ExecuteTime": {
     "end_time": "2022-11-18T14:29:19.141416Z",
     "start_time": "2022-11-18T14:29:19.127401Z"
    }
   },
   "outputs": [],
   "source": [
    "#Concat two DataFrame\n",
    "compare_model=pd.concat([df_logreg,df_dt,df_knn,df_rf,df_rf_hyper], ignore_index=True)\n"
   ]
  },
  {
   "cell_type": "code",
   "execution_count": 114,
   "id": "d97c76c7",
   "metadata": {
    "ExecuteTime": {
     "end_time": "2022-11-18T14:29:19.157416Z",
     "start_time": "2022-11-18T14:29:19.143403Z"
    }
   },
   "outputs": [
    {
     "data": {
      "text/html": [
       "<div>\n",
       "<style scoped>\n",
       "    .dataframe tbody tr th:only-of-type {\n",
       "        vertical-align: middle;\n",
       "    }\n",
       "\n",
       "    .dataframe tbody tr th {\n",
       "        vertical-align: top;\n",
       "    }\n",
       "\n",
       "    .dataframe thead th {\n",
       "        text-align: right;\n",
       "    }\n",
       "</style>\n",
       "<table border=\"1\" class=\"dataframe\">\n",
       "  <thead>\n",
       "    <tr style=\"text-align: right;\">\n",
       "      <th></th>\n",
       "      <th>Model_Algoritm</th>\n",
       "      <th>precision</th>\n",
       "      <th>recall</th>\n",
       "      <th>f1-score</th>\n",
       "      <th>Accuracy</th>\n",
       "    </tr>\n",
       "  </thead>\n",
       "  <tbody>\n",
       "    <tr>\n",
       "      <th>0</th>\n",
       "      <td>Logistic_Regression</td>\n",
       "      <td>0.544704</td>\n",
       "      <td>0.864629</td>\n",
       "      <td>0.668354</td>\n",
       "      <td>0.856307</td>\n",
       "    </tr>\n",
       "    <tr>\n",
       "      <th>1</th>\n",
       "      <td>DecisionTree_Regressor</td>\n",
       "      <td>0.733198</td>\n",
       "      <td>0.786026</td>\n",
       "      <td>0.758693</td>\n",
       "      <td>0.916271</td>\n",
       "    </tr>\n",
       "    <tr>\n",
       "      <th>2</th>\n",
       "      <td>KNN</td>\n",
       "      <td>0.634146</td>\n",
       "      <td>0.851528</td>\n",
       "      <td>0.726934</td>\n",
       "      <td>0.892870</td>\n",
       "    </tr>\n",
       "    <tr>\n",
       "      <th>3</th>\n",
       "      <td>Random_Forest</td>\n",
       "      <td>0.834052</td>\n",
       "      <td>0.844978</td>\n",
       "      <td>0.839479</td>\n",
       "      <td>0.945887</td>\n",
       "    </tr>\n",
       "    <tr>\n",
       "      <th>4</th>\n",
       "      <td>Random_Forest Hyperparameter</td>\n",
       "      <td>0.840671</td>\n",
       "      <td>0.875546</td>\n",
       "      <td>0.857754</td>\n",
       "      <td>0.951371</td>\n",
       "    </tr>\n",
       "  </tbody>\n",
       "</table>\n",
       "</div>"
      ],
      "text/plain": [
       "                 Model_Algoritm  precision    recall  f1-score  Accuracy\n",
       "0           Logistic_Regression   0.544704  0.864629  0.668354  0.856307\n",
       "1        DecisionTree_Regressor   0.733198  0.786026  0.758693  0.916271\n",
       "2                           KNN   0.634146  0.851528  0.726934  0.892870\n",
       "3                 Random_Forest   0.834052  0.844978  0.839479  0.945887\n",
       "4  Random_Forest Hyperparameter   0.840671  0.875546  0.857754  0.951371"
      ]
     },
     "execution_count": 114,
     "metadata": {},
     "output_type": "execute_result"
    }
   ],
   "source": [
    "compare_model"
   ]
  },
  {
   "cell_type": "markdown",
   "id": "6e687a05",
   "metadata": {},
   "source": [
    "Based on the comparison table above, the 'RandomForestClassifier with hyperparameter' has the highest score in terms of the f1-score matrix, which is 85%. I consider f1-score more than other matrices because I want to prioritize accuracy in predicting churn/attrited rather than existing customers."
   ]
  },
  {
   "cell_type": "markdown",
   "id": "e8021884",
   "metadata": {},
   "source": [
    "With attrited customer is 1 and existing customer is 0 then because the accuracy in predicting 1(churn/attrited) is more important than predicting 0(existing) , so we don't really mind error in predicting 0(attrited) but actual 1(existing). Therefore we prioritize f1-score, where f1-score is the harmonic average of recall and precision, In addition, if you look at other matrices, the RandomForestClassifier use hyperparameter also has the highest score compared to other models with an accuracy rate of 95%, precision 83% and recall 87%. "
   ]
  },
  {
   "cell_type": "markdown",
   "id": "391b8961",
   "metadata": {},
   "source": [
    "That's the reason in choosing the RandomForestClassifier using hyperparameter as the best model."
   ]
  },
  {
   "cell_type": "markdown",
   "id": "7391dd40",
   "metadata": {},
   "source": [
    "Improve model succeeded in increasing the confusion matrix score for all parameters (accuracy, precision, recall and f1)"
   ]
  },
  {
   "cell_type": "markdown",
   "id": "e90ae727",
   "metadata": {},
   "source": [
    "## Best Model to Import BankChurn_test.csv"
   ]
  },
  {
   "cell_type": "markdown",
   "id": "4f6cd212",
   "metadata": {},
   "source": [
    "Based on BankChurn_train.csv the best model is a RandomForestClassifier using hyperparameter, we will use that model to test BankChurn_test.csv"
   ]
  },
  {
   "cell_type": "markdown",
   "id": "e43da6f0",
   "metadata": {},
   "source": [
    "### Load Data Test"
   ]
  },
  {
   "cell_type": "code",
   "execution_count": 115,
   "id": "44359a01",
   "metadata": {
    "ExecuteTime": {
     "end_time": "2022-11-18T14:29:19.173406Z",
     "start_time": "2022-11-18T14:29:19.159402Z"
    }
   },
   "outputs": [],
   "source": [
    "df_bank_test=pd.read_csv('BankChurn_test.csv', index_col=0)"
   ]
  },
  {
   "cell_type": "code",
   "execution_count": 116,
   "id": "5fa67ee9",
   "metadata": {
    "ExecuteTime": {
     "end_time": "2022-11-18T14:29:19.205500Z",
     "start_time": "2022-11-18T14:29:19.176399Z"
    }
   },
   "outputs": [
    {
     "data": {
      "text/html": [
       "<div>\n",
       "<style scoped>\n",
       "    .dataframe tbody tr th:only-of-type {\n",
       "        vertical-align: middle;\n",
       "    }\n",
       "\n",
       "    .dataframe tbody tr th {\n",
       "        vertical-align: top;\n",
       "    }\n",
       "\n",
       "    .dataframe thead th {\n",
       "        text-align: right;\n",
       "    }\n",
       "</style>\n",
       "<table border=\"1\" class=\"dataframe\">\n",
       "  <thead>\n",
       "    <tr style=\"text-align: right;\">\n",
       "      <th></th>\n",
       "      <th>Customer_Age</th>\n",
       "      <th>Gender</th>\n",
       "      <th>Dependent_count</th>\n",
       "      <th>Education_Level</th>\n",
       "      <th>Marital_Status</th>\n",
       "      <th>Income_Category</th>\n",
       "      <th>Card_Category</th>\n",
       "      <th>Months_on_book</th>\n",
       "      <th>Total_Relationship_Count</th>\n",
       "      <th>Months_Inactive_12_mon</th>\n",
       "      <th>Contacts_Count_12_mon</th>\n",
       "      <th>Credit_Limit</th>\n",
       "      <th>Total_Revolving_Bal</th>\n",
       "      <th>Avg_Open_To_Buy</th>\n",
       "      <th>Total_Amt_Chng_Q4_Q1</th>\n",
       "      <th>Total_Trans_Amt</th>\n",
       "      <th>Total_Trans_Ct</th>\n",
       "      <th>Total_Ct_Chng_Q4_Q1</th>\n",
       "      <th>Avg_Utilization_Ratio</th>\n",
       "    </tr>\n",
       "    <tr>\n",
       "      <th>CLIENTNUM</th>\n",
       "      <th></th>\n",
       "      <th></th>\n",
       "      <th></th>\n",
       "      <th></th>\n",
       "      <th></th>\n",
       "      <th></th>\n",
       "      <th></th>\n",
       "      <th></th>\n",
       "      <th></th>\n",
       "      <th></th>\n",
       "      <th></th>\n",
       "      <th></th>\n",
       "      <th></th>\n",
       "      <th></th>\n",
       "      <th></th>\n",
       "      <th></th>\n",
       "      <th></th>\n",
       "      <th></th>\n",
       "      <th></th>\n",
       "    </tr>\n",
       "  </thead>\n",
       "  <tbody>\n",
       "    <tr>\n",
       "      <th>716470683</th>\n",
       "      <td>48</td>\n",
       "      <td>F</td>\n",
       "      <td>3</td>\n",
       "      <td>Post-Graduate</td>\n",
       "      <td>Married</td>\n",
       "      <td>Unknown</td>\n",
       "      <td>Blue</td>\n",
       "      <td>36</td>\n",
       "      <td>3</td>\n",
       "      <td>1</td>\n",
       "      <td>3</td>\n",
       "      <td>20631.0</td>\n",
       "      <td>2048</td>\n",
       "      <td>18583.0</td>\n",
       "      <td>0.676</td>\n",
       "      <td>4827</td>\n",
       "      <td>77</td>\n",
       "      <td>0.711</td>\n",
       "      <td>0.099</td>\n",
       "    </tr>\n",
       "    <tr>\n",
       "      <th>720328983</th>\n",
       "      <td>52</td>\n",
       "      <td>F</td>\n",
       "      <td>5</td>\n",
       "      <td>Unknown</td>\n",
       "      <td>Married</td>\n",
       "      <td>Less than $40K</td>\n",
       "      <td>Blue</td>\n",
       "      <td>36</td>\n",
       "      <td>4</td>\n",
       "      <td>3</td>\n",
       "      <td>3</td>\n",
       "      <td>9611.0</td>\n",
       "      <td>0</td>\n",
       "      <td>9611.0</td>\n",
       "      <td>0.840</td>\n",
       "      <td>7636</td>\n",
       "      <td>64</td>\n",
       "      <td>0.829</td>\n",
       "      <td>0.000</td>\n",
       "    </tr>\n",
       "    <tr>\n",
       "      <th>716390958</th>\n",
       "      <td>45</td>\n",
       "      <td>M</td>\n",
       "      <td>4</td>\n",
       "      <td>Unknown</td>\n",
       "      <td>Married</td>\n",
       "      <td>$120K +</td>\n",
       "      <td>Blue</td>\n",
       "      <td>31</td>\n",
       "      <td>1</td>\n",
       "      <td>4</td>\n",
       "      <td>3</td>\n",
       "      <td>26107.0</td>\n",
       "      <td>0</td>\n",
       "      <td>26107.0</td>\n",
       "      <td>0.550</td>\n",
       "      <td>1697</td>\n",
       "      <td>47</td>\n",
       "      <td>0.424</td>\n",
       "      <td>0.000</td>\n",
       "    </tr>\n",
       "    <tr>\n",
       "      <th>708741633</th>\n",
       "      <td>52</td>\n",
       "      <td>M</td>\n",
       "      <td>4</td>\n",
       "      <td>High School</td>\n",
       "      <td>Married</td>\n",
       "      <td>$60K - $80K</td>\n",
       "      <td>Blue</td>\n",
       "      <td>44</td>\n",
       "      <td>6</td>\n",
       "      <td>3</td>\n",
       "      <td>4</td>\n",
       "      <td>4153.0</td>\n",
       "      <td>0</td>\n",
       "      <td>4153.0</td>\n",
       "      <td>0.434</td>\n",
       "      <td>1771</td>\n",
       "      <td>41</td>\n",
       "      <td>0.367</td>\n",
       "      <td>0.000</td>\n",
       "    </tr>\n",
       "    <tr>\n",
       "      <th>715492983</th>\n",
       "      <td>40</td>\n",
       "      <td>M</td>\n",
       "      <td>3</td>\n",
       "      <td>Post-Graduate</td>\n",
       "      <td>Married</td>\n",
       "      <td>$120K +</td>\n",
       "      <td>Blue</td>\n",
       "      <td>36</td>\n",
       "      <td>4</td>\n",
       "      <td>2</td>\n",
       "      <td>4</td>\n",
       "      <td>7464.0</td>\n",
       "      <td>2517</td>\n",
       "      <td>4947.0</td>\n",
       "      <td>0.900</td>\n",
       "      <td>4348</td>\n",
       "      <td>62</td>\n",
       "      <td>0.879</td>\n",
       "      <td>0.337</td>\n",
       "    </tr>\n",
       "    <tr>\n",
       "      <th>...</th>\n",
       "      <td>...</td>\n",
       "      <td>...</td>\n",
       "      <td>...</td>\n",
       "      <td>...</td>\n",
       "      <td>...</td>\n",
       "      <td>...</td>\n",
       "      <td>...</td>\n",
       "      <td>...</td>\n",
       "      <td>...</td>\n",
       "      <td>...</td>\n",
       "      <td>...</td>\n",
       "      <td>...</td>\n",
       "      <td>...</td>\n",
       "      <td>...</td>\n",
       "      <td>...</td>\n",
       "      <td>...</td>\n",
       "      <td>...</td>\n",
       "      <td>...</td>\n",
       "      <td>...</td>\n",
       "    </tr>\n",
       "    <tr>\n",
       "      <th>711871758</th>\n",
       "      <td>30</td>\n",
       "      <td>F</td>\n",
       "      <td>1</td>\n",
       "      <td>Graduate</td>\n",
       "      <td>Married</td>\n",
       "      <td>Less than $40K</td>\n",
       "      <td>Blue</td>\n",
       "      <td>36</td>\n",
       "      <td>2</td>\n",
       "      <td>2</td>\n",
       "      <td>3</td>\n",
       "      <td>2905.0</td>\n",
       "      <td>2517</td>\n",
       "      <td>388.0</td>\n",
       "      <td>0.725</td>\n",
       "      <td>2487</td>\n",
       "      <td>39</td>\n",
       "      <td>0.393</td>\n",
       "      <td>0.866</td>\n",
       "    </tr>\n",
       "    <tr>\n",
       "      <th>780206958</th>\n",
       "      <td>49</td>\n",
       "      <td>M</td>\n",
       "      <td>4</td>\n",
       "      <td>Graduate</td>\n",
       "      <td>Married</td>\n",
       "      <td>$60K - $80K</td>\n",
       "      <td>Blue</td>\n",
       "      <td>39</td>\n",
       "      <td>3</td>\n",
       "      <td>2</td>\n",
       "      <td>2</td>\n",
       "      <td>5937.0</td>\n",
       "      <td>2120</td>\n",
       "      <td>3817.0</td>\n",
       "      <td>0.654</td>\n",
       "      <td>4228</td>\n",
       "      <td>70</td>\n",
       "      <td>0.750</td>\n",
       "      <td>0.357</td>\n",
       "    </tr>\n",
       "    <tr>\n",
       "      <th>712222758</th>\n",
       "      <td>38</td>\n",
       "      <td>F</td>\n",
       "      <td>3</td>\n",
       "      <td>Graduate</td>\n",
       "      <td>Married</td>\n",
       "      <td>Less than $40K</td>\n",
       "      <td>Blue</td>\n",
       "      <td>36</td>\n",
       "      <td>3</td>\n",
       "      <td>2</td>\n",
       "      <td>3</td>\n",
       "      <td>2300.0</td>\n",
       "      <td>0</td>\n",
       "      <td>2300.0</td>\n",
       "      <td>0.703</td>\n",
       "      <td>2500</td>\n",
       "      <td>47</td>\n",
       "      <td>0.119</td>\n",
       "      <td>0.000</td>\n",
       "    </tr>\n",
       "    <tr>\n",
       "      <th>780653208</th>\n",
       "      <td>47</td>\n",
       "      <td>F</td>\n",
       "      <td>3</td>\n",
       "      <td>College</td>\n",
       "      <td>Married</td>\n",
       "      <td>Less than $40K</td>\n",
       "      <td>Blue</td>\n",
       "      <td>36</td>\n",
       "      <td>5</td>\n",
       "      <td>4</td>\n",
       "      <td>2</td>\n",
       "      <td>3300.0</td>\n",
       "      <td>2517</td>\n",
       "      <td>783.0</td>\n",
       "      <td>0.940</td>\n",
       "      <td>3784</td>\n",
       "      <td>55</td>\n",
       "      <td>1.115</td>\n",
       "      <td>0.763</td>\n",
       "    </tr>\n",
       "    <tr>\n",
       "      <th>778968408</th>\n",
       "      <td>39</td>\n",
       "      <td>M</td>\n",
       "      <td>2</td>\n",
       "      <td>Doctorate</td>\n",
       "      <td>Single</td>\n",
       "      <td>$60K - $80K</td>\n",
       "      <td>Blue</td>\n",
       "      <td>27</td>\n",
       "      <td>4</td>\n",
       "      <td>1</td>\n",
       "      <td>3</td>\n",
       "      <td>5341.0</td>\n",
       "      <td>0</td>\n",
       "      <td>5341.0</td>\n",
       "      <td>0.771</td>\n",
       "      <td>1955</td>\n",
       "      <td>47</td>\n",
       "      <td>0.808</td>\n",
       "      <td>0.000</td>\n",
       "    </tr>\n",
       "  </tbody>\n",
       "</table>\n",
       "<p>1013 rows × 19 columns</p>\n",
       "</div>"
      ],
      "text/plain": [
       "           Customer_Age Gender  Dependent_count Education_Level  \\\n",
       "CLIENTNUM                                                         \n",
       "716470683            48      F                3   Post-Graduate   \n",
       "720328983            52      F                5         Unknown   \n",
       "716390958            45      M                4         Unknown   \n",
       "708741633            52      M                4     High School   \n",
       "715492983            40      M                3   Post-Graduate   \n",
       "...                 ...    ...              ...             ...   \n",
       "711871758            30      F                1        Graduate   \n",
       "780206958            49      M                4        Graduate   \n",
       "712222758            38      F                3        Graduate   \n",
       "780653208            47      F                3         College   \n",
       "778968408            39      M                2       Doctorate   \n",
       "\n",
       "          Marital_Status Income_Category Card_Category  Months_on_book  \\\n",
       "CLIENTNUM                                                                \n",
       "716470683        Married         Unknown          Blue              36   \n",
       "720328983        Married  Less than $40K          Blue              36   \n",
       "716390958        Married         $120K +          Blue              31   \n",
       "708741633        Married     $60K - $80K          Blue              44   \n",
       "715492983        Married         $120K +          Blue              36   \n",
       "...                  ...             ...           ...             ...   \n",
       "711871758        Married  Less than $40K          Blue              36   \n",
       "780206958        Married     $60K - $80K          Blue              39   \n",
       "712222758        Married  Less than $40K          Blue              36   \n",
       "780653208        Married  Less than $40K          Blue              36   \n",
       "778968408         Single     $60K - $80K          Blue              27   \n",
       "\n",
       "           Total_Relationship_Count  Months_Inactive_12_mon  \\\n",
       "CLIENTNUM                                                     \n",
       "716470683                         3                       1   \n",
       "720328983                         4                       3   \n",
       "716390958                         1                       4   \n",
       "708741633                         6                       3   \n",
       "715492983                         4                       2   \n",
       "...                             ...                     ...   \n",
       "711871758                         2                       2   \n",
       "780206958                         3                       2   \n",
       "712222758                         3                       2   \n",
       "780653208                         5                       4   \n",
       "778968408                         4                       1   \n",
       "\n",
       "           Contacts_Count_12_mon  Credit_Limit  Total_Revolving_Bal  \\\n",
       "CLIENTNUM                                                             \n",
       "716470683                      3       20631.0                 2048   \n",
       "720328983                      3        9611.0                    0   \n",
       "716390958                      3       26107.0                    0   \n",
       "708741633                      4        4153.0                    0   \n",
       "715492983                      4        7464.0                 2517   \n",
       "...                          ...           ...                  ...   \n",
       "711871758                      3        2905.0                 2517   \n",
       "780206958                      2        5937.0                 2120   \n",
       "712222758                      3        2300.0                    0   \n",
       "780653208                      2        3300.0                 2517   \n",
       "778968408                      3        5341.0                    0   \n",
       "\n",
       "           Avg_Open_To_Buy  Total_Amt_Chng_Q4_Q1  Total_Trans_Amt  \\\n",
       "CLIENTNUM                                                           \n",
       "716470683          18583.0                 0.676             4827   \n",
       "720328983           9611.0                 0.840             7636   \n",
       "716390958          26107.0                 0.550             1697   \n",
       "708741633           4153.0                 0.434             1771   \n",
       "715492983           4947.0                 0.900             4348   \n",
       "...                    ...                   ...              ...   \n",
       "711871758            388.0                 0.725             2487   \n",
       "780206958           3817.0                 0.654             4228   \n",
       "712222758           2300.0                 0.703             2500   \n",
       "780653208            783.0                 0.940             3784   \n",
       "778968408           5341.0                 0.771             1955   \n",
       "\n",
       "           Total_Trans_Ct  Total_Ct_Chng_Q4_Q1  Avg_Utilization_Ratio  \n",
       "CLIENTNUM                                                              \n",
       "716470683              77                0.711                  0.099  \n",
       "720328983              64                0.829                  0.000  \n",
       "716390958              47                0.424                  0.000  \n",
       "708741633              41                0.367                  0.000  \n",
       "715492983              62                0.879                  0.337  \n",
       "...                   ...                  ...                    ...  \n",
       "711871758              39                0.393                  0.866  \n",
       "780206958              70                0.750                  0.357  \n",
       "712222758              47                0.119                  0.000  \n",
       "780653208              55                1.115                  0.763  \n",
       "778968408              47                0.808                  0.000  \n",
       "\n",
       "[1013 rows x 19 columns]"
      ]
     },
     "execution_count": 116,
     "metadata": {},
     "output_type": "execute_result"
    }
   ],
   "source": [
    "df_bank_test"
   ]
  },
  {
   "cell_type": "markdown",
   "id": "020f37c8",
   "metadata": {},
   "source": [
    "### EDA"
   ]
  },
  {
   "cell_type": "code",
   "execution_count": 117,
   "id": "9d57283d",
   "metadata": {
    "ExecuteTime": {
     "end_time": "2022-11-18T14:29:19.237422Z",
     "start_time": "2022-11-18T14:29:19.207400Z"
    }
   },
   "outputs": [
    {
     "data": {
      "text/html": [
       "<div>\n",
       "<style scoped>\n",
       "    .dataframe tbody tr th:only-of-type {\n",
       "        vertical-align: middle;\n",
       "    }\n",
       "\n",
       "    .dataframe tbody tr th {\n",
       "        vertical-align: top;\n",
       "    }\n",
       "\n",
       "    .dataframe thead th {\n",
       "        text-align: right;\n",
       "    }\n",
       "</style>\n",
       "<table border=\"1\" class=\"dataframe\">\n",
       "  <thead>\n",
       "    <tr style=\"text-align: right;\">\n",
       "      <th></th>\n",
       "      <th>Customer_Age</th>\n",
       "      <th>Gender</th>\n",
       "      <th>Dependent_count</th>\n",
       "      <th>Education_Level</th>\n",
       "      <th>Marital_Status</th>\n",
       "      <th>Income_Category</th>\n",
       "      <th>Card_Category</th>\n",
       "      <th>Months_on_book</th>\n",
       "      <th>Total_Relationship_Count</th>\n",
       "      <th>Months_Inactive_12_mon</th>\n",
       "      <th>Contacts_Count_12_mon</th>\n",
       "      <th>Credit_Limit</th>\n",
       "      <th>Total_Revolving_Bal</th>\n",
       "      <th>Avg_Open_To_Buy</th>\n",
       "      <th>Total_Amt_Chng_Q4_Q1</th>\n",
       "      <th>Total_Trans_Amt</th>\n",
       "      <th>Total_Trans_Ct</th>\n",
       "      <th>Total_Ct_Chng_Q4_Q1</th>\n",
       "      <th>Avg_Utilization_Ratio</th>\n",
       "    </tr>\n",
       "    <tr>\n",
       "      <th>CLIENTNUM</th>\n",
       "      <th></th>\n",
       "      <th></th>\n",
       "      <th></th>\n",
       "      <th></th>\n",
       "      <th></th>\n",
       "      <th></th>\n",
       "      <th></th>\n",
       "      <th></th>\n",
       "      <th></th>\n",
       "      <th></th>\n",
       "      <th></th>\n",
       "      <th></th>\n",
       "      <th></th>\n",
       "      <th></th>\n",
       "      <th></th>\n",
       "      <th></th>\n",
       "      <th></th>\n",
       "      <th></th>\n",
       "      <th></th>\n",
       "    </tr>\n",
       "  </thead>\n",
       "  <tbody>\n",
       "    <tr>\n",
       "      <th>716470683</th>\n",
       "      <td>48</td>\n",
       "      <td>F</td>\n",
       "      <td>3</td>\n",
       "      <td>Post-Graduate</td>\n",
       "      <td>Married</td>\n",
       "      <td>Unknown</td>\n",
       "      <td>Blue</td>\n",
       "      <td>36</td>\n",
       "      <td>3</td>\n",
       "      <td>1</td>\n",
       "      <td>3</td>\n",
       "      <td>20631.0</td>\n",
       "      <td>2048</td>\n",
       "      <td>18583.0</td>\n",
       "      <td>0.676</td>\n",
       "      <td>4827</td>\n",
       "      <td>77</td>\n",
       "      <td>0.711</td>\n",
       "      <td>0.099</td>\n",
       "    </tr>\n",
       "    <tr>\n",
       "      <th>720328983</th>\n",
       "      <td>52</td>\n",
       "      <td>F</td>\n",
       "      <td>5</td>\n",
       "      <td>Unknown</td>\n",
       "      <td>Married</td>\n",
       "      <td>Less than $40K</td>\n",
       "      <td>Blue</td>\n",
       "      <td>36</td>\n",
       "      <td>4</td>\n",
       "      <td>3</td>\n",
       "      <td>3</td>\n",
       "      <td>9611.0</td>\n",
       "      <td>0</td>\n",
       "      <td>9611.0</td>\n",
       "      <td>0.840</td>\n",
       "      <td>7636</td>\n",
       "      <td>64</td>\n",
       "      <td>0.829</td>\n",
       "      <td>0.000</td>\n",
       "    </tr>\n",
       "    <tr>\n",
       "      <th>716390958</th>\n",
       "      <td>45</td>\n",
       "      <td>M</td>\n",
       "      <td>4</td>\n",
       "      <td>Unknown</td>\n",
       "      <td>Married</td>\n",
       "      <td>$120K +</td>\n",
       "      <td>Blue</td>\n",
       "      <td>31</td>\n",
       "      <td>1</td>\n",
       "      <td>4</td>\n",
       "      <td>3</td>\n",
       "      <td>26107.0</td>\n",
       "      <td>0</td>\n",
       "      <td>26107.0</td>\n",
       "      <td>0.550</td>\n",
       "      <td>1697</td>\n",
       "      <td>47</td>\n",
       "      <td>0.424</td>\n",
       "      <td>0.000</td>\n",
       "    </tr>\n",
       "    <tr>\n",
       "      <th>708741633</th>\n",
       "      <td>52</td>\n",
       "      <td>M</td>\n",
       "      <td>4</td>\n",
       "      <td>High School</td>\n",
       "      <td>Married</td>\n",
       "      <td>$60K - $80K</td>\n",
       "      <td>Blue</td>\n",
       "      <td>44</td>\n",
       "      <td>6</td>\n",
       "      <td>3</td>\n",
       "      <td>4</td>\n",
       "      <td>4153.0</td>\n",
       "      <td>0</td>\n",
       "      <td>4153.0</td>\n",
       "      <td>0.434</td>\n",
       "      <td>1771</td>\n",
       "      <td>41</td>\n",
       "      <td>0.367</td>\n",
       "      <td>0.000</td>\n",
       "    </tr>\n",
       "    <tr>\n",
       "      <th>715492983</th>\n",
       "      <td>40</td>\n",
       "      <td>M</td>\n",
       "      <td>3</td>\n",
       "      <td>Post-Graduate</td>\n",
       "      <td>Married</td>\n",
       "      <td>$120K +</td>\n",
       "      <td>Blue</td>\n",
       "      <td>36</td>\n",
       "      <td>4</td>\n",
       "      <td>2</td>\n",
       "      <td>4</td>\n",
       "      <td>7464.0</td>\n",
       "      <td>2517</td>\n",
       "      <td>4947.0</td>\n",
       "      <td>0.900</td>\n",
       "      <td>4348</td>\n",
       "      <td>62</td>\n",
       "      <td>0.879</td>\n",
       "      <td>0.337</td>\n",
       "    </tr>\n",
       "  </tbody>\n",
       "</table>\n",
       "</div>"
      ],
      "text/plain": [
       "           Customer_Age Gender  Dependent_count Education_Level  \\\n",
       "CLIENTNUM                                                         \n",
       "716470683            48      F                3   Post-Graduate   \n",
       "720328983            52      F                5         Unknown   \n",
       "716390958            45      M                4         Unknown   \n",
       "708741633            52      M                4     High School   \n",
       "715492983            40      M                3   Post-Graduate   \n",
       "\n",
       "          Marital_Status Income_Category Card_Category  Months_on_book  \\\n",
       "CLIENTNUM                                                                \n",
       "716470683        Married         Unknown          Blue              36   \n",
       "720328983        Married  Less than $40K          Blue              36   \n",
       "716390958        Married         $120K +          Blue              31   \n",
       "708741633        Married     $60K - $80K          Blue              44   \n",
       "715492983        Married         $120K +          Blue              36   \n",
       "\n",
       "           Total_Relationship_Count  Months_Inactive_12_mon  \\\n",
       "CLIENTNUM                                                     \n",
       "716470683                         3                       1   \n",
       "720328983                         4                       3   \n",
       "716390958                         1                       4   \n",
       "708741633                         6                       3   \n",
       "715492983                         4                       2   \n",
       "\n",
       "           Contacts_Count_12_mon  Credit_Limit  Total_Revolving_Bal  \\\n",
       "CLIENTNUM                                                             \n",
       "716470683                      3       20631.0                 2048   \n",
       "720328983                      3        9611.0                    0   \n",
       "716390958                      3       26107.0                    0   \n",
       "708741633                      4        4153.0                    0   \n",
       "715492983                      4        7464.0                 2517   \n",
       "\n",
       "           Avg_Open_To_Buy  Total_Amt_Chng_Q4_Q1  Total_Trans_Amt  \\\n",
       "CLIENTNUM                                                           \n",
       "716470683          18583.0                 0.676             4827   \n",
       "720328983           9611.0                 0.840             7636   \n",
       "716390958          26107.0                 0.550             1697   \n",
       "708741633           4153.0                 0.434             1771   \n",
       "715492983           4947.0                 0.900             4348   \n",
       "\n",
       "           Total_Trans_Ct  Total_Ct_Chng_Q4_Q1  Avg_Utilization_Ratio  \n",
       "CLIENTNUM                                                              \n",
       "716470683              77                0.711                  0.099  \n",
       "720328983              64                0.829                  0.000  \n",
       "716390958              47                0.424                  0.000  \n",
       "708741633              41                0.367                  0.000  \n",
       "715492983              62                0.879                  0.337  "
      ]
     },
     "execution_count": 117,
     "metadata": {},
     "output_type": "execute_result"
    }
   ],
   "source": [
    "df_bank_test.head()"
   ]
  },
  {
   "cell_type": "code",
   "execution_count": 118,
   "id": "0a7ddd77",
   "metadata": {
    "ExecuteTime": {
     "end_time": "2022-11-18T14:29:19.252781Z",
     "start_time": "2022-11-18T14:29:19.240505Z"
    }
   },
   "outputs": [
    {
     "name": "stdout",
     "output_type": "stream",
     "text": [
      "<class 'pandas.core.frame.DataFrame'>\n",
      "Int64Index: 1013 entries, 716470683 to 778968408\n",
      "Data columns (total 19 columns):\n",
      " #   Column                    Non-Null Count  Dtype  \n",
      "---  ------                    --------------  -----  \n",
      " 0   Customer_Age              1013 non-null   int64  \n",
      " 1   Gender                    1013 non-null   object \n",
      " 2   Dependent_count           1013 non-null   int64  \n",
      " 3   Education_Level           1013 non-null   object \n",
      " 4   Marital_Status            1013 non-null   object \n",
      " 5   Income_Category           1013 non-null   object \n",
      " 6   Card_Category             1013 non-null   object \n",
      " 7   Months_on_book            1013 non-null   int64  \n",
      " 8   Total_Relationship_Count  1013 non-null   int64  \n",
      " 9   Months_Inactive_12_mon    1013 non-null   int64  \n",
      " 10  Contacts_Count_12_mon     1013 non-null   int64  \n",
      " 11  Credit_Limit              1013 non-null   float64\n",
      " 12  Total_Revolving_Bal       1013 non-null   int64  \n",
      " 13  Avg_Open_To_Buy           1013 non-null   float64\n",
      " 14  Total_Amt_Chng_Q4_Q1      1013 non-null   float64\n",
      " 15  Total_Trans_Amt           1013 non-null   int64  \n",
      " 16  Total_Trans_Ct            1013 non-null   int64  \n",
      " 17  Total_Ct_Chng_Q4_Q1       1013 non-null   float64\n",
      " 18  Avg_Utilization_Ratio     1013 non-null   float64\n",
      "dtypes: float64(5), int64(9), object(5)\n",
      "memory usage: 158.3+ KB\n"
     ]
    }
   ],
   "source": [
    "df_bank_test.info()"
   ]
  },
  {
   "cell_type": "code",
   "execution_count": 119,
   "id": "10d6f3da",
   "metadata": {
    "ExecuteTime": {
     "end_time": "2022-11-18T14:29:19.284783Z",
     "start_time": "2022-11-18T14:29:19.254780Z"
    }
   },
   "outputs": [
    {
     "data": {
      "text/html": [
       "<div>\n",
       "<style scoped>\n",
       "    .dataframe tbody tr th:only-of-type {\n",
       "        vertical-align: middle;\n",
       "    }\n",
       "\n",
       "    .dataframe tbody tr th {\n",
       "        vertical-align: top;\n",
       "    }\n",
       "\n",
       "    .dataframe thead th {\n",
       "        text-align: right;\n",
       "    }\n",
       "</style>\n",
       "<table border=\"1\" class=\"dataframe\">\n",
       "  <thead>\n",
       "    <tr style=\"text-align: right;\">\n",
       "      <th></th>\n",
       "      <th>Customer_Age</th>\n",
       "      <th>Dependent_count</th>\n",
       "      <th>Months_on_book</th>\n",
       "      <th>Total_Relationship_Count</th>\n",
       "      <th>Months_Inactive_12_mon</th>\n",
       "      <th>Contacts_Count_12_mon</th>\n",
       "      <th>Credit_Limit</th>\n",
       "      <th>Total_Revolving_Bal</th>\n",
       "      <th>Avg_Open_To_Buy</th>\n",
       "      <th>Total_Amt_Chng_Q4_Q1</th>\n",
       "      <th>Total_Trans_Amt</th>\n",
       "      <th>Total_Trans_Ct</th>\n",
       "      <th>Total_Ct_Chng_Q4_Q1</th>\n",
       "      <th>Avg_Utilization_Ratio</th>\n",
       "    </tr>\n",
       "  </thead>\n",
       "  <tbody>\n",
       "    <tr>\n",
       "      <th>count</th>\n",
       "      <td>1013.000000</td>\n",
       "      <td>1013.000000</td>\n",
       "      <td>1013.000000</td>\n",
       "      <td>1013.000000</td>\n",
       "      <td>1013.000000</td>\n",
       "      <td>1013.000000</td>\n",
       "      <td>1013.000000</td>\n",
       "      <td>1013.000000</td>\n",
       "      <td>1013.000000</td>\n",
       "      <td>1013.000000</td>\n",
       "      <td>1013.000000</td>\n",
       "      <td>1013.000000</td>\n",
       "      <td>1013.000000</td>\n",
       "      <td>1013.000000</td>\n",
       "    </tr>\n",
       "    <tr>\n",
       "      <th>mean</th>\n",
       "      <td>46.462981</td>\n",
       "      <td>2.374136</td>\n",
       "      <td>36.180652</td>\n",
       "      <td>3.816387</td>\n",
       "      <td>2.387957</td>\n",
       "      <td>2.468904</td>\n",
       "      <td>8392.665844</td>\n",
       "      <td>1155.677196</td>\n",
       "      <td>7236.988648</td>\n",
       "      <td>0.751739</td>\n",
       "      <td>4392.505429</td>\n",
       "      <td>64.475814</td>\n",
       "      <td>0.711814</td>\n",
       "      <td>0.274281</td>\n",
       "    </tr>\n",
       "    <tr>\n",
       "      <th>std</th>\n",
       "      <td>8.048265</td>\n",
       "      <td>1.328913</td>\n",
       "      <td>7.779822</td>\n",
       "      <td>1.519910</td>\n",
       "      <td>1.022732</td>\n",
       "      <td>1.089054</td>\n",
       "      <td>8610.892822</td>\n",
       "      <td>810.023957</td>\n",
       "      <td>8614.131611</td>\n",
       "      <td>0.209256</td>\n",
       "      <td>3454.691447</td>\n",
       "      <td>23.241656</td>\n",
       "      <td>0.243204</td>\n",
       "      <td>0.276825</td>\n",
       "    </tr>\n",
       "    <tr>\n",
       "      <th>min</th>\n",
       "      <td>26.000000</td>\n",
       "      <td>0.000000</td>\n",
       "      <td>13.000000</td>\n",
       "      <td>1.000000</td>\n",
       "      <td>0.000000</td>\n",
       "      <td>0.000000</td>\n",
       "      <td>1438.300000</td>\n",
       "      <td>0.000000</td>\n",
       "      <td>36.000000</td>\n",
       "      <td>0.176000</td>\n",
       "      <td>597.000000</td>\n",
       "      <td>14.000000</td>\n",
       "      <td>0.107000</td>\n",
       "      <td>0.000000</td>\n",
       "    </tr>\n",
       "    <tr>\n",
       "      <th>25%</th>\n",
       "      <td>41.000000</td>\n",
       "      <td>1.000000</td>\n",
       "      <td>32.000000</td>\n",
       "      <td>3.000000</td>\n",
       "      <td>2.000000</td>\n",
       "      <td>2.000000</td>\n",
       "      <td>2490.000000</td>\n",
       "      <td>350.000000</td>\n",
       "      <td>1298.000000</td>\n",
       "      <td>0.626000</td>\n",
       "      <td>2107.000000</td>\n",
       "      <td>45.000000</td>\n",
       "      <td>0.568000</td>\n",
       "      <td>0.022000</td>\n",
       "    </tr>\n",
       "    <tr>\n",
       "      <th>50%</th>\n",
       "      <td>46.000000</td>\n",
       "      <td>2.000000</td>\n",
       "      <td>36.000000</td>\n",
       "      <td>4.000000</td>\n",
       "      <td>2.000000</td>\n",
       "      <td>2.000000</td>\n",
       "      <td>4708.000000</td>\n",
       "      <td>1279.000000</td>\n",
       "      <td>3657.000000</td>\n",
       "      <td>0.733000</td>\n",
       "      <td>3934.000000</td>\n",
       "      <td>67.000000</td>\n",
       "      <td>0.711000</td>\n",
       "      <td>0.172000</td>\n",
       "    </tr>\n",
       "    <tr>\n",
       "      <th>75%</th>\n",
       "      <td>52.000000</td>\n",
       "      <td>3.000000</td>\n",
       "      <td>40.000000</td>\n",
       "      <td>5.000000</td>\n",
       "      <td>3.000000</td>\n",
       "      <td>3.000000</td>\n",
       "      <td>11109.000000</td>\n",
       "      <td>1759.000000</td>\n",
       "      <td>9734.000000</td>\n",
       "      <td>0.850000</td>\n",
       "      <td>4714.000000</td>\n",
       "      <td>80.000000</td>\n",
       "      <td>0.818000</td>\n",
       "      <td>0.498000</td>\n",
       "    </tr>\n",
       "    <tr>\n",
       "      <th>max</th>\n",
       "      <td>65.000000</td>\n",
       "      <td>5.000000</td>\n",
       "      <td>56.000000</td>\n",
       "      <td>6.000000</td>\n",
       "      <td>6.000000</td>\n",
       "      <td>6.000000</td>\n",
       "      <td>34516.000000</td>\n",
       "      <td>2517.000000</td>\n",
       "      <td>34516.000000</td>\n",
       "      <td>2.023000</td>\n",
       "      <td>17119.000000</td>\n",
       "      <td>128.000000</td>\n",
       "      <td>3.000000</td>\n",
       "      <td>0.985000</td>\n",
       "    </tr>\n",
       "  </tbody>\n",
       "</table>\n",
       "</div>"
      ],
      "text/plain": [
       "       Customer_Age  Dependent_count  Months_on_book  \\\n",
       "count   1013.000000      1013.000000     1013.000000   \n",
       "mean      46.462981         2.374136       36.180652   \n",
       "std        8.048265         1.328913        7.779822   \n",
       "min       26.000000         0.000000       13.000000   \n",
       "25%       41.000000         1.000000       32.000000   \n",
       "50%       46.000000         2.000000       36.000000   \n",
       "75%       52.000000         3.000000       40.000000   \n",
       "max       65.000000         5.000000       56.000000   \n",
       "\n",
       "       Total_Relationship_Count  Months_Inactive_12_mon  \\\n",
       "count               1013.000000             1013.000000   \n",
       "mean                   3.816387                2.387957   \n",
       "std                    1.519910                1.022732   \n",
       "min                    1.000000                0.000000   \n",
       "25%                    3.000000                2.000000   \n",
       "50%                    4.000000                2.000000   \n",
       "75%                    5.000000                3.000000   \n",
       "max                    6.000000                6.000000   \n",
       "\n",
       "       Contacts_Count_12_mon  Credit_Limit  Total_Revolving_Bal  \\\n",
       "count            1013.000000   1013.000000          1013.000000   \n",
       "mean                2.468904   8392.665844          1155.677196   \n",
       "std                 1.089054   8610.892822           810.023957   \n",
       "min                 0.000000   1438.300000             0.000000   \n",
       "25%                 2.000000   2490.000000           350.000000   \n",
       "50%                 2.000000   4708.000000          1279.000000   \n",
       "75%                 3.000000  11109.000000          1759.000000   \n",
       "max                 6.000000  34516.000000          2517.000000   \n",
       "\n",
       "       Avg_Open_To_Buy  Total_Amt_Chng_Q4_Q1  Total_Trans_Amt  Total_Trans_Ct  \\\n",
       "count      1013.000000           1013.000000      1013.000000     1013.000000   \n",
       "mean       7236.988648              0.751739      4392.505429       64.475814   \n",
       "std        8614.131611              0.209256      3454.691447       23.241656   \n",
       "min          36.000000              0.176000       597.000000       14.000000   \n",
       "25%        1298.000000              0.626000      2107.000000       45.000000   \n",
       "50%        3657.000000              0.733000      3934.000000       67.000000   \n",
       "75%        9734.000000              0.850000      4714.000000       80.000000   \n",
       "max       34516.000000              2.023000     17119.000000      128.000000   \n",
       "\n",
       "       Total_Ct_Chng_Q4_Q1  Avg_Utilization_Ratio  \n",
       "count          1013.000000            1013.000000  \n",
       "mean              0.711814               0.274281  \n",
       "std               0.243204               0.276825  \n",
       "min               0.107000               0.000000  \n",
       "25%               0.568000               0.022000  \n",
       "50%               0.711000               0.172000  \n",
       "75%               0.818000               0.498000  \n",
       "max               3.000000               0.985000  "
      ]
     },
     "execution_count": 119,
     "metadata": {},
     "output_type": "execute_result"
    }
   ],
   "source": [
    "df_bank_test.describe()"
   ]
  },
  {
   "cell_type": "markdown",
   "id": "d38028ec",
   "metadata": {},
   "source": [
    "### Data Test Preprocessing"
   ]
  },
  {
   "cell_type": "code",
   "execution_count": 120,
   "id": "bfbf7c0e",
   "metadata": {
    "ExecuteTime": {
     "end_time": "2022-11-18T14:29:19.300783Z",
     "start_time": "2022-11-18T14:29:19.287782Z"
    }
   },
   "outputs": [],
   "source": [
    "df_bank_test_final=df_bank_test.copy()"
   ]
  },
  {
   "cell_type": "code",
   "execution_count": 121,
   "id": "1a8f0186",
   "metadata": {
    "ExecuteTime": {
     "end_time": "2022-11-18T14:29:19.315783Z",
     "start_time": "2022-11-18T14:29:19.302783Z"
    }
   },
   "outputs": [
    {
     "data": {
      "text/html": [
       "<div>\n",
       "<style scoped>\n",
       "    .dataframe tbody tr th:only-of-type {\n",
       "        vertical-align: middle;\n",
       "    }\n",
       "\n",
       "    .dataframe tbody tr th {\n",
       "        vertical-align: top;\n",
       "    }\n",
       "\n",
       "    .dataframe thead th {\n",
       "        text-align: right;\n",
       "    }\n",
       "</style>\n",
       "<table border=\"1\" class=\"dataframe\">\n",
       "  <thead>\n",
       "    <tr style=\"text-align: right;\">\n",
       "      <th></th>\n",
       "      <th>Total_Trans_Ct</th>\n",
       "      <th>Total_Ct_Chng_Q4_Q1</th>\n",
       "      <th>Total_Revolving_Bal</th>\n",
       "      <th>Contacts_Count_12_mon</th>\n",
       "      <th>Avg_Utilization_Ratio</th>\n",
       "      <th>Total_Trans_Amt</th>\n",
       "      <th>Months_Inactive_12_mon</th>\n",
       "      <th>Total_Relationship_Count</th>\n",
       "      <th>Total_Amt_Chng_Q4_Q1</th>\n",
       "    </tr>\n",
       "    <tr>\n",
       "      <th>CLIENTNUM</th>\n",
       "      <th></th>\n",
       "      <th></th>\n",
       "      <th></th>\n",
       "      <th></th>\n",
       "      <th></th>\n",
       "      <th></th>\n",
       "      <th></th>\n",
       "      <th></th>\n",
       "      <th></th>\n",
       "    </tr>\n",
       "  </thead>\n",
       "  <tbody>\n",
       "    <tr>\n",
       "      <th>716470683</th>\n",
       "      <td>77</td>\n",
       "      <td>0.711</td>\n",
       "      <td>2048</td>\n",
       "      <td>3</td>\n",
       "      <td>0.099</td>\n",
       "      <td>4827</td>\n",
       "      <td>1</td>\n",
       "      <td>3</td>\n",
       "      <td>0.676</td>\n",
       "    </tr>\n",
       "    <tr>\n",
       "      <th>720328983</th>\n",
       "      <td>64</td>\n",
       "      <td>0.829</td>\n",
       "      <td>0</td>\n",
       "      <td>3</td>\n",
       "      <td>0.000</td>\n",
       "      <td>7636</td>\n",
       "      <td>3</td>\n",
       "      <td>4</td>\n",
       "      <td>0.840</td>\n",
       "    </tr>\n",
       "    <tr>\n",
       "      <th>716390958</th>\n",
       "      <td>47</td>\n",
       "      <td>0.424</td>\n",
       "      <td>0</td>\n",
       "      <td>3</td>\n",
       "      <td>0.000</td>\n",
       "      <td>1697</td>\n",
       "      <td>4</td>\n",
       "      <td>1</td>\n",
       "      <td>0.550</td>\n",
       "    </tr>\n",
       "    <tr>\n",
       "      <th>708741633</th>\n",
       "      <td>41</td>\n",
       "      <td>0.367</td>\n",
       "      <td>0</td>\n",
       "      <td>4</td>\n",
       "      <td>0.000</td>\n",
       "      <td>1771</td>\n",
       "      <td>3</td>\n",
       "      <td>6</td>\n",
       "      <td>0.434</td>\n",
       "    </tr>\n",
       "    <tr>\n",
       "      <th>715492983</th>\n",
       "      <td>62</td>\n",
       "      <td>0.879</td>\n",
       "      <td>2517</td>\n",
       "      <td>4</td>\n",
       "      <td>0.337</td>\n",
       "      <td>4348</td>\n",
       "      <td>2</td>\n",
       "      <td>4</td>\n",
       "      <td>0.900</td>\n",
       "    </tr>\n",
       "  </tbody>\n",
       "</table>\n",
       "</div>"
      ],
      "text/plain": [
       "           Total_Trans_Ct  Total_Ct_Chng_Q4_Q1  Total_Revolving_Bal  \\\n",
       "CLIENTNUM                                                             \n",
       "716470683              77                0.711                 2048   \n",
       "720328983              64                0.829                    0   \n",
       "716390958              47                0.424                    0   \n",
       "708741633              41                0.367                    0   \n",
       "715492983              62                0.879                 2517   \n",
       "\n",
       "           Contacts_Count_12_mon  Avg_Utilization_Ratio  Total_Trans_Amt  \\\n",
       "CLIENTNUM                                                                  \n",
       "716470683                      3                  0.099             4827   \n",
       "720328983                      3                  0.000             7636   \n",
       "716390958                      3                  0.000             1697   \n",
       "708741633                      4                  0.000             1771   \n",
       "715492983                      4                  0.337             4348   \n",
       "\n",
       "           Months_Inactive_12_mon  Total_Relationship_Count  \\\n",
       "CLIENTNUM                                                     \n",
       "716470683                       1                         3   \n",
       "720328983                       3                         4   \n",
       "716390958                       4                         1   \n",
       "708741633                       3                         6   \n",
       "715492983                       2                         4   \n",
       "\n",
       "           Total_Amt_Chng_Q4_Q1  \n",
       "CLIENTNUM                        \n",
       "716470683                 0.676  \n",
       "720328983                 0.840  \n",
       "716390958                 0.550  \n",
       "708741633                 0.434  \n",
       "715492983                 0.900  "
      ]
     },
     "execution_count": 121,
     "metadata": {},
     "output_type": "execute_result"
    }
   ],
   "source": [
    "df_bank_test_final=df_bank_test_final.loc[:,['Total_Trans_Ct','Total_Ct_Chng_Q4_Q1','Total_Revolving_Bal','Contacts_Count_12_mon','Avg_Utilization_Ratio',\n",
    "              'Total_Trans_Amt','Months_Inactive_12_mon','Total_Relationship_Count','Total_Amt_Chng_Q4_Q1']]\n",
    "df_bank_test_final.head()"
   ]
  },
  {
   "cell_type": "code",
   "execution_count": 122,
   "id": "3181f7e0",
   "metadata": {
    "ExecuteTime": {
     "end_time": "2022-11-18T14:29:19.331784Z",
     "start_time": "2022-11-18T14:29:19.318782Z"
    }
   },
   "outputs": [],
   "source": [
    "#scaling\n",
    "scaler_new = StandardScaler()\n",
    "df_bank_test_final = pd.DataFrame(scaler_new.fit_transform(df_bank_test_final), columns=df_bank_test_final.columns)"
   ]
  },
  {
   "cell_type": "markdown",
   "id": "7dda1aa5",
   "metadata": {},
   "source": [
    "### Modelling"
   ]
  },
  {
   "cell_type": "code",
   "execution_count": 123,
   "id": "b1f85956",
   "metadata": {
    "ExecuteTime": {
     "end_time": "2022-11-18T14:29:19.347784Z",
     "start_time": "2022-11-18T14:29:19.336802Z"
    }
   },
   "outputs": [],
   "source": [
    "#predict our testing data\n",
    "y_pred_rf_test=classifier_rf.predict(df_bank_test_final)\n"
   ]
  },
  {
   "cell_type": "code",
   "execution_count": 124,
   "id": "56cb6335",
   "metadata": {
    "ExecuteTime": {
     "end_time": "2022-11-18T14:29:19.363379Z",
     "start_time": "2022-11-18T14:29:19.349784Z"
    }
   },
   "outputs": [
    {
     "data": {
      "text/plain": [
       "array([0, 1, 1, ..., 1, 0, 1], dtype=int64)"
      ]
     },
     "execution_count": 124,
     "metadata": {},
     "output_type": "execute_result"
    }
   ],
   "source": [
    "y_pred_rf_test"
   ]
  },
  {
   "cell_type": "markdown",
   "id": "f7a862b5",
   "metadata": {},
   "source": [
    "### Export Prediction to csv"
   ]
  },
  {
   "cell_type": "code",
   "execution_count": 125,
   "id": "cf38b0fb",
   "metadata": {
    "ExecuteTime": {
     "end_time": "2022-11-18T14:29:19.379146Z",
     "start_time": "2022-11-18T14:29:19.365378Z"
    }
   },
   "outputs": [],
   "source": [
    "data_predict=pd.read_csv('BankChurn_test.csv', index_col=0)"
   ]
  },
  {
   "cell_type": "code",
   "execution_count": 126,
   "id": "6cef4f0f",
   "metadata": {
    "ExecuteTime": {
     "end_time": "2022-11-18T14:29:19.394692Z",
     "start_time": "2022-11-18T14:29:19.381143Z"
    }
   },
   "outputs": [],
   "source": [
    "data_predict['label_predict_Attrition']=y_pred_rf_test"
   ]
  },
  {
   "cell_type": "code",
   "execution_count": 127,
   "id": "281dbd6b",
   "metadata": {
    "ExecuteTime": {
     "end_time": "2022-11-18T14:29:19.410688Z",
     "start_time": "2022-11-18T14:29:19.396690Z"
    }
   },
   "outputs": [
    {
     "data": {
      "text/plain": [
       "0    764\n",
       "1    249\n",
       "Name: label_predict_Attrition, dtype: int64"
      ]
     },
     "execution_count": 127,
     "metadata": {},
     "output_type": "execute_result"
    }
   ],
   "source": [
    "data_predict['label_predict_Attrition'].value_counts()"
   ]
  },
  {
   "cell_type": "code",
   "execution_count": 128,
   "id": "d765e8a1",
   "metadata": {
    "ExecuteTime": {
     "end_time": "2022-11-18T14:29:19.442687Z",
     "start_time": "2022-11-18T14:29:19.412686Z"
    }
   },
   "outputs": [
    {
     "data": {
      "text/html": [
       "<div>\n",
       "<style scoped>\n",
       "    .dataframe tbody tr th:only-of-type {\n",
       "        vertical-align: middle;\n",
       "    }\n",
       "\n",
       "    .dataframe tbody tr th {\n",
       "        vertical-align: top;\n",
       "    }\n",
       "\n",
       "    .dataframe thead th {\n",
       "        text-align: right;\n",
       "    }\n",
       "</style>\n",
       "<table border=\"1\" class=\"dataframe\">\n",
       "  <thead>\n",
       "    <tr style=\"text-align: right;\">\n",
       "      <th></th>\n",
       "      <th>Customer_Age</th>\n",
       "      <th>Gender</th>\n",
       "      <th>Dependent_count</th>\n",
       "      <th>Education_Level</th>\n",
       "      <th>Marital_Status</th>\n",
       "      <th>Income_Category</th>\n",
       "      <th>Card_Category</th>\n",
       "      <th>Months_on_book</th>\n",
       "      <th>Total_Relationship_Count</th>\n",
       "      <th>Months_Inactive_12_mon</th>\n",
       "      <th>...</th>\n",
       "      <th>Credit_Limit</th>\n",
       "      <th>Total_Revolving_Bal</th>\n",
       "      <th>Avg_Open_To_Buy</th>\n",
       "      <th>Total_Amt_Chng_Q4_Q1</th>\n",
       "      <th>Total_Trans_Amt</th>\n",
       "      <th>Total_Trans_Ct</th>\n",
       "      <th>Total_Ct_Chng_Q4_Q1</th>\n",
       "      <th>Avg_Utilization_Ratio</th>\n",
       "      <th>label_predict_Attrition</th>\n",
       "      <th>Predict_Attrition</th>\n",
       "    </tr>\n",
       "    <tr>\n",
       "      <th>CLIENTNUM</th>\n",
       "      <th></th>\n",
       "      <th></th>\n",
       "      <th></th>\n",
       "      <th></th>\n",
       "      <th></th>\n",
       "      <th></th>\n",
       "      <th></th>\n",
       "      <th></th>\n",
       "      <th></th>\n",
       "      <th></th>\n",
       "      <th></th>\n",
       "      <th></th>\n",
       "      <th></th>\n",
       "      <th></th>\n",
       "      <th></th>\n",
       "      <th></th>\n",
       "      <th></th>\n",
       "      <th></th>\n",
       "      <th></th>\n",
       "      <th></th>\n",
       "      <th></th>\n",
       "    </tr>\n",
       "  </thead>\n",
       "  <tbody>\n",
       "    <tr>\n",
       "      <th>716470683</th>\n",
       "      <td>48</td>\n",
       "      <td>F</td>\n",
       "      <td>3</td>\n",
       "      <td>Post-Graduate</td>\n",
       "      <td>Married</td>\n",
       "      <td>Unknown</td>\n",
       "      <td>Blue</td>\n",
       "      <td>36</td>\n",
       "      <td>3</td>\n",
       "      <td>1</td>\n",
       "      <td>...</td>\n",
       "      <td>20631.0</td>\n",
       "      <td>2048</td>\n",
       "      <td>18583.0</td>\n",
       "      <td>0.676</td>\n",
       "      <td>4827</td>\n",
       "      <td>77</td>\n",
       "      <td>0.711</td>\n",
       "      <td>0.099</td>\n",
       "      <td>0</td>\n",
       "      <td>Existing Customer</td>\n",
       "    </tr>\n",
       "    <tr>\n",
       "      <th>720328983</th>\n",
       "      <td>52</td>\n",
       "      <td>F</td>\n",
       "      <td>5</td>\n",
       "      <td>Unknown</td>\n",
       "      <td>Married</td>\n",
       "      <td>Less than $40K</td>\n",
       "      <td>Blue</td>\n",
       "      <td>36</td>\n",
       "      <td>4</td>\n",
       "      <td>3</td>\n",
       "      <td>...</td>\n",
       "      <td>9611.0</td>\n",
       "      <td>0</td>\n",
       "      <td>9611.0</td>\n",
       "      <td>0.840</td>\n",
       "      <td>7636</td>\n",
       "      <td>64</td>\n",
       "      <td>0.829</td>\n",
       "      <td>0.000</td>\n",
       "      <td>1</td>\n",
       "      <td>Attrited Customer</td>\n",
       "    </tr>\n",
       "    <tr>\n",
       "      <th>716390958</th>\n",
       "      <td>45</td>\n",
       "      <td>M</td>\n",
       "      <td>4</td>\n",
       "      <td>Unknown</td>\n",
       "      <td>Married</td>\n",
       "      <td>$120K +</td>\n",
       "      <td>Blue</td>\n",
       "      <td>31</td>\n",
       "      <td>1</td>\n",
       "      <td>4</td>\n",
       "      <td>...</td>\n",
       "      <td>26107.0</td>\n",
       "      <td>0</td>\n",
       "      <td>26107.0</td>\n",
       "      <td>0.550</td>\n",
       "      <td>1697</td>\n",
       "      <td>47</td>\n",
       "      <td>0.424</td>\n",
       "      <td>0.000</td>\n",
       "      <td>1</td>\n",
       "      <td>Attrited Customer</td>\n",
       "    </tr>\n",
       "    <tr>\n",
       "      <th>708741633</th>\n",
       "      <td>52</td>\n",
       "      <td>M</td>\n",
       "      <td>4</td>\n",
       "      <td>High School</td>\n",
       "      <td>Married</td>\n",
       "      <td>$60K - $80K</td>\n",
       "      <td>Blue</td>\n",
       "      <td>44</td>\n",
       "      <td>6</td>\n",
       "      <td>3</td>\n",
       "      <td>...</td>\n",
       "      <td>4153.0</td>\n",
       "      <td>0</td>\n",
       "      <td>4153.0</td>\n",
       "      <td>0.434</td>\n",
       "      <td>1771</td>\n",
       "      <td>41</td>\n",
       "      <td>0.367</td>\n",
       "      <td>0.000</td>\n",
       "      <td>1</td>\n",
       "      <td>Attrited Customer</td>\n",
       "    </tr>\n",
       "    <tr>\n",
       "      <th>715492983</th>\n",
       "      <td>40</td>\n",
       "      <td>M</td>\n",
       "      <td>3</td>\n",
       "      <td>Post-Graduate</td>\n",
       "      <td>Married</td>\n",
       "      <td>$120K +</td>\n",
       "      <td>Blue</td>\n",
       "      <td>36</td>\n",
       "      <td>4</td>\n",
       "      <td>2</td>\n",
       "      <td>...</td>\n",
       "      <td>7464.0</td>\n",
       "      <td>2517</td>\n",
       "      <td>4947.0</td>\n",
       "      <td>0.900</td>\n",
       "      <td>4348</td>\n",
       "      <td>62</td>\n",
       "      <td>0.879</td>\n",
       "      <td>0.337</td>\n",
       "      <td>0</td>\n",
       "      <td>Existing Customer</td>\n",
       "    </tr>\n",
       "    <tr>\n",
       "      <th>...</th>\n",
       "      <td>...</td>\n",
       "      <td>...</td>\n",
       "      <td>...</td>\n",
       "      <td>...</td>\n",
       "      <td>...</td>\n",
       "      <td>...</td>\n",
       "      <td>...</td>\n",
       "      <td>...</td>\n",
       "      <td>...</td>\n",
       "      <td>...</td>\n",
       "      <td>...</td>\n",
       "      <td>...</td>\n",
       "      <td>...</td>\n",
       "      <td>...</td>\n",
       "      <td>...</td>\n",
       "      <td>...</td>\n",
       "      <td>...</td>\n",
       "      <td>...</td>\n",
       "      <td>...</td>\n",
       "      <td>...</td>\n",
       "      <td>...</td>\n",
       "    </tr>\n",
       "    <tr>\n",
       "      <th>711871758</th>\n",
       "      <td>30</td>\n",
       "      <td>F</td>\n",
       "      <td>1</td>\n",
       "      <td>Graduate</td>\n",
       "      <td>Married</td>\n",
       "      <td>Less than $40K</td>\n",
       "      <td>Blue</td>\n",
       "      <td>36</td>\n",
       "      <td>2</td>\n",
       "      <td>2</td>\n",
       "      <td>...</td>\n",
       "      <td>2905.0</td>\n",
       "      <td>2517</td>\n",
       "      <td>388.0</td>\n",
       "      <td>0.725</td>\n",
       "      <td>2487</td>\n",
       "      <td>39</td>\n",
       "      <td>0.393</td>\n",
       "      <td>0.866</td>\n",
       "      <td>1</td>\n",
       "      <td>Attrited Customer</td>\n",
       "    </tr>\n",
       "    <tr>\n",
       "      <th>780206958</th>\n",
       "      <td>49</td>\n",
       "      <td>M</td>\n",
       "      <td>4</td>\n",
       "      <td>Graduate</td>\n",
       "      <td>Married</td>\n",
       "      <td>$60K - $80K</td>\n",
       "      <td>Blue</td>\n",
       "      <td>39</td>\n",
       "      <td>3</td>\n",
       "      <td>2</td>\n",
       "      <td>...</td>\n",
       "      <td>5937.0</td>\n",
       "      <td>2120</td>\n",
       "      <td>3817.0</td>\n",
       "      <td>0.654</td>\n",
       "      <td>4228</td>\n",
       "      <td>70</td>\n",
       "      <td>0.750</td>\n",
       "      <td>0.357</td>\n",
       "      <td>0</td>\n",
       "      <td>Existing Customer</td>\n",
       "    </tr>\n",
       "    <tr>\n",
       "      <th>712222758</th>\n",
       "      <td>38</td>\n",
       "      <td>F</td>\n",
       "      <td>3</td>\n",
       "      <td>Graduate</td>\n",
       "      <td>Married</td>\n",
       "      <td>Less than $40K</td>\n",
       "      <td>Blue</td>\n",
       "      <td>36</td>\n",
       "      <td>3</td>\n",
       "      <td>2</td>\n",
       "      <td>...</td>\n",
       "      <td>2300.0</td>\n",
       "      <td>0</td>\n",
       "      <td>2300.0</td>\n",
       "      <td>0.703</td>\n",
       "      <td>2500</td>\n",
       "      <td>47</td>\n",
       "      <td>0.119</td>\n",
       "      <td>0.000</td>\n",
       "      <td>1</td>\n",
       "      <td>Attrited Customer</td>\n",
       "    </tr>\n",
       "    <tr>\n",
       "      <th>780653208</th>\n",
       "      <td>47</td>\n",
       "      <td>F</td>\n",
       "      <td>3</td>\n",
       "      <td>College</td>\n",
       "      <td>Married</td>\n",
       "      <td>Less than $40K</td>\n",
       "      <td>Blue</td>\n",
       "      <td>36</td>\n",
       "      <td>5</td>\n",
       "      <td>4</td>\n",
       "      <td>...</td>\n",
       "      <td>3300.0</td>\n",
       "      <td>2517</td>\n",
       "      <td>783.0</td>\n",
       "      <td>0.940</td>\n",
       "      <td>3784</td>\n",
       "      <td>55</td>\n",
       "      <td>1.115</td>\n",
       "      <td>0.763</td>\n",
       "      <td>0</td>\n",
       "      <td>Existing Customer</td>\n",
       "    </tr>\n",
       "    <tr>\n",
       "      <th>778968408</th>\n",
       "      <td>39</td>\n",
       "      <td>M</td>\n",
       "      <td>2</td>\n",
       "      <td>Doctorate</td>\n",
       "      <td>Single</td>\n",
       "      <td>$60K - $80K</td>\n",
       "      <td>Blue</td>\n",
       "      <td>27</td>\n",
       "      <td>4</td>\n",
       "      <td>1</td>\n",
       "      <td>...</td>\n",
       "      <td>5341.0</td>\n",
       "      <td>0</td>\n",
       "      <td>5341.0</td>\n",
       "      <td>0.771</td>\n",
       "      <td>1955</td>\n",
       "      <td>47</td>\n",
       "      <td>0.808</td>\n",
       "      <td>0.000</td>\n",
       "      <td>1</td>\n",
       "      <td>Attrited Customer</td>\n",
       "    </tr>\n",
       "  </tbody>\n",
       "</table>\n",
       "<p>1013 rows × 21 columns</p>\n",
       "</div>"
      ],
      "text/plain": [
       "           Customer_Age Gender  Dependent_count Education_Level  \\\n",
       "CLIENTNUM                                                         \n",
       "716470683            48      F                3   Post-Graduate   \n",
       "720328983            52      F                5         Unknown   \n",
       "716390958            45      M                4         Unknown   \n",
       "708741633            52      M                4     High School   \n",
       "715492983            40      M                3   Post-Graduate   \n",
       "...                 ...    ...              ...             ...   \n",
       "711871758            30      F                1        Graduate   \n",
       "780206958            49      M                4        Graduate   \n",
       "712222758            38      F                3        Graduate   \n",
       "780653208            47      F                3         College   \n",
       "778968408            39      M                2       Doctorate   \n",
       "\n",
       "          Marital_Status Income_Category Card_Category  Months_on_book  \\\n",
       "CLIENTNUM                                                                \n",
       "716470683        Married         Unknown          Blue              36   \n",
       "720328983        Married  Less than $40K          Blue              36   \n",
       "716390958        Married         $120K +          Blue              31   \n",
       "708741633        Married     $60K - $80K          Blue              44   \n",
       "715492983        Married         $120K +          Blue              36   \n",
       "...                  ...             ...           ...             ...   \n",
       "711871758        Married  Less than $40K          Blue              36   \n",
       "780206958        Married     $60K - $80K          Blue              39   \n",
       "712222758        Married  Less than $40K          Blue              36   \n",
       "780653208        Married  Less than $40K          Blue              36   \n",
       "778968408         Single     $60K - $80K          Blue              27   \n",
       "\n",
       "           Total_Relationship_Count  Months_Inactive_12_mon  ...  \\\n",
       "CLIENTNUM                                                    ...   \n",
       "716470683                         3                       1  ...   \n",
       "720328983                         4                       3  ...   \n",
       "716390958                         1                       4  ...   \n",
       "708741633                         6                       3  ...   \n",
       "715492983                         4                       2  ...   \n",
       "...                             ...                     ...  ...   \n",
       "711871758                         2                       2  ...   \n",
       "780206958                         3                       2  ...   \n",
       "712222758                         3                       2  ...   \n",
       "780653208                         5                       4  ...   \n",
       "778968408                         4                       1  ...   \n",
       "\n",
       "           Credit_Limit  Total_Revolving_Bal  Avg_Open_To_Buy  \\\n",
       "CLIENTNUM                                                       \n",
       "716470683       20631.0                 2048          18583.0   \n",
       "720328983        9611.0                    0           9611.0   \n",
       "716390958       26107.0                    0          26107.0   \n",
       "708741633        4153.0                    0           4153.0   \n",
       "715492983        7464.0                 2517           4947.0   \n",
       "...                 ...                  ...              ...   \n",
       "711871758        2905.0                 2517            388.0   \n",
       "780206958        5937.0                 2120           3817.0   \n",
       "712222758        2300.0                    0           2300.0   \n",
       "780653208        3300.0                 2517            783.0   \n",
       "778968408        5341.0                    0           5341.0   \n",
       "\n",
       "           Total_Amt_Chng_Q4_Q1  Total_Trans_Amt  Total_Trans_Ct  \\\n",
       "CLIENTNUM                                                          \n",
       "716470683                 0.676             4827              77   \n",
       "720328983                 0.840             7636              64   \n",
       "716390958                 0.550             1697              47   \n",
       "708741633                 0.434             1771              41   \n",
       "715492983                 0.900             4348              62   \n",
       "...                         ...              ...             ...   \n",
       "711871758                 0.725             2487              39   \n",
       "780206958                 0.654             4228              70   \n",
       "712222758                 0.703             2500              47   \n",
       "780653208                 0.940             3784              55   \n",
       "778968408                 0.771             1955              47   \n",
       "\n",
       "           Total_Ct_Chng_Q4_Q1  Avg_Utilization_Ratio  \\\n",
       "CLIENTNUM                                               \n",
       "716470683                0.711                  0.099   \n",
       "720328983                0.829                  0.000   \n",
       "716390958                0.424                  0.000   \n",
       "708741633                0.367                  0.000   \n",
       "715492983                0.879                  0.337   \n",
       "...                        ...                    ...   \n",
       "711871758                0.393                  0.866   \n",
       "780206958                0.750                  0.357   \n",
       "712222758                0.119                  0.000   \n",
       "780653208                1.115                  0.763   \n",
       "778968408                0.808                  0.000   \n",
       "\n",
       "           label_predict_Attrition  Predict_Attrition  \n",
       "CLIENTNUM                                              \n",
       "716470683                        0  Existing Customer  \n",
       "720328983                        1  Attrited Customer  \n",
       "716390958                        1  Attrited Customer  \n",
       "708741633                        1  Attrited Customer  \n",
       "715492983                        0  Existing Customer  \n",
       "...                            ...                ...  \n",
       "711871758                        1  Attrited Customer  \n",
       "780206958                        0  Existing Customer  \n",
       "712222758                        1  Attrited Customer  \n",
       "780653208                        0  Existing Customer  \n",
       "778968408                        1  Attrited Customer  \n",
       "\n",
       "[1013 rows x 21 columns]"
      ]
     },
     "execution_count": 128,
     "metadata": {},
     "output_type": "execute_result"
    }
   ],
   "source": [
    "data_predict['Predict_Attrition']=data_predict['label_predict_Attrition'].map({0:'Existing Customer',1:'Attrited Customer'})\n",
    "data_predict"
   ]
  },
  {
   "cell_type": "code",
   "execution_count": 129,
   "id": "84a90901",
   "metadata": {
    "ExecuteTime": {
     "end_time": "2022-11-18T14:29:19.474701Z",
     "start_time": "2022-11-18T14:29:19.447705Z"
    }
   },
   "outputs": [],
   "source": [
    "data_predict.to_csv('data_predict.csv', index = False)"
   ]
  },
  {
   "cell_type": "code",
   "execution_count": null,
   "id": "2fa40033",
   "metadata": {},
   "outputs": [],
   "source": []
  }
 ],
 "metadata": {
  "kernelspec": {
   "display_name": "Python 3 (ipykernel)",
   "language": "python",
   "name": "python3"
  },
  "language_info": {
   "codemirror_mode": {
    "name": "ipython",
    "version": 3
   },
   "file_extension": ".py",
   "mimetype": "text/x-python",
   "name": "python",
   "nbconvert_exporter": "python",
   "pygments_lexer": "ipython3",
   "version": "3.9.12"
  },
  "toc": {
   "base_numbering": 1,
   "nav_menu": {},
   "number_sections": true,
   "sideBar": true,
   "skip_h1_title": false,
   "title_cell": "Table of Contents",
   "title_sidebar": "Contents",
   "toc_cell": false,
   "toc_position": {
    "height": "calc(100% - 180px)",
    "left": "10px",
    "top": "150px",
    "width": "274.167px"
   },
   "toc_section_display": true,
   "toc_window_display": true
  }
 },
 "nbformat": 4,
 "nbformat_minor": 5
}
